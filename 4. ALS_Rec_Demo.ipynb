{
 "cells": [
  {
   "cell_type": "markdown",
   "metadata": {},
   "source": [
    "# ALS Based Recommender Systems"
   ]
  },
  {
   "cell_type": "markdown",
   "metadata": {},
   "source": [
    "---"
   ]
  },
  {
   "cell_type": "markdown",
   "metadata": {},
   "source": [
    "## prefilter_items function"
   ]
  },
  {
   "cell_type": "code",
   "execution_count": 1,
   "metadata": {},
   "outputs": [],
   "source": [
    "# Demo func at src/utils.py\n",
    "# -------------------------\n",
    "\n",
    "\n",
    "# def prefilter_items_(data, take_n_popular=5000, margin_slice_rate=0.9):\n",
    "    \n",
    "#     \"\"\"Предфильтрация товаров\"\"\"\n",
    "    \n",
    "#     # рачсет цены единицы товара\n",
    "#     data['price'] = data['sales_value'] / data['quantity']\n",
    "    \n",
    "#     # 1. Удаление товаров, со средней ценой < 1$\n",
    "#     data = data[data['price'] > 1]\n",
    "    \n",
    "#     # 2. Удаление товаров со средней ценой > 30$\n",
    "#     data = data[data['price'] < 30]\n",
    "    \n",
    "#     # 3. Удаление 10% товаров c наименьшей выручкой (сдвигает минимум выручки с 1.1$ до 94.8$ для unsplitted data)\n",
    "#     marginality = data.groupby('item_id')['sales_value'].sum().reset_index()\n",
    "#     ten_percent_slice_idx = int(marginality.shape[0] * margin_slice_rate)\n",
    "\n",
    "#     top_margin = marginality.sort_values('sales_value', ascending=False)[:ten_percent_slice_idx].item_id.tolist()\n",
    "#     data = data[data['item_id'].isin(top_margin)]\n",
    "    \n",
    "#     # 4. Выбор топ-N самых популярных товаров (N = take_n_popular)\n",
    "#     popularity = data.groupby('item_id')['quantity'].sum().reset_index()\n",
    "#     top_popular = popularity.sort_values('quantity', ascending=False)[:take_n_popular].item_id.tolist()\n",
    "#     data = data[data['item_id'].isin(top_popular)]\n",
    "    \n",
    "#     return data\n",
    "    "
   ]
  },
  {
   "cell_type": "code",
   "execution_count": 2,
   "metadata": {},
   "outputs": [],
   "source": [
    "###############################\n",
    "# Import libs \n",
    "###############################\n",
    "\n",
    "import pandas as pd\n",
    "import numpy as np\n",
    "import matplotlib.pyplot as plt\n",
    "%matplotlib inline\n",
    "\n",
    "# Для работы с матрицами\n",
    "from scipy.sparse import csr_matrix\n",
    "\n",
    "# Матричная факторизация\n",
    "from implicit.als import AlternatingLeastSquares\n",
    "from implicit.nearest_neighbours import ItemItemRecommender  # нужен для одного трюка\n",
    "from implicit.nearest_neighbours import bm25_weight, tfidf_weight\n",
    "\n",
    "# from implicit.bpr import BayesianPersonalizedRanking\n",
    "\n",
    "import os, sys\n",
    "\n",
    "module_path = os.path.abspath(os.path.join(os.pardir))\n",
    "if module_path not in sys.path:\n",
    "    sys.path.append(module_path)\n",
    "    \n",
    "from src.metrics import precision_at_k, recall_at_k\n",
    "from src.utils import *  # prefilter_items"
   ]
  },
  {
   "cell_type": "code",
   "execution_count": 3,
   "metadata": {},
   "outputs": [],
   "source": [
    "###############################\n",
    "# Settings && Constants \n",
    "###############################\n",
    "\n",
    "RAW_DATA_PATH = './data/retail_train.csv'\n",
    "RAW_FEATURES_PATH = './data/product.csv'\n",
    "TEST_SIZE_WEEKS = 3\n",
    "N_POPULAR_ITEMS = 5000\n",
    "NUM_THREADS = 8\n"
   ]
  },
  {
   "cell_type": "code",
   "execution_count": 4,
   "metadata": {},
   "outputs": [],
   "source": [
    "\n",
    "def get_data_splits(data_path, test_weeks_split):\n",
    "    \n",
    "    \"\"\"\n",
    "    Data base columns:\n",
    "\n",
    "    ['user_id', 'basket_id', 'day',\n",
    "    'item_id', 'quantity', 'sales_value',\n",
    "    'store_id', 'retail_disc', 'trans_time',\n",
    "    'week_no', 'coupon_disc','coupon_match_disc']\n",
    "    \"\"\"\n",
    "    print(\"Preparing raw data...\", end='')\n",
    "    data = pd.read_csv(RAW_DATA_PATH)\n",
    "\n",
    "    data_train = data[data['week_no'] < data['week_no'].max() - test_weeks_split]\n",
    "    data_test = data[data['week_no'] >= data['week_no'].max() - test_weeks_split]\n",
    "\n",
    "    # Warm start\n",
    "    train_items = data_train['item_id'].unique()\n",
    "    train_users = data_train['user_id'].unique()\n",
    "\n",
    "    data_test = data_test[data_test['item_id'].isin(train_items)]\n",
    "    data_test = data_test[data_test['user_id'].isin(train_users)]\n",
    "    \n",
    "    print('\\033[94mDone\\033[0m')\n",
    "    return data_train, data_test\n",
    "\n",
    "\n",
    "def get_features(features_path):\n",
    "    \n",
    "    \"\"\"\n",
    "    Features base columns:\n",
    "    \n",
    "    ['item_id', 'manufacturer', 'department', 'brand', \n",
    "    'commodity_desc', 'sub_commodity_desc', 'curr_size_of_product']\n",
    "    \"\"\"\n",
    "    \n",
    "    print(\"Preparing raw features...\", end='')\n",
    "    item_features = pd.read_csv(features_path)\n",
    "    item_features.columns = [col.lower() for col in item_features.columns]\n",
    "    item_features.rename(columns={'product_id': 'item_id'}, inplace=True)\n",
    "    \n",
    "    print('\\033[94mDone\\033[0m')\n",
    "    return item_features\n",
    "\n",
    "\n",
    "####  TODO migrate THIS to main class\n",
    "def get_user_item_matrix(df, value_pivot='quantity', agg='count'):\n",
    "    \n",
    "    \"\"\"Output:\n",
    "    pivot table over target field\n",
    "    formated for implicit func\n",
    "    \"\"\"  \n",
    "    \n",
    "    print(\"Preparing ui matrix...\", end='')\n",
    "    ui_matrix = pd.pivot_table(df, \n",
    "                                  index='user_id', columns='item_id', \n",
    "                                  values=value_pivot,\n",
    "                                  aggfunc=agg, \n",
    "                                  fill_value=0\n",
    "                                 )\n",
    "\n",
    "    ui_matrix = ui_matrix.astype(float) # необходимый тип матрицы для implicit\n",
    "    print('\\033[94mDone\\033[0m')\n",
    "    \n",
    "    return ui_matrix"
   ]
  },
  {
   "cell_type": "code",
   "execution_count": 5,
   "metadata": {},
   "outputs": [],
   "source": [
    "class MainRecommender_:\n",
    "    \n",
    "    \"\"\"ALS Rec system\n",
    "    \n",
    "    Input\n",
    "    -----\n",
    "    user_item_matrix: pd.DataFrame\n",
    "\n",
    "    \"\"\"\n",
    "    \n",
    "    def __init__(self, data, features, weighting=True):\n",
    "                \n",
    "        # Топ покупок каждого юзера\n",
    "        self.top_purchases = data.groupby(['user_id', 'item_id'])['quantity'].count().reset_index()\n",
    "        self.top_purchases.sort_values('quantity', ascending=False, inplace=True)\n",
    "#         self.top_purchases = self.top_purchases[self.top_purchases['item_id'] != 999999]\n",
    "\n",
    "\n",
    "        # Топ покупок по всему датасету\n",
    "        self.overall_top_purchases = data.groupby('item_id')['quantity'].count().reset_index()\n",
    "        self.overall_top_purchases.sort_values('quantity', ascending=False, inplace=True)\n",
    "#         self.overall_top_purchases = self.overall_top_purchases[self.overall_top_purchases['item_id'] != 999999]\n",
    "        self.overall_top_purchases = self.overall_top_purchases.item_id.tolist()\n",
    "        \n",
    "        self.user_item_matrix = self.prepare_matrix(data)  # pd.DataFrame\n",
    "        self.id_to_itemid, self.id_to_userid, \\\n",
    "                        self.itemid_to_id, self.userid_to_id = self.prepare_dicts(self.user_item_matrix)\n",
    "        \n",
    "        # List item_id == CTM\n",
    "        self.ctm = self.get_ctm(features)\n",
    "        self.ctm_itemid_to_id = {k: v for k, v in self.itemid_to_id.items() if k in self.ctm}\n",
    "        \n",
    "        \n",
    "        # Own recommender обучается до взвешивания матрицы\n",
    "        self.own_recommender = self.fit_own_recommender(self.user_item_matrix)\n",
    "        \n",
    "        if weighting:\n",
    "            self.user_item_matrix = bm25_weight(self.user_item_matrix.T).T\n",
    "            \n",
    "#         # формат saprse matrix\n",
    "        self.sparse_user_item = csr_matrix(self.user_item_matrix).T.tocsr()\n",
    "        \n",
    "        self.model = self.fit(self.user_item_matrix)\n",
    "        \n",
    "     \n",
    "    @staticmethod\n",
    "    def prepare_matrix(data, value_pivot='quantity', agg='count'): \n",
    "        \n",
    "        \n",
    "        \"\"\"Output:\n",
    "        pivot table over target field\n",
    "        formated for implicit func\n",
    "        \"\"\"\n",
    "            \n",
    "        print(\"Preparing ui matrix...\", end='')\n",
    "        ui_matrix = pd.pivot_table(data, \n",
    "                                      index='user_id', columns='item_id', \n",
    "                                      values=value_pivot,\n",
    "                                      aggfunc=agg, \n",
    "                                      fill_value=0\n",
    "                                     )\n",
    "\n",
    "        ui_matrix = ui_matrix.astype(float) # необходимый тип матрицы для implicit\n",
    "        print('\\033[94mDone\\033[0m')\n",
    "        \n",
    "        return ui_matrix\n",
    "    \n",
    "    @staticmethod\n",
    "    def prepare_dicts(user_item_matrix):\n",
    "        \"\"\"Подготавливает вспомогательные словари\"\"\"\n",
    "        \n",
    "        userids = user_item_matrix.index.values\n",
    "        itemids = user_item_matrix.columns.values\n",
    "\n",
    "        matrix_userids = np.arange(len(userids))\n",
    "        matrix_itemids = np.arange(len(itemids))\n",
    "\n",
    "        id_to_itemid = dict(zip(matrix_itemids, itemids))\n",
    "        id_to_userid = dict(zip(matrix_userids, userids))\n",
    "\n",
    "        itemid_to_id = dict(zip(itemids, matrix_itemids))\n",
    "        userid_to_id = dict(zip(userids, matrix_userids))\n",
    "        \n",
    "        return id_to_itemid, id_to_userid, itemid_to_id, userid_to_id\n",
    "    \n",
    "    @staticmethod\n",
    "    def get_ctm(item_features):\n",
    "        \n",
    "        # Dict {item_id: 0/1}\n",
    "        # Deprecated\n",
    "        # item_features['ctm'] = item_features['brand']=='Private'\n",
    "        # item_features['ctm'] = item_features['ctm'].astype('uint8')\n",
    "        # is_ctm = item_features[['item_id', 'ctm']].groupby(['item_id']).mean().to_dict()['ctm']\n",
    "        \n",
    "        # Dict {item_id: 1}\n",
    "        ctm_ids = item_features[item_features['brand']=='Private']['item_id'].unique()\n",
    "\n",
    "        return ctm_ids\n",
    "     \n",
    "    @staticmethod\n",
    "    def fit_own_recommender(user_item_matrix):\n",
    "        \"\"\"Обучает модель, которая рекомендует товары, среди товаров, купленных юзером\"\"\"\n",
    "    \n",
    "        own_recommender = ItemItemRecommender(K=1, num_threads=4)\n",
    "        own_recommender.fit(csr_matrix(user_item_matrix).T.tocsr())\n",
    "        \n",
    "        return own_recommender\n",
    "   \n",
    "\n",
    "    @staticmethod\n",
    "    def fit(user_item_matrix, n_factors=32, regularization=0.001, iterations=15, num_threads=8):\n",
    "        \"\"\"Обучает ALS\"\"\"\n",
    "        \n",
    "        model = AlternatingLeastSquares(factors=n_factors, \n",
    "                                             regularization=regularization,\n",
    "                                             iterations=iterations,  \n",
    "                                             num_threads=num_threads)\n",
    "        model.fit(csr_matrix(user_item_matrix).T.tocsr())\n",
    "        \n",
    "        return model\n",
    "    \n",
    "    \n",
    "    def _extend_with_top_popular(self, recommendations, N=5):\n",
    "        \n",
    "        \"\"\"Если кол-во рекоммендаций < N, то дополняем их топ-популярными\"\"\"\n",
    "        \n",
    "        if len(recommendations) < N:\n",
    "            recommendations.extend(self.overall_top_purchases[:N])\n",
    "            recommendations = recommendations[:N]\n",
    "        return recommendations\n",
    "    \n",
    "    \n",
    "    def get_similar_ctm_item(self, item_id):\n",
    "        \n",
    "        \"\"\"Находит товар, похожий на item_id\"\"\"\n",
    "        \n",
    "        res = None\n",
    "        \n",
    "        # Товар похож на себя -> рекомендуем 2 товара\n",
    "        recs = self.model.similar_items(self.itemid_to_id[item_id], N=100)\n",
    "        for rec in recs:\n",
    "            if rec[0] in self.ctm:\n",
    "                top_rec = recs[1][0]\n",
    "                res = self.id_to_itemid[top_rec]\n",
    "        top_rec = recs[1][0]\n",
    "        res = self.id_to_itemid[top_rec]\n",
    "        \n",
    "        return res\n",
    "\n",
    "\n",
    "    def get_recommendations(self, user, N=5, filter_=None):\n",
    "        \n",
    "        \n",
    "        res = [self.id_to_itemid[rec[0]] for rec in \n",
    "                    self.model.recommend(userid=self.userid_to_id[user], \n",
    "                                    user_items=self.sparse_user_item,   # на вход user-item matrix\n",
    "                                    N=N, \n",
    "                                    filter_already_liked_items=False, \n",
    "                                    filter_items=filter_, \n",
    "                                    recalculate_user=True)]\n",
    "        return res\n",
    "    \n",
    "\n",
    "    def get_own_recommendations(self, user, N=5):\n",
    "        \n",
    "        \"\"\"Рекомендуем товары среди тех, которые юзер уже купил\"\"\"\n",
    "        \n",
    "        return self.get_recommendations(user)\n",
    "\n",
    "    \n",
    "    \n",
    "    def get_similar_items_recommendation(self, user, N=5):\n",
    "        \n",
    "        \"\"\"Рекомендуем товары, похожие на топ-N купленных юзером товаров\"\"\"\n",
    "        \n",
    "        # 1. топ-N покупок юзера по не-СТМ товарам с сортировкой по кол-ву\n",
    "        top_user_nonctm_purchases = self.top_purchases[self.top_purchases['user_id'] == user]\\\n",
    "                                               [~self.top_purchases['item_id'].isin(self.ctm)][:N]\n",
    "                \n",
    "        # 2. Для каждого товара по эмбеддингам находим ближайший СТМ\n",
    "        res = top_user_nonctm_purchases['item_id'].apply(lambda x: self.get_similar_ctm_item(x)).tolist()\n",
    "\n",
    "        return res\n",
    "    \n",
    "\n",
    "    def get_similar_users_recommendation(self, user, N=5):\n",
    "        \n",
    "        \"\"\"Рекомендуем топ-N товаров, среди купленных похожими юзерами\"\"\"\n",
    "        \n",
    "        res = []\n",
    "\n",
    "        # Находим топ-N похожих пользователей\n",
    "        similar_users = self.model.similar_users(self.userid_to_id[user], N=N+1)\n",
    "        similar_users = [rec[0] for rec in similar_users]\n",
    "        similar_users = similar_users[1:]\n",
    "\n",
    "        for user in similar_users:\n",
    "            res.extend(self.get_own_recommendations(user, N=1))\n",
    "\n",
    "        res = self._extend_with_top_popular(res, N=N)\n",
    "\n",
    "        return res"
   ]
  },
  {
   "cell_type": "markdown",
   "metadata": {},
   "source": [
    "----"
   ]
  },
  {
   "cell_type": "code",
   "execution_count": 6,
   "metadata": {},
   "outputs": [],
   "source": [
    "from src.metrics import precision_at_k, recall_at_k\n",
    "from src.utils import prefilter_items\n",
    "from src.recommenders import MainRecommender\n",
    "\n"
   ]
  },
  {
   "cell_type": "code",
   "execution_count": 7,
   "metadata": {},
   "outputs": [
    {
     "name": "stdout",
     "output_type": "stream",
     "text": [
      "Preparing raw data...\u001b[94mDone\u001b[0m\n",
      "Preparing raw features...\u001b[94mDone\u001b[0m\n",
      "Prefilter items...Data reduced from: \u001b[91m86865\u001b[0m to: \u001b[91m5000\u001b[0m samples...\u001b[94mDone\u001b[0m\n",
      "Wall time: 3.44 s\n"
     ]
    }
   ],
   "source": [
    "%%time\n",
    "\n",
    "# Get data splits\n",
    "data_train, data_test = get_data_splits(RAW_DATA_PATH, TEST_SIZE_WEEKS)\n",
    "# Get feats\n",
    "item_features = get_features(RAW_FEATURES_PATH)\n",
    "\n",
    "# n_items_before = data_train['item_id'].nunique()\n",
    "data_train = prefilter_items(data_train, take_n_popular=N_POPULAR_ITEMS) # Prefilter routine"
   ]
  },
  {
   "cell_type": "code",
   "execution_count": 8,
   "metadata": {
    "scrolled": true
   },
   "outputs": [
    {
     "name": "stdout",
     "output_type": "stream",
     "text": [
      "Preparing ui matrix...\u001b[94mDone\u001b[0m\n"
     ]
    },
    {
     "data": {
      "application/vnd.jupyter.widget-view+json": {
       "model_id": "676f8636c68a40349b95afa7c4e4176f",
       "version_major": 2,
       "version_minor": 0
      },
      "text/plain": [
       "HBox(children=(FloatProgress(value=0.0, max=5000.0), HTML(value='')))"
      ]
     },
     "metadata": {},
     "output_type": "display_data"
    },
    {
     "name": "stderr",
     "output_type": "stream",
     "text": [
      "WARNING:root:OpenBLAS detected. Its highly recommend to set the environment variable 'export OPENBLAS_NUM_THREADS=1' to disable its internal multithreading\n"
     ]
    },
    {
     "name": "stdout",
     "output_type": "stream",
     "text": [
      "\n"
     ]
    },
    {
     "data": {
      "application/vnd.jupyter.widget-view+json": {
       "model_id": "dc82a06df4c643abaa6502ad59f9d753",
       "version_major": 2,
       "version_minor": 0
      },
      "text/plain": [
       "HBox(children=(FloatProgress(value=0.0, max=15.0), HTML(value='')))"
      ]
     },
     "metadata": {},
     "output_type": "display_data"
    },
    {
     "name": "stdout",
     "output_type": "stream",
     "text": [
      "\n",
      "Wall time: 5.42 s\n"
     ]
    }
   ],
   "source": [
    "%%time\n",
    "\n",
    "rec = MainRecommender(data_train, item_features)"
   ]
  },
  {
   "cell_type": "code",
   "execution_count": 11,
   "metadata": {},
   "outputs": [
    {
     "data": {
      "text/plain": [
       "True"
      ]
     },
     "execution_count": 11,
     "metadata": {},
     "output_type": "execute_result"
    }
   ],
   "source": [
    "rec.model.use_gpu"
   ]
  },
  {
   "cell_type": "code",
   "execution_count": 9,
   "metadata": {},
   "outputs": [
    {
     "data": {
      "text/plain": [
       "[1128812, 854852, 1004906, 981760, 961979]"
      ]
     },
     "execution_count": 9,
     "metadata": {},
     "output_type": "execute_result"
    }
   ],
   "source": [
    "rec.get_similar_users_recommendation(user=2000)[:5]"
   ]
  },
  {
   "cell_type": "code",
   "execution_count": 10,
   "metadata": {},
   "outputs": [
    {
     "data": {
      "text/plain": [
       "array([   26093,    26190,    26355, ..., 18244317, 18244391, 18253088],\n",
       "      dtype=int64)"
      ]
     },
     "execution_count": 10,
     "metadata": {},
     "output_type": "execute_result"
    }
   ],
   "source": [
    "rec.ctm"
   ]
  },
  {
   "cell_type": "code",
   "execution_count": null,
   "metadata": {},
   "outputs": [],
   "source": []
  }
 ],
 "metadata": {
  "kernelspec": {
   "display_name": "Python 3",
   "language": "python",
   "name": "python3"
  },
  "language_info": {
   "codemirror_mode": {
    "name": "ipython",
    "version": 3
   },
   "file_extension": ".py",
   "mimetype": "text/x-python",
   "name": "python",
   "nbconvert_exporter": "python",
   "pygments_lexer": "ipython3",
   "version": "3.7.6"
  }
 },
 "nbformat": 4,
 "nbformat_minor": 2
}
