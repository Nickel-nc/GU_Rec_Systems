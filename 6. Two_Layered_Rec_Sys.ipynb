{
 "cells": [
  {
   "cell_type": "markdown",
   "metadata": {},
   "source": [
    "# Two Layered Recommender Systems"
   ]
  },
  {
   "cell_type": "markdown",
   "metadata": {},
   "source": [
    "Код для src, utils, metrics вы можете скачать из [этого](https://github.com/geangohn/recsys-tutorial) github репозитория"
   ]
  },
  {
   "cell_type": "code",
   "execution_count": 1,
   "metadata": {},
   "outputs": [],
   "source": [
    "import pandas as pd\n",
    "import numpy as np\n",
    "import matplotlib.pyplot as plt\n",
    "%matplotlib inline\n",
    "\n",
    "# Для работы с матрицами\n",
    "from scipy.sparse import csr_matrix\n",
    "\n",
    "# Матричная факторизация\n",
    "from implicit import als\n",
    "import re\n",
    "import time\n",
    "\n",
    "# Модель второго уровня\n",
    "from lightgbm import LGBMClassifier\n",
    "\n",
    "import os, sys\n",
    "module_path = os.path.abspath(os.path.join(os.pardir))\n",
    "if module_path not in sys.path:\n",
    "    sys.path.append(module_path)\n",
    "\n",
    "# Написанные нами функции\n",
    "from src.metrics import precision_at_k, recall_at_k\n",
    "from src.utils import prefilter_items\n",
    "# from src.recommenders import MainRecommender"
   ]
  },
  {
   "cell_type": "code",
   "execution_count": 2,
   "metadata": {},
   "outputs": [
    {
     "data": {
      "text/html": [
       "<div>\n",
       "<style scoped>\n",
       "    .dataframe tbody tr th:only-of-type {\n",
       "        vertical-align: middle;\n",
       "    }\n",
       "\n",
       "    .dataframe tbody tr th {\n",
       "        vertical-align: top;\n",
       "    }\n",
       "\n",
       "    .dataframe thead th {\n",
       "        text-align: right;\n",
       "    }\n",
       "</style>\n",
       "<table border=\"1\" class=\"dataframe\">\n",
       "  <thead>\n",
       "    <tr style=\"text-align: right;\">\n",
       "      <th></th>\n",
       "      <th>user_id</th>\n",
       "      <th>basket_id</th>\n",
       "      <th>day</th>\n",
       "      <th>item_id</th>\n",
       "      <th>quantity</th>\n",
       "      <th>sales_value</th>\n",
       "      <th>store_id</th>\n",
       "      <th>retail_disc</th>\n",
       "      <th>trans_time</th>\n",
       "      <th>week_no</th>\n",
       "      <th>coupon_disc</th>\n",
       "      <th>coupon_match_disc</th>\n",
       "    </tr>\n",
       "  </thead>\n",
       "  <tbody>\n",
       "    <tr>\n",
       "      <th>0</th>\n",
       "      <td>2375</td>\n",
       "      <td>26984851472</td>\n",
       "      <td>1</td>\n",
       "      <td>1004906</td>\n",
       "      <td>1</td>\n",
       "      <td>1.39</td>\n",
       "      <td>364</td>\n",
       "      <td>-0.6</td>\n",
       "      <td>1631</td>\n",
       "      <td>1</td>\n",
       "      <td>0.0</td>\n",
       "      <td>0.0</td>\n",
       "    </tr>\n",
       "    <tr>\n",
       "      <th>1</th>\n",
       "      <td>2375</td>\n",
       "      <td>26984851472</td>\n",
       "      <td>1</td>\n",
       "      <td>1033142</td>\n",
       "      <td>1</td>\n",
       "      <td>0.82</td>\n",
       "      <td>364</td>\n",
       "      <td>0.0</td>\n",
       "      <td>1631</td>\n",
       "      <td>1</td>\n",
       "      <td>0.0</td>\n",
       "      <td>0.0</td>\n",
       "    </tr>\n",
       "  </tbody>\n",
       "</table>\n",
       "</div>"
      ],
      "text/plain": [
       "   user_id    basket_id  day  item_id  quantity  sales_value  store_id  \\\n",
       "0     2375  26984851472    1  1004906         1         1.39       364   \n",
       "1     2375  26984851472    1  1033142         1         0.82       364   \n",
       "\n",
       "   retail_disc  trans_time  week_no  coupon_disc  coupon_match_disc  \n",
       "0         -0.6        1631        1          0.0                0.0  \n",
       "1          0.0        1631        1          0.0                0.0  "
      ]
     },
     "execution_count": 2,
     "metadata": {},
     "output_type": "execute_result"
    }
   ],
   "source": [
    "data = pd.read_csv('./data/retail_train.csv')\n",
    "item_features = pd.read_csv('./data/product.csv')\n",
    "user_features = pd.read_csv('./data/hh_demographic.csv')\n",
    "\n",
    "# column processing\n",
    "item_features.columns = [col.lower() for col in item_features.columns]\n",
    "user_features.columns = [col.lower() for col in user_features.columns]\n",
    "\n",
    "item_features.rename(columns={'product_id': 'item_id'}, inplace=True)\n",
    "user_features.rename(columns={'household_key': 'user_id'}, inplace=True)\n",
    "\n",
    "\n",
    "# Важна схема обучения и валидации!\n",
    "# -- давние покупки -- | -- 6 недель -- | -- 3 недель -- \n",
    "# подобрать размер 2-ого датасета (6 недель) --> learning curve (зависимость метрики recall@k от размера датасета)\n",
    "\n",
    "val_lvl_1_size_weeks = 6\n",
    "val_lvl_2_size_weeks = 3\n",
    "\n",
    "#week split --> train_lvl1: (1-85), val_lvl1: (86-91), train_lvl2: (86-91), val_lvl2: (92-95)\n",
    "\n",
    "data_train_lvl_1 = data[data['week_no'] < data['week_no'].max() - (val_lvl_1_size_weeks + val_lvl_2_size_weeks)]\n",
    "data_val_lvl_1 = data[(data['week_no'] >= data['week_no'].max() - (val_lvl_1_size_weeks + val_lvl_2_size_weeks)) &\n",
    "                      (data['week_no'] < data['week_no'].max() - (val_lvl_2_size_weeks))]\n",
    "\n",
    "data_train_lvl_2 = data_val_lvl_1.copy()  # Для наглядности. Далее мы добавим изменения, и они будут отличаться\n",
    "data_val_lvl_2 = data[data['week_no'] >= data['week_no'].max() - val_lvl_2_size_weeks]\n",
    "\n",
    "data_train_lvl_1.head(2)"
   ]
  },
  {
   "cell_type": "code",
   "execution_count": 3,
   "metadata": {},
   "outputs": [
    {
     "name": "stdout",
     "output_type": "stream",
     "text": [
      "Decreased # items from 83685 to 5001\n"
     ]
    }
   ],
   "source": [
    "n_items_before = data_train_lvl_1['item_id'].nunique()\n",
    "\n",
    "data_train_lvl_1 = prefilter_items(data_train_lvl_1, item_features=item_features, take_n_popular=5000)\n",
    "\n",
    "n_items_after = data_train_lvl_1['item_id'].nunique()\n",
    "print('Decreased # items from {} to {}'.format(n_items_before, n_items_after))"
   ]
  },
  {
   "cell_type": "code",
   "execution_count": 4,
   "metadata": {},
   "outputs": [],
   "source": [
    "import pandas as pd\n",
    "import numpy as np\n",
    "\n",
    "# Для работы с матрицами\n",
    "from scipy.sparse import csr_matrix\n",
    "\n",
    "# Матричная факторизация\n",
    "from implicit.als import AlternatingLeastSquares\n",
    "from implicit.nearest_neighbours import ItemItemRecommender  # нужен для одного трюка\n",
    "from implicit.nearest_neighbours import bm25_weight, tfidf_weight\n",
    "\n",
    "\n",
    "class MainRecommender:\n",
    "    \"\"\"Рекоммендации, которые можно получить из ALS\n",
    "    Input\n",
    "    -----\n",
    "    user_item_matrix: pd.DataFrame\n",
    "        Матрица взаимодействий user-item\n",
    "    \"\"\"\n",
    "\n",
    "    def __init__(self, data, weighting=True):\n",
    "\n",
    "        # Топ покупок каждого юзера\n",
    "        self.top_purchases = data.groupby(['user_id', 'item_id'])['quantity'].count().reset_index()\n",
    "        self.top_purchases.sort_values('quantity', ascending=False, inplace=True)\n",
    "        self.top_purchases = self.top_purchases[self.top_purchases['item_id'] != 999999]\n",
    "\n",
    "        # Топ покупок по всему датасету\n",
    "        self.overall_top_purchases = data.groupby('item_id')['quantity'].count().reset_index()\n",
    "        self.overall_top_purchases.sort_values('quantity', ascending=False, inplace=True)\n",
    "        self.overall_top_purchases = self.overall_top_purchases[self.overall_top_purchases['item_id'] != 999999]\n",
    "        self.overall_top_purchases = self.overall_top_purchases.item_id.tolist()\n",
    "\n",
    "        self.user_item_matrix, self.matrix_index, self.matrix_columns = self._prepare_matrix(data)  # pd.DataFrame\n",
    "        self.id_to_itemid, self.id_to_userid, \\\n",
    "            self.itemid_to_id, self.userid_to_id = self._prepare_dicts(self.user_item_matrix)\n",
    "\n",
    "        if weighting:\n",
    "            self.user_item_matrix = bm25_weight(self.user_item_matrix.T).T\n",
    "\n",
    "        self.model = self.fit(self.user_item_matrix)\n",
    "        self.own_recommender = self.fit_own_recommender(self.user_item_matrix)\n",
    "        \n",
    "        self.item_factors = self.model.item_factors\n",
    "        self.user_factors = self.model.user_factors\n",
    "        \n",
    "        self.items_emb_df, self.users_emb_df = self.get_embeddings(self)\n",
    "        \n",
    "        \n",
    "    @staticmethod\n",
    "    def get_embeddings(self):\n",
    "        items_emb = self.item_factors\n",
    "        items_emb_df = pd.DataFrame(items_emb)\n",
    "        items_emb_df.reset_index(inplace=True)\n",
    "        items_emb_df['item_id'] = items_emb_df['index'].apply(lambda x: self.id_to_itemid[x])\n",
    "        items_emb_df = items_emb_df.drop('index', axis=1)\n",
    "\n",
    "        users_emb = self.user_factors\n",
    "        users_emb_df = pd.DataFrame(users_emb)\n",
    "        users_emb_df.reset_index(inplace=True)\n",
    "        users_emb_df['user_id'] = users_emb_df['index'].apply(lambda x: self.id_to_userid[x])\n",
    "        users_emb_df = users_emb_df.drop('index', axis=1)\n",
    "\n",
    "        return items_emb_df, users_emb_df\n",
    "        \n",
    "\n",
    "    @staticmethod\n",
    "    def _prepare_matrix(data):\n",
    "        \"\"\"Готовит user-item матрицу\"\"\"\n",
    "        user_item_matrix = pd.pivot_table(data,\n",
    "                                          index='user_id', \n",
    "                                          columns='item_id',\n",
    "                                          values='quantity',\n",
    "                                          aggfunc='count',\n",
    "                                          fill_value=0\n",
    "                                          )\n",
    "        matrix_index = user_item_matrix.index\n",
    "        matrix_columns = user_item_matrix.columns\n",
    "\n",
    "        user_item_matrix = user_item_matrix.astype(float)  # необходимый тип матрицы для implicit\n",
    "        return user_item_matrix, matrix_index, matrix_columns\n",
    "    \n",
    "\n",
    "    @staticmethod\n",
    "    def _prepare_dicts(user_item_matrix):\n",
    "        \"\"\"Подготавливает вспомогательные словари\"\"\"\n",
    "\n",
    "        userids = user_item_matrix.index.values\n",
    "        itemids = user_item_matrix.columns.values\n",
    "\n",
    "        matrix_userids = np.arange(len(userids))\n",
    "        matrix_itemids = np.arange(len(itemids))\n",
    "\n",
    "        id_to_itemid = dict(zip(matrix_itemids, itemids))\n",
    "        id_to_userid = dict(zip(matrix_userids, userids))\n",
    "\n",
    "        itemid_to_id = dict(zip(itemids, matrix_itemids))\n",
    "        userid_to_id = dict(zip(userids, matrix_userids))\n",
    "\n",
    "        return id_to_itemid, id_to_userid, itemid_to_id, userid_to_id\n",
    "    \n",
    "\n",
    "    @staticmethod\n",
    "    def fit_own_recommender(user_item_matrix):\n",
    "        \n",
    "        \"\"\"Обучает модель, которая рекомендует товары, среди товаров, купленных юзером\"\"\"\n",
    "        \n",
    "        own_recommender = ItemItemRecommender(K=1)\n",
    "        own_recommender.fit(csr_matrix(user_item_matrix).T.tocsr())\n",
    "        return own_recommender\n",
    "    \n",
    "\n",
    "    @staticmethod\n",
    "    def fit(user_item_matrix, n_factors=32, regularization=0.001, iterations=20, num_threads=8):\n",
    "        \n",
    "        \"\"\"Обучает ALS\"\"\"\n",
    "        \n",
    "        model = AlternatingLeastSquares(factors=n_factors,\n",
    "                                        regularization=regularization,\n",
    "                                        iterations=iterations,\n",
    "                                        num_threads=num_threads)\n",
    "        model.fit(csr_matrix(user_item_matrix).T.tocsr())\n",
    "        return model\n",
    "    \n",
    "\n",
    "    def _update_dict(self, user_id):\n",
    "        \n",
    "        \"\"\"Если появился новый user / item, то нужно обновить словари\"\"\"\n",
    "        \n",
    "        if user_id not in self.userid_to_id.keys():\n",
    "            print(f\"user_id: {user_id} not in dict, add\")\n",
    "            max_id = max(list(self.userid_to_id.values()))\n",
    "            max_id += 1\n",
    "            self.userid_to_id.update({user_id: max_id})\n",
    "            self.id_to_userid.update({max_id: user_id})\n",
    "            \n",
    "\n",
    "    def _get_similar_item(self, item_id):\n",
    "        \n",
    "        \"\"\"Находит товар, похожий на item_id\"\"\"\n",
    "        \n",
    "        # Товар похож на себя -> рекомендуем 2 товара\n",
    "        recs = self.model.similar_items(self.itemid_to_id[item_id], N=2)\n",
    "        top_rec = recs[1][0]  # И берем второй (не товар из аргумента метода)\n",
    "        return self.id_to_itemid[top_rec]\n",
    "    \n",
    "\n",
    "    def _extend_with_top_popular(self, recommendations, N=5):\n",
    "        \n",
    "        \"\"\"Если кол-во рекоммендаций < N, то дополняем их топ-популярными\"\"\"\n",
    "        \n",
    "        if len(recommendations) < N:\n",
    "            recommendations.extend(self.overall_top_purchases[:N])\n",
    "            recommendations = recommendations[:N]\n",
    "        return recommendations\n",
    "    \n",
    "\n",
    "    def _get_recommendations(self, user, model, N=5):\n",
    "        \n",
    "        \"\"\"Рекомендации через стардартные библиотеки implicit\"\"\"\n",
    "        \n",
    "#         self._update_dict(user_id=user)\n",
    "        res = [self.id_to_itemid[rec[0]] for rec in model.recommend(userid=self.userid_to_id[user],\n",
    "                                        user_items=csr_matrix(self.user_item_matrix).tocsr(),\n",
    "                                        N=N,\n",
    "                                        filter_already_liked_items=False,\n",
    "                                        filter_items=[self.itemid_to_id[999999]],\n",
    "                                        recalculate_user=True)]\n",
    "        res = self._extend_with_top_popular(res, N=N)\n",
    "        assert len(res) == N, 'Количество рекомендаций != {}'.format(N)\n",
    "        return res\n",
    "    \n",
    "\n",
    "    def get_als_recommendations(self, user, N=5):\n",
    "        \n",
    "        \"\"\"Рекомендации через стардартные библиотеки implicit\"\"\"\n",
    "        \n",
    "#         self._update_dict(user_id=user)\n",
    "        return self._get_recommendations(user, model=self.model, N=N)\n",
    "    \n",
    "\n",
    "    def get_own_recommendations(self, user, N=5):\n",
    "        \n",
    "        \"\"\"Рекомендуем товары среди тех, которые юзер уже купил\"\"\"\n",
    "        \n",
    "#         self._update_dict(user_id=user)\n",
    "        return self._get_recommendations(user, model=self.own_recommender, N=N)\n",
    "    \n",
    "\n",
    "    def get_similar_items_recommendation(self, user, N=5):\n",
    "        \n",
    "        \"\"\"Рекомендуем товары, похожие на топ-N купленных юзером товаров\"\"\"\n",
    "        \n",
    "        top_users_purchases = self.top_purchases[self.top_purchases['user_id'] == user].head(N)\n",
    "\n",
    "        res = top_users_purchases['item_id'].apply(lambda x: self._get_similar_item(x)).tolist()\n",
    "        res = self._extend_with_top_popular(res, N=N)\n",
    "        assert len(res) == N, 'Количество рекомендаций != {}'.format(N)\n",
    "        return res\n",
    "    \n",
    "\n",
    "    def get_similar_users_recommendation(self, user, N=5):\n",
    "        \n",
    "        \"\"\"Рекомендуем топ-N товаров, среди купленных похожими юзерами\"\"\"\n",
    "        \n",
    "        res = []\n",
    "\n",
    "        # Находим топ-N похожих пользователей\n",
    "        similar_users = self.model.similar_users(self.userid_to_id[user], N=N+1)\n",
    "        similar_users = [rec[0] for rec in similar_users]\n",
    "        similar_users = similar_users[1:]   # удалим юзера из запроса\n",
    "\n",
    "        for user in similar_users:\n",
    "            res.extend(self.get_own_recommendations(user, N=1))\n",
    "\n",
    "\n",
    "        res = self._extend_with_top_popular(res, N=N)\n",
    "        assert len(res) == N, 'Количество рекомендаций != {}'.format(N)\n",
    "        return res"
   ]
  },
  {
   "cell_type": "code",
   "execution_count": 5,
   "metadata": {},
   "outputs": [
    {
     "name": "stderr",
     "output_type": "stream",
     "text": [
      "WARNING:root:OpenBLAS detected. Its highly recommend to set the environment variable 'export OPENBLAS_NUM_THREADS=1' to disable its internal multithreading\n"
     ]
    },
    {
     "data": {
      "application/vnd.jupyter.widget-view+json": {
       "model_id": "6c994a23043644c8b0f4a99fff3d0cc8",
       "version_major": 2,
       "version_minor": 0
      },
      "text/plain": [
       "HBox(children=(FloatProgress(value=0.0, max=20.0), HTML(value='')))"
      ]
     },
     "metadata": {},
     "output_type": "display_data"
    },
    {
     "name": "stdout",
     "output_type": "stream",
     "text": [
      "\n"
     ]
    },
    {
     "data": {
      "application/vnd.jupyter.widget-view+json": {
       "model_id": "6fc6da937ea54cc097c491684ba6e94f",
       "version_major": 2,
       "version_minor": 0
      },
      "text/plain": [
       "HBox(children=(FloatProgress(value=0.0, max=5001.0), HTML(value='')))"
      ]
     },
     "metadata": {},
     "output_type": "display_data"
    },
    {
     "name": "stdout",
     "output_type": "stream",
     "text": [
      "\n",
      "Wall time: 8.67 s\n"
     ]
    }
   ],
   "source": [
    "%%time\n",
    "\n",
    "recommender = MainRecommender(data_train_lvl_1)"
   ]
  },
  {
   "cell_type": "markdown",
   "metadata": {},
   "source": [
    "### Задание 1\n",
    "\n",
    "A) Попробуйте различные варианты генерации кандидатов. Какие из них дают наибольший recall@k ?\n",
    "- Пока пробуем отобрать 200 кандидатов (k=200)\n",
    "- Качество измеряем на data_val_lvl_1: следующие 6 недель после трейна\n",
    "\n",
    "Дают ли own recommendtions + top-popular лучший recall?  \n",
    "\n",
    "B)* Как зависит recall@k от k? Постройте для одной схемы генерации кандидатов эту зависимость для k = {20, 50, 100, 200, 500}  \n",
    "C)* Исходя из прошлого вопроса, как вы думаете, какое значение k является наиболее разумным? # **200**\n"
   ]
  },
  {
   "cell_type": "code",
   "execution_count": 6,
   "metadata": {},
   "outputs": [],
   "source": [
    "# Get result data frame\n",
    "\n",
    "result_lvl_1 = data_val_lvl_1.groupby('user_id')['item_id'].unique().reset_index()\n",
    "result_lvl_1.columns=['user_id', 'actual']\n",
    "\n",
    "fitted_user_ids = data_train_lvl_1.user_id.unique() # список юзеров для горячего старта модели\n",
    "\n",
    "# Exclude all new users for hot start mode\n",
    "result_lvl_1 = result_lvl_1[result_lvl_1['user_id'].isin(fitted_user_ids)] "
   ]
  },
  {
   "cell_type": "code",
   "execution_count": 7,
   "metadata": {},
   "outputs": [
    {
     "name": "stdout",
     "output_type": "stream",
     "text": [
      "Wall time: 3min 20s\n"
     ]
    }
   ],
   "source": [
    "%%time\n",
    "\n",
    "# Fill with predictions\n",
    "\n",
    "n = 200 # n pred recs \n",
    "\n",
    "result_lvl_1['als_rec'] = result_lvl_1['user_id'].apply(lambda x: recommender.get_als_recommendations(x, N=n))\n",
    "result_lvl_1['own_rec'] = result_lvl_1['user_id'].apply(lambda x: recommender.get_own_recommendations(x, N=n))\n",
    "result_lvl_1['similar_item_rec'] = result_lvl_1['user_id'].apply(lambda x: recommender.get_similar_items_recommendation(x, N=n))\n",
    "\n",
    "# Somehow works but needs to test\n",
    "# result_lvl_1['similar_users'] = result_lvl_1['user_id'].apply(lambda x: recommender.get_similar_users_recommendation(x, N=n))"
   ]
  },
  {
   "cell_type": "code",
   "execution_count": 8,
   "metadata": {},
   "outputs": [
    {
     "name": "stdout",
     "output_type": "stream",
     "text": [
      "Wall time: 3.51 s\n"
     ]
    }
   ],
   "source": [
    "%%time\n",
    "\n",
    "k_list = [20, 50, 100, 200, 500]\n",
    "t = []\n",
    "cols = result_lvl_1.iloc[:,2:].columns\n",
    "\n",
    "scores = np.zeros((len(k_list), len(cols)))\n",
    "\n",
    "for i, k in enumerate(k_list):\n",
    "    start_t = time.time()\n",
    "    for j, col in enumerate(result_lvl_1.iloc[:,2:]):\n",
    "        res = result_lvl_1.apply(lambda row: recall_at_k(row[col], row['actual'], k=k), axis=1).mean()\n",
    "        scores[i][j] = res\n",
    "    \n",
    "    t.append(round(time.time() - start_t, 4))\n",
    "    "
   ]
  },
  {
   "cell_type": "code",
   "execution_count": 9,
   "metadata": {
    "scrolled": false
   },
   "outputs": [
    {
     "data": {
      "image/png": "[encoded data removed]",
      "text/plain": [
       "<Figure size 1152x432 with 2 Axes>"
      ]
     },
     "metadata": {
      "needs_background": "light"
     },
     "output_type": "display_data"
    }
   ],
   "source": [
    "_, ax = plt.subplots(figsize=(16,6))\n",
    "\n",
    "\n",
    "plt.gca().set_xticks(np.arange(len(k_list)))\n",
    "plt.gca().set_xticklabels(k_list)\n",
    "\n",
    "\n",
    "ax.plot(scores[...,0], 'r')\n",
    "ax.plot(scores[...,1], 'g')\n",
    "ax.plot(scores[...,2], 'b')\n",
    "\n",
    "plt.xlabel('@K value', fontsize=14)\n",
    "plt.ylabel('Recall @ k metric', fontsize=14)\n",
    "ax.legend('Type: ' + cols)\n",
    "\n",
    "ax2 = ax.twinx()  # instantiate a second axes that shares the same x-axis\n",
    "ax2.fill_between(np.arange(len(k_list)), t, facecolor='gray', interpolate=True, alpha=0.2)\n",
    "plt.ylabel('Wall time @K, seconds', fontsize=14)\n",
    "plt.gca().set_ylim(round(min(t),1)-0.05, round(max(t),1)+0.05)\n",
    "# ax2.ylim(2,4)\n",
    "ax2.legend('T', bbox_to_anchor=(1, 1))\n",
    "plt.grid()\n",
    "plt.title(\"Recall@k by 'k' value dependance\", fontsize=20)\n",
    "\n",
    "\n",
    "plt.show() # 200"
   ]
  },
  {
   "cell_type": "markdown",
   "metadata": {},
   "source": [
    "### Задание 2.\n",
    "\n",
    "Обучите модель 2-ого уровня, при этом:\n",
    "    - Добавьте минимум по 2 фичи для юзера, товара и пары юзер-товар\n",
    "    - Измерьте отдельно precision@5 модели 1-ого уровня и двухуровневой модели на data_val_lvl_2\n",
    "    - Вырос ли precision@5 при использовании двухуровневой модели?"
   ]
  },
  {
   "cell_type": "code",
   "execution_count": 10,
   "metadata": {},
   "outputs": [],
   "source": [
    "# Train prep\n",
    "\n",
    "users_lvl_2 = pd.DataFrame(data_train_lvl_2['user_id'].unique())\n",
    "users_lvl_2.columns = ['user_id']\n",
    "\n",
    "# Warm start\n",
    "train_users = data_train_lvl_1['user_id'].unique()\n",
    "users_lvl_2 = users_lvl_2[users_lvl_2['user_id'].isin(train_users)]\n",
    "users_lvl_2['candidates'] = users_lvl_2['user_id'].apply(lambda x: recommender.get_own_recommendations(x, N=200))\n"
   ]
  },
  {
   "cell_type": "code",
   "execution_count": 11,
   "metadata": {},
   "outputs": [
    {
     "data": {
      "text/html": [
       "<div>\n",
       "<style scoped>\n",
       "    .dataframe tbody tr th:only-of-type {\n",
       "        vertical-align: middle;\n",
       "    }\n",
       "\n",
       "    .dataframe tbody tr th {\n",
       "        vertical-align: top;\n",
       "    }\n",
       "\n",
       "    .dataframe thead th {\n",
       "        text-align: right;\n",
       "    }\n",
       "</style>\n",
       "<table border=\"1\" class=\"dataframe\">\n",
       "  <thead>\n",
       "    <tr style=\"text-align: right;\">\n",
       "      <th></th>\n",
       "      <th>user_id</th>\n",
       "      <th>item_id</th>\n",
       "      <th>drop</th>\n",
       "    </tr>\n",
       "  </thead>\n",
       "  <tbody>\n",
       "    <tr>\n",
       "      <th>0</th>\n",
       "      <td>2070</td>\n",
       "      <td>1105426</td>\n",
       "      <td>1</td>\n",
       "    </tr>\n",
       "    <tr>\n",
       "      <th>0</th>\n",
       "      <td>2070</td>\n",
       "      <td>1097350</td>\n",
       "      <td>1</td>\n",
       "    </tr>\n",
       "    <tr>\n",
       "      <th>0</th>\n",
       "      <td>2070</td>\n",
       "      <td>879194</td>\n",
       "      <td>1</td>\n",
       "    </tr>\n",
       "    <tr>\n",
       "      <th>0</th>\n",
       "      <td>2070</td>\n",
       "      <td>948640</td>\n",
       "      <td>1</td>\n",
       "    </tr>\n",
       "    <tr>\n",
       "      <th>0</th>\n",
       "      <td>2070</td>\n",
       "      <td>928263</td>\n",
       "      <td>1</td>\n",
       "    </tr>\n",
       "  </tbody>\n",
       "</table>\n",
       "</div>"
      ],
      "text/plain": [
       "   user_id  item_id  drop\n",
       "0     2070  1105426     1\n",
       "0     2070  1097350     1\n",
       "0     2070   879194     1\n",
       "0     2070   948640     1\n",
       "0     2070   928263     1"
      ]
     },
     "execution_count": 11,
     "metadata": {},
     "output_type": "execute_result"
    }
   ],
   "source": [
    "s = users_lvl_2.apply(lambda x: pd.Series(x['candidates']), axis=1).stack().reset_index(level=1, drop=True)\n",
    "s.name = 'item_id'\n",
    "\n",
    "users_lvl_2 = users_lvl_2.drop('candidates', axis=1).join(s)\n",
    "users_lvl_2['drop'] = 1 \n",
    "\n",
    "\n",
    "users_lvl_2.head()"
   ]
  },
  {
   "cell_type": "code",
   "execution_count": 12,
   "metadata": {},
   "outputs": [
    {
     "data": {
      "text/plain": [
       "430200"
      ]
     },
     "execution_count": 12,
     "metadata": {},
     "output_type": "execute_result"
    }
   ],
   "source": [
    "users_lvl_2.shape[0]"
   ]
  },
  {
   "cell_type": "code",
   "execution_count": 13,
   "metadata": {},
   "outputs": [],
   "source": [
    "targets_lvl_2 = data_train_lvl_2[['user_id', 'item_id']].copy()\n",
    "targets_lvl_2['target'] = 1  # тут только покупки \n",
    "\n",
    "targets_lvl_2 = users_lvl_2.merge(targets_lvl_2, on=['user_id', 'item_id'], how='left')\n",
    "\n",
    "targets_lvl_2['target'].fillna(0, inplace= True)\n",
    "targets_lvl_2.drop('drop', axis=1, inplace=True)"
   ]
  },
  {
   "cell_type": "code",
   "execution_count": 14,
   "metadata": {},
   "outputs": [],
   "source": [
    "\"\"\"Feats Preparation\"\"\"\n",
    "\n",
    "\n",
    "### USER FEATS\n",
    "\n",
    "combined_user_features = user_features.merge(data_train_lvl_2, on='user_id', how='left')\n",
    "\n",
    "# Income feature prepare\n",
    "income_desc_lst = list(user_features.income_desc.unique())\n",
    "income_desc_2_income = [int(re.search(r'\\d{2,3}', l)[0]) for l in income_desc_lst]\n",
    "income_dict = dict(zip(income_desc_lst, income_desc_2_income))\n",
    "\n",
    "user_features['income, x1000 $'] = user_features['income_desc'].replace(income_dict)\n",
    "user_features.drop('income_desc', axis=1, inplace=True)\n",
    "\n",
    "\n",
    "# Age feature prepare\n",
    "age_desc_lst = list(user_features.age_desc.unique())\n",
    "age_desc_2_age = [int(re.search(r'\\d{2}', l)[0]) for l in age_desc_lst]\n",
    "age_dict = dict(zip(age_desc_lst, age_desc_2_age))\n",
    "\n",
    "user_features['age'] = user_features['age_desc'].replace(age_dict)\n",
    "user_features.drop('age_desc', axis=1, inplace=True)\n",
    "\n",
    "# Combined feats\n",
    "\n",
    "# Mean сheck\n",
    "user_check = combined_user_features.groupby(['user_id'])['sales_value'].sum().reset_index()\n",
    "user_check_cnt = combined_user_features.groupby('user_id')['basket_id'].count().reset_index()\n",
    "user_check_cnt.rename(columns={'basket_id': 'baskets_cnt'}, inplace=True)\n",
    "\n",
    "average_check = user_check.merge(user_check_cnt)\n",
    "\n",
    "average_check['avg_check'] = average_check['sales_value'] / average_check['baskets_cnt']\n",
    "average_check = average_check.drop(['sales_value', 'baskets_cnt'], axis=1)\n",
    "user_features = user_features.merge(average_check, how='left')\n",
    "\n",
    "\n",
    "### ITEM FEATS\n",
    "\n",
    "combined_item_features = item_features.merge(data_train_lvl_2, on='item_id', how='left')\n",
    "\n",
    "\n",
    "### Sold cound\n",
    "item_count = combined_item_features.groupby(['item_id'])['quantity'].count().reset_index()\n",
    "item_count.rename(columns={'quantity': 'sales_quantity'}, inplace=True)\n",
    "\n",
    "item_count['sales_quantity_p_week'] = item_count['sales_quantity'] / combined_item_features['week_no'].nunique()\n",
    "item_features = item_features.merge(item_count, on='item_id', how='left')"
   ]
  },
  {
   "cell_type": "code",
   "execution_count": 15,
   "metadata": {},
   "outputs": [
    {
     "name": "stdout",
     "output_type": "stream",
     "text": [
      "Incomes dict: {'35-49K': 35, '50-74K': 50, '25-34K': 25, '75-99K': 75, 'Under 15K': 15, '100-124K': 100, '15-24K': 15, '125-149K': 125, '150-174K': 150, '250K+': 250, '175-199K': 175, '200-249K': 200}\n",
      "\n",
      "Ages dict: {'65+': 65, '45-54': 45, '25-34': 25, '35-44': 35, '19-24': 19, '55-64': 55}\n"
     ]
    }
   ],
   "source": [
    "# Processed dicts\n",
    "\n",
    "print(f'Incomes dict: {income_dict}\\n')\n",
    "print(f'Ages dict: {age_dict}')"
   ]
  },
  {
   "cell_type": "code",
   "execution_count": 16,
   "metadata": {},
   "outputs": [],
   "source": [
    "targets_lvl_2 = targets_lvl_2.merge(item_features, on='item_id', how='left')\n",
    "targets_lvl_2 = targets_lvl_2.merge(user_features, on='user_id', how='left')"
   ]
  },
  {
   "cell_type": "code",
   "execution_count": 17,
   "metadata": {},
   "outputs": [
    {
     "data": {
      "text/plain": [
       "0.06198326333060635"
      ]
     },
     "execution_count": 17,
     "metadata": {},
     "output_type": "execute_result"
    }
   ],
   "source": [
    "targets_lvl_2['target'].mean()"
   ]
  },
  {
   "cell_type": "code",
   "execution_count": 18,
   "metadata": {},
   "outputs": [],
   "source": [
    "X_train = targets_lvl_2.drop('target', axis=1)\n",
    "y_train = targets_lvl_2[['target']]"
   ]
  },
  {
   "cell_type": "code",
   "execution_count": 19,
   "metadata": {},
   "outputs": [
    {
     "data": {
      "text/plain": [
       "['manufacturer',\n",
       " 'department',\n",
       " 'brand',\n",
       " 'commodity_desc',\n",
       " 'sub_commodity_desc',\n",
       " 'curr_size_of_product',\n",
       " 'sales_quantity',\n",
       " 'sales_quantity_p_week',\n",
       " 'marital_status_code',\n",
       " 'homeowner_desc',\n",
       " 'hh_comp_desc',\n",
       " 'household_size_desc',\n",
       " 'kid_category_desc',\n",
       " 'income, x1000 $',\n",
       " 'age',\n",
       " 'avg_check']"
      ]
     },
     "execution_count": 19,
     "metadata": {},
     "output_type": "execute_result"
    }
   ],
   "source": [
    "cat_feats = X_train.columns[2:].tolist()\n",
    "X_train[cat_feats] = X_train[cat_feats].astype('category')\n",
    "\n",
    "cat_feats"
   ]
  },
  {
   "cell_type": "code",
   "execution_count": 20,
   "metadata": {},
   "outputs": [
    {
     "name": "stderr",
     "output_type": "stream",
     "text": [
      "C:\\Users\\Nickel\\anaconda3\\lib\\site-packages\\sklearn\\preprocessing\\_label.py:235: DataConversionWarning: A column-vector y was passed when a 1d array was expected. Please change the shape of y to (n_samples, ), for example using ravel().\n",
      "  y = column_or_1d(y, warn=True)\n",
      "C:\\Users\\Nickel\\anaconda3\\lib\\site-packages\\sklearn\\preprocessing\\_label.py:268: DataConversionWarning: A column-vector y was passed when a 1d array was expected. Please change the shape of y to (n_samples, ), for example using ravel().\n",
      "  y = column_or_1d(y, warn=True)\n",
      "C:\\Users\\Nickel\\anaconda3\\lib\\site-packages\\lightgbm\\basic.py:814: UserWarning: categorical_feature in param dict is overridden.\n",
      "  warnings.warn('categorical_feature in param dict is overridden.')\n"
     ]
    },
    {
     "name": "stdout",
     "output_type": "stream",
     "text": [
      "Wall time: 2.66 s\n"
     ]
    },
    {
     "data": {
      "text/plain": [
       "LGBMClassifier(boosting_type='gbdt',\n",
       "               categorical_column=['manufacturer', 'department', 'brand',\n",
       "                                   'commodity_desc', 'sub_commodity_desc',\n",
       "                                   'curr_size_of_product', 'sales_quantity',\n",
       "                                   'sales_quantity_p_week',\n",
       "                                   'marital_status_code', 'homeowner_desc',\n",
       "                                   'hh_comp_desc', 'household_size_desc',\n",
       "                                   'kid_category_desc', 'income, x1000 $',\n",
       "                                   'age', 'avg_check'],\n",
       "               class_weight=None, colsample_bytree=1.0, importance_type='split',\n",
       "               learning_rate=0.1, max_depth=5, min_child_samples=20,\n",
       "               min_child_weight=0.001, min_split_gain=0.0, n_estimators=100,\n",
       "               n_jobs=-1, num_leaves=31, objective='binary', random_state=None,\n",
       "               reg_alpha=0.0, reg_lambda=0.0, silent=True, subsample=1.0,\n",
       "               subsample_for_bin=200000, subsample_freq=0)"
      ]
     },
     "execution_count": 20,
     "metadata": {},
     "output_type": "execute_result"
    }
   ],
   "source": [
    "%%time\n",
    "\n",
    "lgb = LGBMClassifier(objective='binary', max_depth=5, categorical_column=cat_feats)\n",
    "lgb.fit(X_train, y_train)\n",
    "\n",
    "# train_preds = lgb.predict_proba(X_train)"
   ]
  },
  {
   "cell_type": "code",
   "execution_count": 21,
   "metadata": {},
   "outputs": [
    {
     "data": {
      "text/plain": [
       "Index(['user_id', 'item_id', 'manufacturer', 'department', 'brand',\n",
       "       'commodity_desc', 'sub_commodity_desc', 'curr_size_of_product',\n",
       "       'sales_quantity', 'sales_quantity_p_week', 'marital_status_code',\n",
       "       'homeowner_desc', 'hh_comp_desc', 'household_size_desc',\n",
       "       'kid_category_desc', 'income, x1000 $', 'age', 'avg_check'],\n",
       "      dtype='object')"
      ]
     },
     "execution_count": 21,
     "metadata": {},
     "output_type": "execute_result"
    }
   ],
   "source": [
    "X_train.columns"
   ]
  },
  {
   "cell_type": "code",
   "execution_count": 23,
   "metadata": {},
   "outputs": [
    {
     "name": "stdout",
     "output_type": "stream",
     "text": [
      "0.020066203324823804\n"
     ]
    }
   ],
   "source": [
    "### Validation prep\n",
    "\n",
    "\n",
    "result_lvl_2 = data_val_lvl_2.groupby('user_id')['item_id'].unique().reset_index()\n",
    "result_lvl_2.columns=['user_id', 'actual']\n",
    "\n",
    "\n",
    "val_users_lvl_2 = pd.DataFrame(data_val_lvl_2['user_id'].unique())\n",
    "val_users_lvl_2.columns = ['user_id']\n",
    "# Warm start\n",
    "# train_lvl_2_users = data_train_lvl_1['user_id'].unique()\n",
    "val_users_lvl_2 = val_users_lvl_2[val_users_lvl_2['user_id'].isin(train_users)]\n",
    "\n",
    "val_users_lvl_2['candidates'] = val_users_lvl_2['user_id'].apply(\n",
    "    lambda x: recommender.get_own_recommendations(x, N=200))\n",
    "\n",
    "\n",
    "\n",
    "s2 = val_users_lvl_2.apply(lambda x: pd.Series(x['candidates']), axis=1).stack().reset_index(level=1, drop=True)\n",
    "s2.name = 'item_id'\n",
    "val_users_lvl_2 = val_users_lvl_2.drop('candidates', axis=1).join(s)\n",
    "val_users_lvl_2['drop'] = 1 \n",
    "\n",
    "\n",
    "val_targets_lvl_2 = data_val_lvl_2[['user_id', 'item_id']].copy()\n",
    "val_targets_lvl_2['target'] = 1  # тут только покупки \n",
    "\n",
    "val_targets_lvl_2 = val_users_lvl_2.merge(val_targets_lvl_2, on=['user_id', 'item_id'], how='left')\n",
    "\n",
    "val_targets_lvl_2.dropna(0, subset=['item_id'],inplace=True)\n",
    "val_targets_lvl_2['item_id'] = val_targets_lvl_2['item_id'].astype('int64')\n",
    "\n",
    "\n",
    "val_targets_lvl_2['target'].fillna(0, inplace= True)\n",
    "val_targets_lvl_2.drop('drop', axis=1, inplace=True)\n",
    "\n",
    "\n",
    "val_targets_lvl_2 = val_targets_lvl_2.merge(item_features, on='item_id', how='left')\n",
    "val_targets_lvl_2 = val_targets_lvl_2.merge(user_features, on='user_id', how='left')\n",
    "\n",
    "print(val_targets_lvl_2['target'].mean())\n",
    "\n",
    "X_val = val_targets_lvl_2.drop('target', axis=1)\n",
    "\n",
    "y_val = targets_lvl_2[['target']]"
   ]
  },
  {
   "cell_type": "code",
   "execution_count": 24,
   "metadata": {},
   "outputs": [],
   "source": [
    "X_val[cat_feats] = X_val[cat_feats].astype('category')\n",
    "\n",
    "val_preds = lgb.predict_proba(X_val)[:, 1]\n",
    "X_val['predict'] = val_preds\n",
    "X_val.sort_values(['user_id', 'predict'], ascending=False, inplace=True)\n",
    "result = X_val.groupby('user_id').head(200)"
   ]
  },
  {
   "cell_type": "code",
   "execution_count": 25,
   "metadata": {},
   "outputs": [],
   "source": [
    "recs = result.groupby('user_id')['item_id']\n",
    "recomendations = []\n",
    "for user, preds in recs:\n",
    "    recomendations.append({'user_id': user, 'recomendations': preds.tolist()})\n",
    "    \n",
    "recomendations = pd.DataFrame(recomendations)"
   ]
  },
  {
   "cell_type": "code",
   "execution_count": 26,
   "metadata": {},
   "outputs": [],
   "source": [
    "# hot start correction\n",
    "\n",
    "result_lvl_2 = result_lvl_2.merge(recomendations, how='left')\n",
    "result_lvl_2.dropna(0, subset=['recomendations'], inplace=True)"
   ]
  },
  {
   "cell_type": "code",
   "execution_count": 27,
   "metadata": {},
   "outputs": [
    {
     "data": {
      "text/html": [
       "<div>\n",
       "<style scoped>\n",
       "    .dataframe tbody tr th:only-of-type {\n",
       "        vertical-align: middle;\n",
       "    }\n",
       "\n",
       "    .dataframe tbody tr th {\n",
       "        vertical-align: top;\n",
       "    }\n",
       "\n",
       "    .dataframe thead th {\n",
       "        text-align: right;\n",
       "    }\n",
       "</style>\n",
       "<table border=\"1\" class=\"dataframe\">\n",
       "  <thead>\n",
       "    <tr style=\"text-align: right;\">\n",
       "      <th></th>\n",
       "      <th>user_id</th>\n",
       "      <th>actual</th>\n",
       "      <th>recomendations</th>\n",
       "    </tr>\n",
       "  </thead>\n",
       "  <tbody>\n",
       "    <tr>\n",
       "      <th>0</th>\n",
       "      <td>1</td>\n",
       "      <td>[821867, 834484, 856942, 865456, 889248, 90795...</td>\n",
       "      <td>[940947, 1056509, 1082185, 1082185, 849202, 10...</td>\n",
       "    </tr>\n",
       "    <tr>\n",
       "      <th>1</th>\n",
       "      <td>3</td>\n",
       "      <td>[835476, 851057, 872021, 878302, 879948, 90963...</td>\n",
       "      <td>[1082185, 1029743, 1029743, 845208, 1106523, 8...</td>\n",
       "    </tr>\n",
       "    <tr>\n",
       "      <th>2</th>\n",
       "      <td>6</td>\n",
       "      <td>[920308, 926804, 946489, 1006718, 1017061, 107...</td>\n",
       "      <td>[1082185, 1029743, 1029743, 1106523, 1126899, ...</td>\n",
       "    </tr>\n",
       "    <tr>\n",
       "      <th>3</th>\n",
       "      <td>7</td>\n",
       "      <td>[840386, 889774, 898068, 909714, 929067, 95347...</td>\n",
       "      <td>[1082185, 1082185, 1082185, 1029743, 1106523, ...</td>\n",
       "    </tr>\n",
       "    <tr>\n",
       "      <th>4</th>\n",
       "      <td>8</td>\n",
       "      <td>[835098, 872137, 910439, 924610, 992977, 10412...</td>\n",
       "      <td>[1029743, 1029743, 1106523, 1070820, 951197, 1...</td>\n",
       "    </tr>\n",
       "    <tr>\n",
       "      <th>...</th>\n",
       "      <td>...</td>\n",
       "      <td>...</td>\n",
       "      <td>...</td>\n",
       "    </tr>\n",
       "    <tr>\n",
       "      <th>2037</th>\n",
       "      <td>2496</td>\n",
       "      <td>[6534178]</td>\n",
       "      <td>[1082185, 1029743, 899624, 916122, 1106523, 10...</td>\n",
       "    </tr>\n",
       "    <tr>\n",
       "      <th>2038</th>\n",
       "      <td>2497</td>\n",
       "      <td>[1016709, 9835695, 1132298, 16809501, 845294, ...</td>\n",
       "      <td>[1082185, 1029743, 1029743, 870547, 1106523, 1...</td>\n",
       "    </tr>\n",
       "    <tr>\n",
       "      <th>2039</th>\n",
       "      <td>2498</td>\n",
       "      <td>[15716530, 834484, 901776, 914190, 958382, 972...</td>\n",
       "      <td>[962229, 15926886, 1116050, 957063, 871722, 86...</td>\n",
       "    </tr>\n",
       "    <tr>\n",
       "      <th>2040</th>\n",
       "      <td>2499</td>\n",
       "      <td>[867188, 877580, 902396, 914190, 951590, 95813...</td>\n",
       "      <td>[1082185, 1029743, 1029743, 1106523, 1126899, ...</td>\n",
       "    </tr>\n",
       "    <tr>\n",
       "      <th>2041</th>\n",
       "      <td>2500</td>\n",
       "      <td>[852182, 856345, 923746, 948670, 1018007, 1044...</td>\n",
       "      <td>[919534, 870547, 1072917, 1108094, 1034176, 55...</td>\n",
       "    </tr>\n",
       "  </tbody>\n",
       "</table>\n",
       "<p>2038 rows × 3 columns</p>\n",
       "</div>"
      ],
      "text/plain": [
       "      user_id                                             actual  \\\n",
       "0           1  [821867, 834484, 856942, 865456, 889248, 90795...   \n",
       "1           3  [835476, 851057, 872021, 878302, 879948, 90963...   \n",
       "2           6  [920308, 926804, 946489, 1006718, 1017061, 107...   \n",
       "3           7  [840386, 889774, 898068, 909714, 929067, 95347...   \n",
       "4           8  [835098, 872137, 910439, 924610, 992977, 10412...   \n",
       "...       ...                                                ...   \n",
       "2037     2496                                          [6534178]   \n",
       "2038     2497  [1016709, 9835695, 1132298, 16809501, 845294, ...   \n",
       "2039     2498  [15716530, 834484, 901776, 914190, 958382, 972...   \n",
       "2040     2499  [867188, 877580, 902396, 914190, 951590, 95813...   \n",
       "2041     2500  [852182, 856345, 923746, 948670, 1018007, 1044...   \n",
       "\n",
       "                                         recomendations  \n",
       "0     [940947, 1056509, 1082185, 1082185, 849202, 10...  \n",
       "1     [1082185, 1029743, 1029743, 845208, 1106523, 8...  \n",
       "2     [1082185, 1029743, 1029743, 1106523, 1126899, ...  \n",
       "3     [1082185, 1082185, 1082185, 1029743, 1106523, ...  \n",
       "4     [1029743, 1029743, 1106523, 1070820, 951197, 1...  \n",
       "...                                                 ...  \n",
       "2037  [1082185, 1029743, 899624, 916122, 1106523, 10...  \n",
       "2038  [1082185, 1029743, 1029743, 870547, 1106523, 1...  \n",
       "2039  [962229, 15926886, 1116050, 957063, 871722, 86...  \n",
       "2040  [1082185, 1029743, 1029743, 1106523, 1126899, ...  \n",
       "2041  [919534, 870547, 1072917, 1108094, 1034176, 55...  \n",
       "\n",
       "[2038 rows x 3 columns]"
      ]
     },
     "execution_count": 27,
     "metadata": {},
     "output_type": "execute_result"
    }
   ],
   "source": [
    "result_lvl_2"
   ]
  },
  {
   "cell_type": "code",
   "execution_count": 28,
   "metadata": {},
   "outputs": [],
   "source": [
    "# Precision compare\n",
    "\n",
    "one_lvl_precision = result_lvl_1.apply(lambda row: precision_at_k(row['als_rec'], row['actual'], k=200), axis=1).mean()\n",
    "\n",
    "two_lvl_precision = result_lvl_2.apply(\n",
    "    lambda row: precision_at_k(row['recomendations'], row['actual'], k=200), axis=1).mean()"
   ]
  },
  {
   "cell_type": "code",
   "execution_count": 29,
   "metadata": {},
   "outputs": [
    {
     "name": "stdout",
     "output_type": "stream",
     "text": [
      "one_lvl_precision: 0.03306834030683413\n",
      "two_lvl_precision: 0.014185475956820418\n"
     ]
    }
   ],
   "source": [
    "print(f'one_lvl_precision: {one_lvl_precision}')\n",
    "print(f'two_lvl_precision: {two_lvl_precision}')"
   ]
  },
  {
   "cell_type": "markdown",
   "metadata": {},
   "source": [
    "**Результат: точность снизилась, необходима доработка признаков**"
   ]
  }
 ],
 "metadata": {
  "kernelspec": {
   "display_name": "Python 3",
   "language": "python",
   "name": "python3"
  },
  "language_info": {
   "codemirror_mode": {
    "name": "ipython",
    "version": 3
   },
   "file_extension": ".py",
   "mimetype": "text/x-python",
   "name": "python",
   "nbconvert_exporter": "python",
   "pygments_lexer": "ipython3",
   "version": "3.7.6"
  }
 },
 "nbformat": 4,
 "nbformat_minor": 2
}
