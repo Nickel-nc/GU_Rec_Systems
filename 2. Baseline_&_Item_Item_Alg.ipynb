{
 "cells": [
  {
   "cell_type": "markdown",
   "metadata": {},
   "source": [
    "# Бейзлайны и детерминированные алгоритмы item-item"
   ]
  },
  {
   "cell_type": "code",
   "execution_count": 239,
   "metadata": {},
   "outputs": [],
   "source": [
    "import pandas as pd\n",
    "import numpy as np\n",
    "import matplotlib.pyplot as plt\n",
    "%matplotlib inline\n",
    "\n",
    "# Для работы с матрицами\n",
    "from scipy.sparse import csr_matrix, coo_matrix\n",
    "\n",
    "# Детерминированные алгоритмы\n",
    "from implicit.nearest_neighbours import ItemItemRecommender, CosineRecommender, TFIDFRecommender, BM25Recommender\n",
    "\n",
    "# Метрики\n",
    "from implicit.evaluation import train_test_split\n",
    "from implicit.evaluation import precision_at_k, mean_average_precision_at_k, AUC_at_k, ndcg_at_k\n",
    "\n",
    "np.random.seed(42)"
   ]
  },
  {
   "cell_type": "code",
   "execution_count": 240,
   "metadata": {},
   "outputs": [],
   "source": [
    "data = pd.read_csv('./data/retail_train.csv')\n",
    "preds = pd.read_csv('./data/predictions_basic.csv')\n",
    "# data.head()\n",
    "# preds.head()"
   ]
  },
  {
   "cell_type": "code",
   "execution_count": 241,
   "metadata": {},
   "outputs": [],
   "source": [
    "test_size_weeks = 3 # порог недель для сплита временных данных\n",
    "k = 5 # количество рекомендаций на выходе\n",
    "n_threads = 8 # parallelization for n cores\n",
    "ntop_positions = 5000\n",
    "\n",
    "\n",
    "data_train = data[data['week_no'] < data['week_no'].max() - test_size_weeks]\n",
    "data_test = data[data['week_no'] >= data['week_no'].max() - test_size_weeks]"
   ]
  },
  {
   "cell_type": "code",
   "execution_count": 242,
   "metadata": {},
   "outputs": [
    {
     "name": "stdout",
     "output_type": "stream",
     "text": [
      "<class 'pandas.core.frame.DataFrame'>\n",
      "Int64Index: 2278490 entries, 0 to 2282324\n",
      "Data columns (total 12 columns):\n",
      " #   Column             Dtype  \n",
      "---  ------             -----  \n",
      " 0   user_id            int64  \n",
      " 1   basket_id          int64  \n",
      " 2   day                int64  \n",
      " 3   item_id            int64  \n",
      " 4   quantity           int64  \n",
      " 5   sales_value        float64\n",
      " 6   store_id           int64  \n",
      " 7   retail_disc        float64\n",
      " 8   trans_time         int64  \n",
      " 9   week_no            int64  \n",
      " 10  coupon_disc        float64\n",
      " 11  coupon_match_disc  float64\n",
      "dtypes: float64(4), int64(8)\n",
      "memory usage: 226.0 MB\n"
     ]
    }
   ],
   "source": [
    "data_train.info()"
   ]
  },
  {
   "cell_type": "code",
   "execution_count": 243,
   "metadata": {},
   "outputs": [
    {
     "name": "stdout",
     "output_type": "stream",
     "text": [
      "<class 'pandas.core.frame.DataFrame'>\n",
      "RangeIndex: 2042 entries, 0 to 2041\n",
      "Data columns (total 8 columns):\n",
      " #   Column                  Non-Null Count  Dtype \n",
      "---  ------                  --------------  ----- \n",
      " 0   user_id                 2042 non-null   int64 \n",
      " 1   actual                  2042 non-null   object\n",
      " 2   random_recommendation   2042 non-null   object\n",
      " 3   popular_recommendation  2042 non-null   object\n",
      " 4   itemitem                2042 non-null   object\n",
      " 5   cosine                  2042 non-null   object\n",
      " 6   tfidf                   2042 non-null   object\n",
      " 7   own_purchases           2042 non-null   object\n",
      "dtypes: int64(1), object(7)\n",
      "memory usage: 127.8+ KB\n"
     ]
    }
   ],
   "source": [
    "preds.info()"
   ]
  },
  {
   "cell_type": "code",
   "execution_count": 244,
   "metadata": {},
   "outputs": [],
   "source": [
    "# import ast\n",
    "# preds['random_recommendation'].apply(lambda s: list(ast.literal_eval(s)))\n",
    "\n",
    "def str_tolist(row):\n",
    "    \n",
    "    \"\"\"Конвертация строковых ячеек с список\n",
    "    \n",
    "    Input\n",
    "    -----\n",
    "    row: str list\n",
    "        Список заковыченных список с разделителями \",\" и без\n",
    "    \"\"\"\n",
    "    \n",
    "    list_int = []\n",
    "    for i in row.strip('][').split():\n",
    "        list_int.append(int(i.rstrip(',')))\n",
    "    return list_int\n",
    "\n",
    "\n",
    "# фарматирование строк\n",
    "\n",
    "for cat_colname in preds.select_dtypes(include='object').columns:\n",
    "    preds[cat_colname] = preds.apply(lambda s: str_tolist(s[cat_colname]), axis=1)"
   ]
  },
  {
   "cell_type": "markdown",
   "metadata": {},
   "source": [
    "### Weighted Random Recommendation\n",
    "\n",
    "Напишите код для случайных рекоммендаций, в которых вероятность рекомендовать товар прямо пропорциональна логарифму продаж\n",
    "- Можно сэмплировать товары случайно, но пропорционально какому-либо весу\n",
    "- Например, прямопропорционально популярности. Вес = log(sales_sum товара)"
   ]
  },
  {
   "cell_type": "code",
   "execution_count": 245,
   "metadata": {},
   "outputs": [],
   "source": [
    "def weighted_random_recommendation(items_weights, n=5):\n",
    "    \n",
    "    \"\"\"Случайные рекоммендации, вероятность рекомендовать товар прямо пропорциональна логарифму продаж\n",
    "    \n",
    "    Input\n",
    "    -----\n",
    "    items_weights: pd.DataFrame\n",
    "        Датафрейм со столбцами item_id, weight. Сумма weight по всем товарам = 1\n",
    "    \"\"\"\n",
    "    items = np.array(items_weights['item_id'])\n",
    "    recs = np.random.choice(items, size=n, replace=False, p=items_weights['weight'].tolist())\n",
    "    \n",
    "    return recs.tolist()\n",
    "\n",
    "\n",
    "def get_item_weights(df):\n",
    "    \n",
    "    \"\"\"Ранжирование товаров по весам, пропорциональным логарифму продаж\n",
    "    \n",
    "    Input\n",
    "    -----\n",
    "    df: pd.DataFrame\n",
    "    \"\"\"\n",
    "    \n",
    "    weights = df.groupby('item_id')['sales_value'].sum().reset_index()\n",
    "    weights = weights[weights['sales_value']>1]\n",
    "    weights['weight']= np.log(weights['sales_value'] + 1e-8)\n",
    "    weights['weight'] = weights['weight'] / weights['weight'].sum()\n",
    "    weights.drop('sales_value', axis=1, inplace=True)\n",
    "    \n",
    "    return weights"
   ]
  },
  {
   "cell_type": "code",
   "execution_count": 246,
   "metadata": {},
   "outputs": [
    {
     "name": "stdout",
     "output_type": "stream",
     "text": [
      "Wall time: 9.56 s\n"
     ]
    },
    {
     "data": {
      "text/html": [
       "<div>\n",
       "<style scoped>\n",
       "    .dataframe tbody tr th:only-of-type {\n",
       "        vertical-align: middle;\n",
       "    }\n",
       "\n",
       "    .dataframe tbody tr th {\n",
       "        vertical-align: top;\n",
       "    }\n",
       "\n",
       "    .dataframe thead th {\n",
       "        text-align: right;\n",
       "    }\n",
       "</style>\n",
       "<table border=\"1\" class=\"dataframe\">\n",
       "  <thead>\n",
       "    <tr style=\"text-align: right;\">\n",
       "      <th></th>\n",
       "      <th>user_id</th>\n",
       "      <th>actual</th>\n",
       "      <th>random_recommendation</th>\n",
       "      <th>popular_recommendation</th>\n",
       "      <th>itemitem</th>\n",
       "      <th>cosine</th>\n",
       "      <th>tfidf</th>\n",
       "      <th>own_purchases</th>\n",
       "      <th>weighted_random_recommendation</th>\n",
       "    </tr>\n",
       "  </thead>\n",
       "  <tbody>\n",
       "    <tr>\n",
       "      <th>0</th>\n",
       "      <td>1</td>\n",
       "      <td>[821867, 834484, 856942, 865456, 889248, 90795...</td>\n",
       "      <td>[5586238, 1015228, 866118, 2416733, 2603573]</td>\n",
       "      <td>[6534178, 6533889, 1029743, 6534166, 1082185]</td>\n",
       "      <td>[981760, 1127831, 1098066, 826249, 878996]</td>\n",
       "      <td>[981760, 1127831, 1098066, 878996, 826249]</td>\n",
       "      <td>[981760, 1127831, 1098066, 826249, 878996]</td>\n",
       "      <td>[999999, 1082185, 1029743, 995785, 1004906]</td>\n",
       "      <td>[1025411, 13911667, 8184528, 2049325, 894764]</td>\n",
       "    </tr>\n",
       "    <tr>\n",
       "      <th>1</th>\n",
       "      <td>3</td>\n",
       "      <td>[835476, 851057, 872021, 878302, 879948, 90963...</td>\n",
       "      <td>[161354, 63027, 1027802, 12263694, 307395]</td>\n",
       "      <td>[6534178, 6533889, 1029743, 6534166, 1082185]</td>\n",
       "      <td>[981760, 995242, 1029743, 840361, 961554]</td>\n",
       "      <td>[981760, 1004906, 961554, 1096036, 1080414]</td>\n",
       "      <td>[981760, 1004906, 859075, 1096036, 961554]</td>\n",
       "      <td>[999999, 1082185, 1098066, 6534178, 1127831]</td>\n",
       "      <td>[894752, 836281, 12385586, 2227502, 7441783]</td>\n",
       "    </tr>\n",
       "    <tr>\n",
       "      <th>2</th>\n",
       "      <td>6</td>\n",
       "      <td>[920308, 926804, 946489, 1006718, 1017061, 107...</td>\n",
       "      <td>[13416054, 936084, 7410040, 9527114, 377218]</td>\n",
       "      <td>[6534178, 6533889, 1029743, 6534166, 1082185]</td>\n",
       "      <td>[1098066, 826249, 1106523, 923746, 1058997]</td>\n",
       "      <td>[1098066, 826249, 860776, 854852, 1068719]</td>\n",
       "      <td>[1098066, 826249, 860776, 1068719, 916122]</td>\n",
       "      <td>[999999, 1082185, 1029743, 6534178, 1127831]</td>\n",
       "      <td>[473690, 15596515, 10341855, 927041, 909479]</td>\n",
       "    </tr>\n",
       "    <tr>\n",
       "      <th>3</th>\n",
       "      <td>7</td>\n",
       "      <td>[840386, 889774, 898068, 909714, 929067, 95347...</td>\n",
       "      <td>[5574336, 990072, 868548, 995880, 842226]</td>\n",
       "      <td>[6534178, 6533889, 1029743, 6534166, 1082185]</td>\n",
       "      <td>[981760, 1098066, 840361, 883404, 916122]</td>\n",
       "      <td>[981760, 1098066, 883404, 1004906, 859075]</td>\n",
       "      <td>[981760, 883404, 1098066, 859075, 916122]</td>\n",
       "      <td>[999999, 1082185, 1029743, 1127831, 995785]</td>\n",
       "      <td>[910309, 983267, 1116096, 1059864, 974617]</td>\n",
       "    </tr>\n",
       "    <tr>\n",
       "      <th>4</th>\n",
       "      <td>8</td>\n",
       "      <td>[835098, 872137, 910439, 924610, 992977, 10412...</td>\n",
       "      <td>[1277401, 94446, 3133282, 1925252, 855699]</td>\n",
       "      <td>[6534178, 6533889, 1029743, 6534166, 1082185]</td>\n",
       "      <td>[904360, 13115903, 13189726, 13190294, 15596515]</td>\n",
       "      <td>[904360, 5588666, 1096036, 979707, 1013321]</td>\n",
       "      <td>[904360, 1096036, 5588666, 979707, 1013321]</td>\n",
       "      <td>[999999, 1082185, 1029743, 1098066, 6534178]</td>\n",
       "      <td>[5564325, 884363, 975324, 1019893, 1074521]</td>\n",
       "    </tr>\n",
       "  </tbody>\n",
       "</table>\n",
       "</div>"
      ],
      "text/plain": [
       "   user_id                                             actual  \\\n",
       "0        1  [821867, 834484, 856942, 865456, 889248, 90795...   \n",
       "1        3  [835476, 851057, 872021, 878302, 879948, 90963...   \n",
       "2        6  [920308, 926804, 946489, 1006718, 1017061, 107...   \n",
       "3        7  [840386, 889774, 898068, 909714, 929067, 95347...   \n",
       "4        8  [835098, 872137, 910439, 924610, 992977, 10412...   \n",
       "\n",
       "                          random_recommendation  \\\n",
       "0  [5586238, 1015228, 866118, 2416733, 2603573]   \n",
       "1    [161354, 63027, 1027802, 12263694, 307395]   \n",
       "2  [13416054, 936084, 7410040, 9527114, 377218]   \n",
       "3     [5574336, 990072, 868548, 995880, 842226]   \n",
       "4    [1277401, 94446, 3133282, 1925252, 855699]   \n",
       "\n",
       "                          popular_recommendation  \\\n",
       "0  [6534178, 6533889, 1029743, 6534166, 1082185]   \n",
       "1  [6534178, 6533889, 1029743, 6534166, 1082185]   \n",
       "2  [6534178, 6533889, 1029743, 6534166, 1082185]   \n",
       "3  [6534178, 6533889, 1029743, 6534166, 1082185]   \n",
       "4  [6534178, 6533889, 1029743, 6534166, 1082185]   \n",
       "\n",
       "                                           itemitem  \\\n",
       "0        [981760, 1127831, 1098066, 826249, 878996]   \n",
       "1         [981760, 995242, 1029743, 840361, 961554]   \n",
       "2       [1098066, 826249, 1106523, 923746, 1058997]   \n",
       "3         [981760, 1098066, 840361, 883404, 916122]   \n",
       "4  [904360, 13115903, 13189726, 13190294, 15596515]   \n",
       "\n",
       "                                        cosine  \\\n",
       "0   [981760, 1127831, 1098066, 878996, 826249]   \n",
       "1  [981760, 1004906, 961554, 1096036, 1080414]   \n",
       "2   [1098066, 826249, 860776, 854852, 1068719]   \n",
       "3   [981760, 1098066, 883404, 1004906, 859075]   \n",
       "4  [904360, 5588666, 1096036, 979707, 1013321]   \n",
       "\n",
       "                                         tfidf  \\\n",
       "0   [981760, 1127831, 1098066, 826249, 878996]   \n",
       "1   [981760, 1004906, 859075, 1096036, 961554]   \n",
       "2   [1098066, 826249, 860776, 1068719, 916122]   \n",
       "3    [981760, 883404, 1098066, 859075, 916122]   \n",
       "4  [904360, 1096036, 5588666, 979707, 1013321]   \n",
       "\n",
       "                                  own_purchases  \\\n",
       "0   [999999, 1082185, 1029743, 995785, 1004906]   \n",
       "1  [999999, 1082185, 1098066, 6534178, 1127831]   \n",
       "2  [999999, 1082185, 1029743, 6534178, 1127831]   \n",
       "3   [999999, 1082185, 1029743, 1127831, 995785]   \n",
       "4  [999999, 1082185, 1029743, 1098066, 6534178]   \n",
       "\n",
       "                  weighted_random_recommendation  \n",
       "0  [1025411, 13911667, 8184528, 2049325, 894764]  \n",
       "1   [894752, 836281, 12385586, 2227502, 7441783]  \n",
       "2   [473690, 15596515, 10341855, 927041, 909479]  \n",
       "3     [910309, 983267, 1116096, 1059864, 974617]  \n",
       "4    [5564325, 884363, 975324, 1019893, 1074521]  "
      ]
     },
     "execution_count": 246,
     "metadata": {},
     "output_type": "execute_result"
    }
   ],
   "source": [
    "%%time\n",
    "\n",
    "item_weights = get_item_weights(data_train)\n",
    "\n",
    "preds['weighted_random_recommendation'] = preds['user_id'].apply\\\n",
    "                                    (lambda x: weighted_random_recommendation(items_weights, n=k))\n",
    "preds.head()"
   ]
  },
  {
   "cell_type": "markdown",
   "metadata": {},
   "source": [
    "### Расчет метрик\n",
    "Рассчитайте Precision@5 для каждого алгоритма с помощью функции из вебинара 1. Какой алгоритм показывает лучшее качество?"
   ]
  },
  {
   "cell_type": "code",
   "execution_count": 247,
   "metadata": {},
   "outputs": [],
   "source": [
    "# Precision - доля релевантных товаров среди рекомендованных = Какой % рекомендованных товаров юзер купил\n",
    "# Precision@k = (# of recommended items @k that are relevant) / (# of recommended items @k)\n",
    "\n",
    "def precision_at_k(recommended_list, bought_list, k=5):\n",
    "    \n",
    "    bought_list = np.array(bought_list)\n",
    "    recommended_list = np.array(recommended_list)\n",
    "    \n",
    "    bought_list = bought_list  # Тут нет [:k] !!\n",
    "    recommended_list = recommended_list[:k]\n",
    "    \n",
    "    flags = np.isin(bought_list, recommended_list)\n",
    "    \n",
    "    precision = flags.sum() / len(recommended_list)\n",
    "    \n",
    "    return precision"
   ]
  },
  {
   "cell_type": "code",
   "execution_count": 248,
   "metadata": {},
   "outputs": [
    {
     "name": "stdout",
     "output_type": "stream",
     "text": [
      "random_recommendation:  0.0006\n",
      "popular_recommendation:  0.1552\n",
      "itemitem:  0.0336\n",
      "cosine:  0.0353\n",
      "tfidf:  0.0361\n",
      "own_purchases:  0.1800\n",
      "weighted_random_recommendation:  0.0013\n"
     ]
    }
   ],
   "source": [
    "for col in preds.iloc[:,2:]:\n",
    "    print(col +\": \",\"{0:.4f}\".format(preds.apply(lambda row: precision_at_k(row[col], row['actual'], k=k), axis=1).mean()))"
   ]
  },
  {
   "cell_type": "markdown",
   "metadata": {},
   "source": [
    "### Улучшение Weighted Random Recommendation\n",
    "\n",
    "- Попробуйте улучшить бейзлайны, считая их на топ-5000 товаров"
   ]
  },
  {
   "cell_type": "code",
   "execution_count": 259,
   "metadata": {},
   "outputs": [],
   "source": [
    "# Улучшим бейзлайн присвоения весов товарам\n",
    "\n",
    "def get_popular_item_weights(df, ntop=5000):\n",
    "    \n",
    "    \"\"\"Ранжирование товаров по весам, пропорциональным логарифму продаж по топовым позициям\n",
    "    \n",
    "    Input\n",
    "    -----\n",
    "    df: pd.DataFrame\n",
    "    \"\"\"\n",
    "    \n",
    "    pop_weights = df.groupby('item_id')['sales_value'].sum().reset_index()\n",
    "    pop_weights.sort_values('sales_value', ascending=False, inplace=True)\n",
    "\n",
    "    pop_weights = pop_weights.head(ntop)\n",
    "    pop_weights['weight']= np.log(pop_weights['sales_value'] + 1e-3)\n",
    "    pop_weights['weight'] = pop_weights['weight'] / pop_weights['weight'].sum()\n",
    "    pop_weights.drop('sales_value', axis=1, inplace=True)\n",
    "    \n",
    "    return pop_weights"
   ]
  },
  {
   "cell_type": "code",
   "execution_count": 264,
   "metadata": {},
   "outputs": [
    {
     "name": "stdout",
     "output_type": "stream",
     "text": [
      "Wall time: 10.8 s\n"
     ]
    },
    {
     "data": {
      "text/html": [
       "<div>\n",
       "<style scoped>\n",
       "    .dataframe tbody tr th:only-of-type {\n",
       "        vertical-align: middle;\n",
       "    }\n",
       "\n",
       "    .dataframe tbody tr th {\n",
       "        vertical-align: top;\n",
       "    }\n",
       "\n",
       "    .dataframe thead th {\n",
       "        text-align: right;\n",
       "    }\n",
       "</style>\n",
       "<table border=\"1\" class=\"dataframe\">\n",
       "  <thead>\n",
       "    <tr style=\"text-align: right;\">\n",
       "      <th></th>\n",
       "      <th>user_id</th>\n",
       "      <th>actual</th>\n",
       "      <th>random_recommendation</th>\n",
       "      <th>popular_recommendation</th>\n",
       "      <th>itemitem</th>\n",
       "      <th>cosine</th>\n",
       "      <th>tfidf</th>\n",
       "      <th>own_purchases</th>\n",
       "      <th>weighted_random_recommendation</th>\n",
       "      <th>popular_weighted_random_recommendation</th>\n",
       "    </tr>\n",
       "  </thead>\n",
       "  <tbody>\n",
       "    <tr>\n",
       "      <th>0</th>\n",
       "      <td>1</td>\n",
       "      <td>[821867, 834484, 856942, 865456, 889248, 90795...</td>\n",
       "      <td>[5586238, 1015228, 866118, 2416733, 2603573]</td>\n",
       "      <td>[6534178, 6533889, 1029743, 6534166, 1082185]</td>\n",
       "      <td>[981760, 1127831, 1098066, 826249, 878996]</td>\n",
       "      <td>[981760, 1127831, 1098066, 878996, 826249]</td>\n",
       "      <td>[981760, 1127831, 1098066, 826249, 878996]</td>\n",
       "      <td>[999999, 1082185, 1029743, 995785, 1004906]</td>\n",
       "      <td>[1025411, 13911667, 8184528, 2049325, 894764]</td>\n",
       "      <td>[822629, 10149863, 917384, 975505, 904875]</td>\n",
       "    </tr>\n",
       "    <tr>\n",
       "      <th>1</th>\n",
       "      <td>3</td>\n",
       "      <td>[835476, 851057, 872021, 878302, 879948, 90963...</td>\n",
       "      <td>[161354, 63027, 1027802, 12263694, 307395]</td>\n",
       "      <td>[6534178, 6533889, 1029743, 6534166, 1082185]</td>\n",
       "      <td>[981760, 995242, 1029743, 840361, 961554]</td>\n",
       "      <td>[981760, 1004906, 961554, 1096036, 1080414]</td>\n",
       "      <td>[981760, 1004906, 859075, 1096036, 961554]</td>\n",
       "      <td>[999999, 1082185, 1098066, 6534178, 1127831]</td>\n",
       "      <td>[894752, 836281, 12385586, 2227502, 7441783]</td>\n",
       "      <td>[9487414, 1615555, 9337674, 6423993, 863447]</td>\n",
       "    </tr>\n",
       "    <tr>\n",
       "      <th>2</th>\n",
       "      <td>6</td>\n",
       "      <td>[920308, 926804, 946489, 1006718, 1017061, 107...</td>\n",
       "      <td>[13416054, 936084, 7410040, 9527114, 377218]</td>\n",
       "      <td>[6534178, 6533889, 1029743, 6534166, 1082185]</td>\n",
       "      <td>[1098066, 826249, 1106523, 923746, 1058997]</td>\n",
       "      <td>[1098066, 826249, 860776, 854852, 1068719]</td>\n",
       "      <td>[1098066, 826249, 860776, 1068719, 916122]</td>\n",
       "      <td>[999999, 1082185, 1029743, 6534178, 1127831]</td>\n",
       "      <td>[473690, 15596515, 10341855, 927041, 909479]</td>\n",
       "      <td>[981677, 1105137, 983659, 924421, 12456592]</td>\n",
       "    </tr>\n",
       "    <tr>\n",
       "      <th>3</th>\n",
       "      <td>7</td>\n",
       "      <td>[840386, 889774, 898068, 909714, 929067, 95347...</td>\n",
       "      <td>[5574336, 990072, 868548, 995880, 842226]</td>\n",
       "      <td>[6534178, 6533889, 1029743, 6534166, 1082185]</td>\n",
       "      <td>[981760, 1098066, 840361, 883404, 916122]</td>\n",
       "      <td>[981760, 1098066, 883404, 1004906, 859075]</td>\n",
       "      <td>[981760, 883404, 1098066, 859075, 916122]</td>\n",
       "      <td>[999999, 1082185, 1029743, 1127831, 995785]</td>\n",
       "      <td>[910309, 983267, 1116096, 1059864, 974617]</td>\n",
       "      <td>[9245312, 1007667, 9446848, 5575652, 50509]</td>\n",
       "    </tr>\n",
       "    <tr>\n",
       "      <th>4</th>\n",
       "      <td>8</td>\n",
       "      <td>[835098, 872137, 910439, 924610, 992977, 10412...</td>\n",
       "      <td>[1277401, 94446, 3133282, 1925252, 855699]</td>\n",
       "      <td>[6534178, 6533889, 1029743, 6534166, 1082185]</td>\n",
       "      <td>[904360, 13115903, 13189726, 13190294, 15596515]</td>\n",
       "      <td>[904360, 5588666, 1096036, 979707, 1013321]</td>\n",
       "      <td>[904360, 1096036, 5588666, 979707, 1013321]</td>\n",
       "      <td>[999999, 1082185, 1029743, 1098066, 6534178]</td>\n",
       "      <td>[5564325, 884363, 975324, 1019893, 1074521]</td>\n",
       "      <td>[1028890, 974108, 930466, 950566, 13774754]</td>\n",
       "    </tr>\n",
       "  </tbody>\n",
       "</table>\n",
       "</div>"
      ],
      "text/plain": [
       "   user_id                                             actual  \\\n",
       "0        1  [821867, 834484, 856942, 865456, 889248, 90795...   \n",
       "1        3  [835476, 851057, 872021, 878302, 879948, 90963...   \n",
       "2        6  [920308, 926804, 946489, 1006718, 1017061, 107...   \n",
       "3        7  [840386, 889774, 898068, 909714, 929067, 95347...   \n",
       "4        8  [835098, 872137, 910439, 924610, 992977, 10412...   \n",
       "\n",
       "                          random_recommendation  \\\n",
       "0  [5586238, 1015228, 866118, 2416733, 2603573]   \n",
       "1    [161354, 63027, 1027802, 12263694, 307395]   \n",
       "2  [13416054, 936084, 7410040, 9527114, 377218]   \n",
       "3     [5574336, 990072, 868548, 995880, 842226]   \n",
       "4    [1277401, 94446, 3133282, 1925252, 855699]   \n",
       "\n",
       "                          popular_recommendation  \\\n",
       "0  [6534178, 6533889, 1029743, 6534166, 1082185]   \n",
       "1  [6534178, 6533889, 1029743, 6534166, 1082185]   \n",
       "2  [6534178, 6533889, 1029743, 6534166, 1082185]   \n",
       "3  [6534178, 6533889, 1029743, 6534166, 1082185]   \n",
       "4  [6534178, 6533889, 1029743, 6534166, 1082185]   \n",
       "\n",
       "                                           itemitem  \\\n",
       "0        [981760, 1127831, 1098066, 826249, 878996]   \n",
       "1         [981760, 995242, 1029743, 840361, 961554]   \n",
       "2       [1098066, 826249, 1106523, 923746, 1058997]   \n",
       "3         [981760, 1098066, 840361, 883404, 916122]   \n",
       "4  [904360, 13115903, 13189726, 13190294, 15596515]   \n",
       "\n",
       "                                        cosine  \\\n",
       "0   [981760, 1127831, 1098066, 878996, 826249]   \n",
       "1  [981760, 1004906, 961554, 1096036, 1080414]   \n",
       "2   [1098066, 826249, 860776, 854852, 1068719]   \n",
       "3   [981760, 1098066, 883404, 1004906, 859075]   \n",
       "4  [904360, 5588666, 1096036, 979707, 1013321]   \n",
       "\n",
       "                                         tfidf  \\\n",
       "0   [981760, 1127831, 1098066, 826249, 878996]   \n",
       "1   [981760, 1004906, 859075, 1096036, 961554]   \n",
       "2   [1098066, 826249, 860776, 1068719, 916122]   \n",
       "3    [981760, 883404, 1098066, 859075, 916122]   \n",
       "4  [904360, 1096036, 5588666, 979707, 1013321]   \n",
       "\n",
       "                                  own_purchases  \\\n",
       "0   [999999, 1082185, 1029743, 995785, 1004906]   \n",
       "1  [999999, 1082185, 1098066, 6534178, 1127831]   \n",
       "2  [999999, 1082185, 1029743, 6534178, 1127831]   \n",
       "3   [999999, 1082185, 1029743, 1127831, 995785]   \n",
       "4  [999999, 1082185, 1029743, 1098066, 6534178]   \n",
       "\n",
       "                  weighted_random_recommendation  \\\n",
       "0  [1025411, 13911667, 8184528, 2049325, 894764]   \n",
       "1   [894752, 836281, 12385586, 2227502, 7441783]   \n",
       "2   [473690, 15596515, 10341855, 927041, 909479]   \n",
       "3     [910309, 983267, 1116096, 1059864, 974617]   \n",
       "4    [5564325, 884363, 975324, 1019893, 1074521]   \n",
       "\n",
       "         popular_weighted_random_recommendation  \n",
       "0    [822629, 10149863, 917384, 975505, 904875]  \n",
       "1  [9487414, 1615555, 9337674, 6423993, 863447]  \n",
       "2   [981677, 1105137, 983659, 924421, 12456592]  \n",
       "3   [9245312, 1007667, 9446848, 5575652, 50509]  \n",
       "4   [1028890, 974108, 930466, 950566, 13774754]  "
      ]
     },
     "execution_count": 264,
     "metadata": {},
     "output_type": "execute_result"
    }
   ],
   "source": [
    "%%time\n",
    "\n",
    "# Объединение Weighted Random Recommendation и Popularity-based recommendation\n",
    "\n",
    "pop_item_weights = get_popular_item_weights(data_train, ntop_positions)\n",
    "\n",
    "preds['popular_weighted_random_recommendation'] = preds['user_id'].apply\\\n",
    "                                    (lambda x: weighted_random_recommendation(items_weights, n=k))\n",
    "preds.head()"
   ]
  },
  {
   "cell_type": "code",
   "execution_count": 265,
   "metadata": {},
   "outputs": [
    {
     "name": "stdout",
     "output_type": "stream",
     "text": [
      "random_recommendation:  0.0006\n",
      "popular_recommendation:  0.1552\n",
      "itemitem:  0.0336\n",
      "cosine:  0.0353\n",
      "tfidf:  0.0361\n",
      "own_purchases:  0.1800\n",
      "weighted_random_recommendation:  0.0013\n",
      "popular_weighted_random_recommendation:  0.0016\n"
     ]
    }
   ],
   "source": [
    "# Вывод Precision@k\n",
    "for col in preds.iloc[:,2:]:\n",
    "    print(col +\": \",\"{0:.4f}\".format(preds.apply(lambda row: precision_at_k(row[col], row['actual'], k=k), axis=1).mean()))"
   ]
  },
  {
   "cell_type": "markdown",
   "metadata": {},
   "source": [
    "### Улучшение и ItemItem Recommendation\n",
    "\n",
    "Тюнинг ItemItemRecommender с различным числом соседей $K$."
   ]
  },
  {
   "cell_type": "code",
   "execution_count": 266,
   "metadata": {},
   "outputs": [],
   "source": [
    "# Item-Item Recommender / ItemKNN\n",
    "\n",
    "popularity = data_train.groupby('item_id')['quantity'].sum().reset_index()\n",
    "popularity.rename(columns={'quantity': 'n_sold'}, inplace=True)\n",
    "\n",
    "top_5000 = popularity.sort_values('n_sold', ascending=False).head(5000).item_id.tolist()"
   ]
  },
  {
   "cell_type": "code",
   "execution_count": 267,
   "metadata": {
    "scrolled": true
   },
   "outputs": [
    {
     "name": "stderr",
     "output_type": "stream",
     "text": [
      "C:\\Users\\Nickel\\anaconda3\\lib\\site-packages\\pandas\\core\\indexing.py:965: SettingWithCopyWarning: \n",
      "A value is trying to be set on a copy of a slice from a DataFrame.\n",
      "Try using .loc[row_indexer,col_indexer] = value instead\n",
      "\n",
      "See the caveats in the documentation: https://pandas.pydata.org/pandas-docs/stable/user_guide/indexing.html#returning-a-view-versus-a-copy\n",
      "  self.obj[item] = s\n"
     ]
    },
    {
     "data": {
      "text/html": [
       "<div>\n",
       "<style scoped>\n",
       "    .dataframe tbody tr th:only-of-type {\n",
       "        vertical-align: middle;\n",
       "    }\n",
       "\n",
       "    .dataframe tbody tr th {\n",
       "        vertical-align: top;\n",
       "    }\n",
       "\n",
       "    .dataframe thead th {\n",
       "        text-align: right;\n",
       "    }\n",
       "</style>\n",
       "<table border=\"1\" class=\"dataframe\">\n",
       "  <thead>\n",
       "    <tr style=\"text-align: right;\">\n",
       "      <th>item_id</th>\n",
       "      <th>202291</th>\n",
       "      <th>397896</th>\n",
       "      <th>420647</th>\n",
       "      <th>480014</th>\n",
       "      <th>545926</th>\n",
       "      <th>707683</th>\n",
       "      <th>731106</th>\n",
       "      <th>818980</th>\n",
       "      <th>819063</th>\n",
       "      <th>819227</th>\n",
       "      <th>...</th>\n",
       "      <th>15778533</th>\n",
       "      <th>15831255</th>\n",
       "      <th>15926712</th>\n",
       "      <th>15926775</th>\n",
       "      <th>15926844</th>\n",
       "      <th>15926886</th>\n",
       "      <th>15927403</th>\n",
       "      <th>15927661</th>\n",
       "      <th>15927850</th>\n",
       "      <th>16809471</th>\n",
       "    </tr>\n",
       "    <tr>\n",
       "      <th>user_id</th>\n",
       "      <th></th>\n",
       "      <th></th>\n",
       "      <th></th>\n",
       "      <th></th>\n",
       "      <th></th>\n",
       "      <th></th>\n",
       "      <th></th>\n",
       "      <th></th>\n",
       "      <th></th>\n",
       "      <th></th>\n",
       "      <th></th>\n",
       "      <th></th>\n",
       "      <th></th>\n",
       "      <th></th>\n",
       "      <th></th>\n",
       "      <th></th>\n",
       "      <th></th>\n",
       "      <th></th>\n",
       "      <th></th>\n",
       "      <th></th>\n",
       "      <th></th>\n",
       "    </tr>\n",
       "  </thead>\n",
       "  <tbody>\n",
       "    <tr>\n",
       "      <th>1</th>\n",
       "      <td>0.0</td>\n",
       "      <td>0.0</td>\n",
       "      <td>0.0</td>\n",
       "      <td>0.0</td>\n",
       "      <td>0.0</td>\n",
       "      <td>0.0</td>\n",
       "      <td>0.0</td>\n",
       "      <td>0.0</td>\n",
       "      <td>0.0</td>\n",
       "      <td>0.0</td>\n",
       "      <td>...</td>\n",
       "      <td>0.0</td>\n",
       "      <td>0.0</td>\n",
       "      <td>0.0</td>\n",
       "      <td>0.0</td>\n",
       "      <td>1.0</td>\n",
       "      <td>0.0</td>\n",
       "      <td>0.0</td>\n",
       "      <td>0.0</td>\n",
       "      <td>0.0</td>\n",
       "      <td>0.0</td>\n",
       "    </tr>\n",
       "    <tr>\n",
       "      <th>2</th>\n",
       "      <td>0.0</td>\n",
       "      <td>0.0</td>\n",
       "      <td>0.0</td>\n",
       "      <td>0.0</td>\n",
       "      <td>0.0</td>\n",
       "      <td>0.0</td>\n",
       "      <td>0.0</td>\n",
       "      <td>0.0</td>\n",
       "      <td>0.0</td>\n",
       "      <td>0.0</td>\n",
       "      <td>...</td>\n",
       "      <td>0.0</td>\n",
       "      <td>0.0</td>\n",
       "      <td>0.0</td>\n",
       "      <td>0.0</td>\n",
       "      <td>0.0</td>\n",
       "      <td>0.0</td>\n",
       "      <td>0.0</td>\n",
       "      <td>0.0</td>\n",
       "      <td>0.0</td>\n",
       "      <td>0.0</td>\n",
       "    </tr>\n",
       "    <tr>\n",
       "      <th>3</th>\n",
       "      <td>0.0</td>\n",
       "      <td>0.0</td>\n",
       "      <td>0.0</td>\n",
       "      <td>0.0</td>\n",
       "      <td>0.0</td>\n",
       "      <td>0.0</td>\n",
       "      <td>0.0</td>\n",
       "      <td>0.0</td>\n",
       "      <td>0.0</td>\n",
       "      <td>0.0</td>\n",
       "      <td>...</td>\n",
       "      <td>0.0</td>\n",
       "      <td>0.0</td>\n",
       "      <td>0.0</td>\n",
       "      <td>0.0</td>\n",
       "      <td>0.0</td>\n",
       "      <td>0.0</td>\n",
       "      <td>0.0</td>\n",
       "      <td>0.0</td>\n",
       "      <td>0.0</td>\n",
       "      <td>0.0</td>\n",
       "    </tr>\n",
       "  </tbody>\n",
       "</table>\n",
       "<p>3 rows × 5000 columns</p>\n",
       "</div>"
      ],
      "text/plain": [
       "item_id  202291    397896    420647    480014    545926    707683    731106    \\\n",
       "user_id                                                                         \n",
       "1             0.0       0.0       0.0       0.0       0.0       0.0       0.0   \n",
       "2             0.0       0.0       0.0       0.0       0.0       0.0       0.0   \n",
       "3             0.0       0.0       0.0       0.0       0.0       0.0       0.0   \n",
       "\n",
       "item_id  818980    819063    819227    ...  15778533  15831255  15926712  \\\n",
       "user_id                                ...                                 \n",
       "1             0.0       0.0       0.0  ...       0.0       0.0       0.0   \n",
       "2             0.0       0.0       0.0  ...       0.0       0.0       0.0   \n",
       "3             0.0       0.0       0.0  ...       0.0       0.0       0.0   \n",
       "\n",
       "item_id  15926775  15926844  15926886  15927403  15927661  15927850  16809471  \n",
       "user_id                                                                        \n",
       "1             0.0       1.0       0.0       0.0       0.0       0.0       0.0  \n",
       "2             0.0       0.0       0.0       0.0       0.0       0.0       0.0  \n",
       "3             0.0       0.0       0.0       0.0       0.0       0.0       0.0  \n",
       "\n",
       "[3 rows x 5000 columns]"
      ]
     },
     "execution_count": 267,
     "metadata": {},
     "output_type": "execute_result"
    }
   ],
   "source": [
    "# Заведем фиктивный item_id (если юзер покупал товары из топ-5000, то он \"купил\" такой товар)\n",
    "data_train.loc[~data_train['item_id'].isin(top_5000), 'item_id'] = 999999\n",
    "\n",
    "user_item_matrix = pd.pivot_table(data_train, \n",
    "                                  index='user_id', columns='item_id', \n",
    "                                  values='quantity',\n",
    "                                  aggfunc='count', \n",
    "                                  fill_value=0\n",
    "                                 )\n",
    "\n",
    "user_item_matrix[user_item_matrix > 0] = 1 # так как в итоге хотим предсказать \n",
    "user_item_matrix = user_item_matrix.astype(float) # необходимый тип матрицы для implicit\n",
    "\n",
    "# переведем в формат saprse matrix\n",
    "sparse_user_item = csr_matrix(user_item_matrix).tocsr()\n",
    "\n",
    "user_item_matrix.head(3)"
   ]
  },
  {
   "cell_type": "code",
   "execution_count": 268,
   "metadata": {},
   "outputs": [
    {
     "data": {
      "text/plain": [
       "(2499, 5000)"
      ]
     },
     "execution_count": 268,
     "metadata": {},
     "output_type": "execute_result"
    }
   ],
   "source": [
    "user_item_matrix.shape"
   ]
  },
  {
   "cell_type": "code",
   "execution_count": 269,
   "metadata": {},
   "outputs": [
    {
     "data": {
      "text/plain": [
       "0.05338359343737495"
      ]
     },
     "execution_count": 269,
     "metadata": {},
     "output_type": "execute_result"
    }
   ],
   "source": [
    "# Доля ненулевых элементов в sparse matrix\n",
    "user_item_matrix.sum().sum() / (user_item_matrix.shape[0] * user_item_matrix.shape[1])"
   ]
  },
  {
   "cell_type": "code",
   "execution_count": 270,
   "metadata": {},
   "outputs": [],
   "source": [
    "userids = user_item_matrix.index.values\n",
    "itemids = user_item_matrix.columns.values\n",
    "\n",
    "matrix_userids = np.arange(len(userids))\n",
    "matrix_itemids = np.arange(len(itemids))\n",
    "\n",
    "id_to_itemid = dict(zip(matrix_itemids, itemids))\n",
    "id_to_userid = dict(zip(matrix_userids, userids))\n",
    "\n",
    "itemid_to_id = dict(zip(itemids, matrix_itemids))\n",
    "userid_to_id = dict(zip(userids, matrix_userids))"
   ]
  },
  {
   "cell_type": "code",
   "execution_count": 271,
   "metadata": {},
   "outputs": [],
   "source": [
    "def eval_item_item(df, knn=k, n_th=n_threads):\n",
    "    \n",
    "    for nn in knn: \n",
    "        model = ItemItemRecommender(K=nn, num_threads=n_th) # K - кол-во ближайших соседей\n",
    "\n",
    "        model.fit(csr_matrix(user_item_matrix).T.tocsr(),  # На вход item-user matrix\n",
    "              show_progress=True)\n",
    "\n",
    "        df[f'itemitem k-{nn}'] = df['user_id'].\\\n",
    "            apply(lambda x: [id_to_itemid[rec[0]] for rec in \n",
    "                            model.recommend(userid=userid_to_id[x], \n",
    "                                        user_items=sparse_user_item,   # на вход user-item matrix\n",
    "                                        N=k, \n",
    "                                        filter_already_liked_items=True, \n",
    "                                        filter_items=None, \n",
    "                                        recalculate_user=True)])\n",
    "    return df"
   ]
  },
  {
   "cell_type": "code",
   "execution_count": 272,
   "metadata": {},
   "outputs": [],
   "source": [
    "item_item_df = preds.copy().drop(preds.columns[2:], axis=1)\n",
    "k_neighb = np.arange(1,11,1) # [1,2,3,4,5,6,7,8,9,10]"
   ]
  },
  {
   "cell_type": "code",
   "execution_count": 273,
   "metadata": {},
   "outputs": [
    {
     "data": {
      "application/vnd.jupyter.widget-view+json": {
       "model_id": "d59a226e2e384e5886764dbf0855830b",
       "version_major": 2,
       "version_minor": 0
      },
      "text/plain": [
       "HBox(children=(FloatProgress(value=0.0, max=5000.0), HTML(value='')))"
      ]
     },
     "metadata": {},
     "output_type": "display_data"
    },
    {
     "name": "stdout",
     "output_type": "stream",
     "text": [
      "\n"
     ]
    },
    {
     "data": {
      "application/vnd.jupyter.widget-view+json": {
       "model_id": "3e21db6c1fff4d599fe3192f75290f9f",
       "version_major": 2,
       "version_minor": 0
      },
      "text/plain": [
       "HBox(children=(FloatProgress(value=0.0, max=5000.0), HTML(value='')))"
      ]
     },
     "metadata": {},
     "output_type": "display_data"
    },
    {
     "name": "stdout",
     "output_type": "stream",
     "text": [
      "\n"
     ]
    },
    {
     "data": {
      "application/vnd.jupyter.widget-view+json": {
       "model_id": "14cb3b6a9855411bb5afa7d9afeb1962",
       "version_major": 2,
       "version_minor": 0
      },
      "text/plain": [
       "HBox(children=(FloatProgress(value=0.0, max=5000.0), HTML(value='')))"
      ]
     },
     "metadata": {},
     "output_type": "display_data"
    },
    {
     "name": "stdout",
     "output_type": "stream",
     "text": [
      "\n"
     ]
    },
    {
     "data": {
      "application/vnd.jupyter.widget-view+json": {
       "model_id": "f4b2e93793a44ade854c27fcf0858a1b",
       "version_major": 2,
       "version_minor": 0
      },
      "text/plain": [
       "HBox(children=(FloatProgress(value=0.0, max=5000.0), HTML(value='')))"
      ]
     },
     "metadata": {},
     "output_type": "display_data"
    },
    {
     "name": "stdout",
     "output_type": "stream",
     "text": [
      "\n"
     ]
    },
    {
     "data": {
      "application/vnd.jupyter.widget-view+json": {
       "model_id": "ce48cc390f4847c78b88ac1de76a82aa",
       "version_major": 2,
       "version_minor": 0
      },
      "text/plain": [
       "HBox(children=(FloatProgress(value=0.0, max=5000.0), HTML(value='')))"
      ]
     },
     "metadata": {},
     "output_type": "display_data"
    },
    {
     "name": "stdout",
     "output_type": "stream",
     "text": [
      "\n"
     ]
    },
    {
     "data": {
      "application/vnd.jupyter.widget-view+json": {
       "model_id": "d259f4c417b74c8e897224e85eb7ee58",
       "version_major": 2,
       "version_minor": 0
      },
      "text/plain": [
       "HBox(children=(FloatProgress(value=0.0, max=5000.0), HTML(value='')))"
      ]
     },
     "metadata": {},
     "output_type": "display_data"
    },
    {
     "name": "stdout",
     "output_type": "stream",
     "text": [
      "\n"
     ]
    },
    {
     "data": {
      "application/vnd.jupyter.widget-view+json": {
       "model_id": "c4b5bc646c51492a9b338ddac9a32f08",
       "version_major": 2,
       "version_minor": 0
      },
      "text/plain": [
       "HBox(children=(FloatProgress(value=0.0, max=5000.0), HTML(value='')))"
      ]
     },
     "metadata": {},
     "output_type": "display_data"
    },
    {
     "name": "stdout",
     "output_type": "stream",
     "text": [
      "\n"
     ]
    },
    {
     "data": {
      "application/vnd.jupyter.widget-view+json": {
       "model_id": "c1646650ba5d4339b1651ebdbd79a91f",
       "version_major": 2,
       "version_minor": 0
      },
      "text/plain": [
       "HBox(children=(FloatProgress(value=0.0, max=5000.0), HTML(value='')))"
      ]
     },
     "metadata": {},
     "output_type": "display_data"
    },
    {
     "name": "stdout",
     "output_type": "stream",
     "text": [
      "\n"
     ]
    },
    {
     "data": {
      "application/vnd.jupyter.widget-view+json": {
       "model_id": "0f2e7a2de0054d15bc15fa233be0f19f",
       "version_major": 2,
       "version_minor": 0
      },
      "text/plain": [
       "HBox(children=(FloatProgress(value=0.0, max=5000.0), HTML(value='')))"
      ]
     },
     "metadata": {},
     "output_type": "display_data"
    },
    {
     "name": "stdout",
     "output_type": "stream",
     "text": [
      "\n"
     ]
    },
    {
     "data": {
      "application/vnd.jupyter.widget-view+json": {
       "model_id": "910b0076432449a49a231765551d63c4",
       "version_major": 2,
       "version_minor": 0
      },
      "text/plain": [
       "HBox(children=(FloatProgress(value=0.0, max=5000.0), HTML(value='')))"
      ]
     },
     "metadata": {},
     "output_type": "display_data"
    },
    {
     "name": "stdout",
     "output_type": "stream",
     "text": [
      "\n",
      "Wall time: 8.83 s\n"
     ]
    }
   ],
   "source": [
    "%%time\n",
    "\n",
    "item_item_res = eval_item_item(item_item_df, k_neighb)\n"
   ]
  },
  {
   "cell_type": "code",
   "execution_count": 275,
   "metadata": {},
   "outputs": [
    {
     "data": {
      "text/html": [
       "<div>\n",
       "<style scoped>\n",
       "    .dataframe tbody tr th:only-of-type {\n",
       "        vertical-align: middle;\n",
       "    }\n",
       "\n",
       "    .dataframe tbody tr th {\n",
       "        vertical-align: top;\n",
       "    }\n",
       "\n",
       "    .dataframe thead th {\n",
       "        text-align: right;\n",
       "    }\n",
       "</style>\n",
       "<table border=\"1\" class=\"dataframe\">\n",
       "  <thead>\n",
       "    <tr style=\"text-align: right;\">\n",
       "      <th></th>\n",
       "      <th>user_id</th>\n",
       "      <th>actual</th>\n",
       "      <th>itemitem k-1</th>\n",
       "      <th>itemitem k-2</th>\n",
       "      <th>itemitem k-3</th>\n",
       "      <th>itemitem k-4</th>\n",
       "      <th>itemitem k-5</th>\n",
       "      <th>itemitem k-6</th>\n",
       "      <th>itemitem k-7</th>\n",
       "      <th>itemitem k-8</th>\n",
       "      <th>itemitem k-9</th>\n",
       "      <th>itemitem k-10</th>\n",
       "    </tr>\n",
       "  </thead>\n",
       "  <tbody>\n",
       "    <tr>\n",
       "      <th>0</th>\n",
       "      <td>1</td>\n",
       "      <td>[821867, 834484, 856942, 865456, 889248, 90795...</td>\n",
       "      <td>[10455984, 12172240, 12810393, 15926844, 12324...</td>\n",
       "      <td>[10455984, 12172240, 12810393, 15926844, 12324...</td>\n",
       "      <td>[981760, 6534178, 12324948, 15926844, 12810393]</td>\n",
       "      <td>[981760, 1127831, 1098066, 854852, 866211]</td>\n",
       "      <td>[981760, 1127831, 1098066, 826249, 878996]</td>\n",
       "      <td>[981760, 1127831, 1098066, 826249, 878996]</td>\n",
       "      <td>[981760, 1127831, 1098066, 826249, 878996]</td>\n",
       "      <td>[981760, 1127831, 1098066, 826249, 6534178]</td>\n",
       "      <td>[981760, 1127831, 1098066, 826249, 6534178]</td>\n",
       "      <td>[981760, 1127831, 1098066, 826249, 6534178]</td>\n",
       "    </tr>\n",
       "    <tr>\n",
       "      <th>1</th>\n",
       "      <td>3</td>\n",
       "      <td>[835476, 851057, 872021, 878302, 879948, 90963...</td>\n",
       "      <td>[12810393, 13416351, 13945244, 15596279, 13842...</td>\n",
       "      <td>[12810393, 13416351, 13945244, 15596279, 13842...</td>\n",
       "      <td>[981760, 13416351, 13842214, 13945244, 15596279]</td>\n",
       "      <td>[981760, 995242, 908531, 840361, 961554]</td>\n",
       "      <td>[981760, 995242, 1029743, 840361, 961554]</td>\n",
       "      <td>[981760, 995242, 840361, 1029743, 1004906]</td>\n",
       "      <td>[981760, 995242, 840361, 1029743, 961554]</td>\n",
       "      <td>[981760, 995242, 840361, 1029743, 961554]</td>\n",
       "      <td>[981760, 995242, 840361, 1029743, 1004906]</td>\n",
       "      <td>[981760, 995242, 840361, 1029743, 1004906]</td>\n",
       "    </tr>\n",
       "    <tr>\n",
       "      <th>2</th>\n",
       "      <td>6</td>\n",
       "      <td>[920308, 926804, 946489, 1006718, 1017061, 107...</td>\n",
       "      <td>[12731436, 12731544, 13511722, 15926712, 13003...</td>\n",
       "      <td>[12731436, 12731544, 13511722, 15926712, 13003...</td>\n",
       "      <td>[12731436, 12731544, 13511722, 15926712, 13003...</td>\n",
       "      <td>[1058997, 1098066, 916122, 860776, 1005186]</td>\n",
       "      <td>[1098066, 826249, 1106523, 923746, 1058997]</td>\n",
       "      <td>[1098066, 826249, 854852, 1106523, 923746]</td>\n",
       "      <td>[1098066, 826249, 854852, 860776, 923746]</td>\n",
       "      <td>[1098066, 826249, 854852, 860776, 923746]</td>\n",
       "      <td>[1098066, 826249, 854852, 860776, 923746]</td>\n",
       "      <td>[1098066, 826249, 854852, 860776, 923746]</td>\n",
       "    </tr>\n",
       "    <tr>\n",
       "      <th>3</th>\n",
       "      <td>7</td>\n",
       "      <td>[840386, 889774, 898068, 909714, 929067, 95347...</td>\n",
       "      <td>[12384775, 12731436, 13511722, 15511891, 12810...</td>\n",
       "      <td>[12384775, 12731436, 13511722, 15511891, 12810...</td>\n",
       "      <td>[981760, 12731436, 12810393, 13511722, 15511891]</td>\n",
       "      <td>[981760, 1098066, 883404, 916122, 840361]</td>\n",
       "      <td>[981760, 1098066, 840361, 883404, 916122]</td>\n",
       "      <td>[981760, 1098066, 840361, 883404, 6534178]</td>\n",
       "      <td>[981760, 1098066, 840361, 883404, 6534178]</td>\n",
       "      <td>[981760, 1098066, 840361, 883404, 6534178]</td>\n",
       "      <td>[981760, 1098066, 840361, 883404, 6534178]</td>\n",
       "      <td>[981760, 1098066, 840361, 883404, 6534178]</td>\n",
       "    </tr>\n",
       "    <tr>\n",
       "      <th>4</th>\n",
       "      <td>8</td>\n",
       "      <td>[835098, 872137, 910439, 924610, 992977, 10412...</td>\n",
       "      <td>[12810393, 13115903, 13190294, 15596515, 13189...</td>\n",
       "      <td>[12810393, 13115903, 13190294, 15596515, 13189...</td>\n",
       "      <td>[12810393, 13115903, 13190294, 15596515, 13189...</td>\n",
       "      <td>[904360, 13115903, 13189726, 13190294, 15596515]</td>\n",
       "      <td>[904360, 13115903, 13189726, 13190294, 15596515]</td>\n",
       "      <td>[904360, 866211, 979707, 13190294, 15596515]</td>\n",
       "      <td>[904360, 866211, 979707, 13190294, 15596515]</td>\n",
       "      <td>[904360, 866211, 1096036, 979707, 908531]</td>\n",
       "      <td>[904360, 866211, 1096036, 979707, 908531]</td>\n",
       "      <td>[904360, 866211, 1096036, 979707, 908531]</td>\n",
       "    </tr>\n",
       "  </tbody>\n",
       "</table>\n",
       "</div>"
      ],
      "text/plain": [
       "   user_id                                             actual  \\\n",
       "0        1  [821867, 834484, 856942, 865456, 889248, 90795...   \n",
       "1        3  [835476, 851057, 872021, 878302, 879948, 90963...   \n",
       "2        6  [920308, 926804, 946489, 1006718, 1017061, 107...   \n",
       "3        7  [840386, 889774, 898068, 909714, 929067, 95347...   \n",
       "4        8  [835098, 872137, 910439, 924610, 992977, 10412...   \n",
       "\n",
       "                                        itemitem k-1  \\\n",
       "0  [10455984, 12172240, 12810393, 15926844, 12324...   \n",
       "1  [12810393, 13416351, 13945244, 15596279, 13842...   \n",
       "2  [12731436, 12731544, 13511722, 15926712, 13003...   \n",
       "3  [12384775, 12731436, 13511722, 15511891, 12810...   \n",
       "4  [12810393, 13115903, 13190294, 15596515, 13189...   \n",
       "\n",
       "                                        itemitem k-2  \\\n",
       "0  [10455984, 12172240, 12810393, 15926844, 12324...   \n",
       "1  [12810393, 13416351, 13945244, 15596279, 13842...   \n",
       "2  [12731436, 12731544, 13511722, 15926712, 13003...   \n",
       "3  [12384775, 12731436, 13511722, 15511891, 12810...   \n",
       "4  [12810393, 13115903, 13190294, 15596515, 13189...   \n",
       "\n",
       "                                        itemitem k-3  \\\n",
       "0    [981760, 6534178, 12324948, 15926844, 12810393]   \n",
       "1   [981760, 13416351, 13842214, 13945244, 15596279]   \n",
       "2  [12731436, 12731544, 13511722, 15926712, 13003...   \n",
       "3   [981760, 12731436, 12810393, 13511722, 15511891]   \n",
       "4  [12810393, 13115903, 13190294, 15596515, 13189...   \n",
       "\n",
       "                                       itemitem k-4  \\\n",
       "0        [981760, 1127831, 1098066, 854852, 866211]   \n",
       "1          [981760, 995242, 908531, 840361, 961554]   \n",
       "2       [1058997, 1098066, 916122, 860776, 1005186]   \n",
       "3         [981760, 1098066, 883404, 916122, 840361]   \n",
       "4  [904360, 13115903, 13189726, 13190294, 15596515]   \n",
       "\n",
       "                                       itemitem k-5  \\\n",
       "0        [981760, 1127831, 1098066, 826249, 878996]   \n",
       "1         [981760, 995242, 1029743, 840361, 961554]   \n",
       "2       [1098066, 826249, 1106523, 923746, 1058997]   \n",
       "3         [981760, 1098066, 840361, 883404, 916122]   \n",
       "4  [904360, 13115903, 13189726, 13190294, 15596515]   \n",
       "\n",
       "                                   itemitem k-6  \\\n",
       "0    [981760, 1127831, 1098066, 826249, 878996]   \n",
       "1    [981760, 995242, 840361, 1029743, 1004906]   \n",
       "2    [1098066, 826249, 854852, 1106523, 923746]   \n",
       "3    [981760, 1098066, 840361, 883404, 6534178]   \n",
       "4  [904360, 866211, 979707, 13190294, 15596515]   \n",
       "\n",
       "                                   itemitem k-7  \\\n",
       "0    [981760, 1127831, 1098066, 826249, 878996]   \n",
       "1     [981760, 995242, 840361, 1029743, 961554]   \n",
       "2     [1098066, 826249, 854852, 860776, 923746]   \n",
       "3    [981760, 1098066, 840361, 883404, 6534178]   \n",
       "4  [904360, 866211, 979707, 13190294, 15596515]   \n",
       "\n",
       "                                  itemitem k-8  \\\n",
       "0  [981760, 1127831, 1098066, 826249, 6534178]   \n",
       "1    [981760, 995242, 840361, 1029743, 961554]   \n",
       "2    [1098066, 826249, 854852, 860776, 923746]   \n",
       "3   [981760, 1098066, 840361, 883404, 6534178]   \n",
       "4    [904360, 866211, 1096036, 979707, 908531]   \n",
       "\n",
       "                                  itemitem k-9  \\\n",
       "0  [981760, 1127831, 1098066, 826249, 6534178]   \n",
       "1   [981760, 995242, 840361, 1029743, 1004906]   \n",
       "2    [1098066, 826249, 854852, 860776, 923746]   \n",
       "3   [981760, 1098066, 840361, 883404, 6534178]   \n",
       "4    [904360, 866211, 1096036, 979707, 908531]   \n",
       "\n",
       "                                 itemitem k-10  \n",
       "0  [981760, 1127831, 1098066, 826249, 6534178]  \n",
       "1   [981760, 995242, 840361, 1029743, 1004906]  \n",
       "2    [1098066, 826249, 854852, 860776, 923746]  \n",
       "3   [981760, 1098066, 840361, 883404, 6534178]  \n",
       "4    [904360, 866211, 1096036, 979707, 908531]  "
      ]
     },
     "execution_count": 275,
     "metadata": {},
     "output_type": "execute_result"
    }
   ],
   "source": [
    "item_item_res.head()"
   ]
  },
  {
   "cell_type": "code",
   "execution_count": 276,
   "metadata": {},
   "outputs": [
    {
     "name": "stdout",
     "output_type": "stream",
     "text": [
      "itemitem k-1:  0.0581\n",
      "itemitem k-2:  0.0598\n",
      "itemitem k-3:  0.0585\n",
      "itemitem k-4:  0.0412\n",
      "itemitem k-5:  0.0336\n",
      "itemitem k-6:  0.0319\n",
      "itemitem k-7:  0.0314\n",
      "itemitem k-8:  0.0317\n",
      "itemitem k-9:  0.0307\n",
      "itemitem k-10:  0.0305\n"
     ]
    }
   ],
   "source": [
    "# Вывод Precision@k\n",
    "for col in item_item_res.iloc[:,2:]:\n",
    "    print(col +\": \",\"{0:.4f}\".format(item_item_res.apply(lambda row: precision_at_k(row[col], row['actual'], k=k), axis=1).mean()))"
   ]
  },
  {
   "cell_type": "code",
   "execution_count": null,
   "metadata": {},
   "outputs": [],
   "source": []
  }
 ],
 "metadata": {
  "kernelspec": {
   "display_name": "Python 3",
   "language": "python",
   "name": "python3"
  },
  "language_info": {
   "codemirror_mode": {
    "name": "ipython",
    "version": 3
   },
   "file_extension": ".py",
   "mimetype": "text/x-python",
   "name": "python",
   "nbconvert_exporter": "python",
   "pygments_lexer": "ipython3",
   "version": "3.7.6"
  }
 },
 "nbformat": 4,
 "nbformat_minor": 4
}
