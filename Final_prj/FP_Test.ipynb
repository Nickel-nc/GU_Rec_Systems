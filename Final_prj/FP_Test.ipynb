{
 "cells": [
  {
   "cell_type": "markdown",
   "metadata": {},
   "source": [
    "# One Layered Rec Sys Sandbox"
   ]
  },
  {
   "cell_type": "markdown",
   "metadata": {},
   "source": [
    "* all sources in one notebook"
   ]
  },
  {
   "cell_type": "code",
   "execution_count": 1,
   "metadata": {},
   "outputs": [],
   "source": [
    "#############################\n",
    "### TODO REMOVE CONSTRAINTS:\n",
    "#############################\n",
    "\n",
    "\"\"\"\n",
    "- Для каждого юзера 5 рекомендаций (иногда модели могут возвращать < 5)\n",
    "- 2 новых товара (юзер никогда не покупал)\n",
    "- 1 дорогой товар, > 7 долларов\n",
    "- Все товары из разных категорий (категория - sub_commodity_desc)\n",
    "\n",
    "- Стоимость каждого рекомендованного товара > 1 доллара\n",
    "\"\"\"\n",
    "None"
   ]
  },
  {
   "cell_type": "code",
   "execution_count": 2,
   "metadata": {},
   "outputs": [],
   "source": [
    "import pandas as pd\n",
    "import numpy as np\n",
    "import matplotlib.pyplot as plt\n",
    "from scipy.sparse import csr_matrix\n",
    "from implicit.als import AlternatingLeastSquares\n",
    "from implicit.bpr import BayesianPersonalizedRanking\n",
    "import re\n",
    "import time\n",
    "from lightgbm import LGBMClassifier\n",
    "import os, sys\n",
    "\n",
    "from src.metrics import precision_at_k\n",
    "from implicit.nearest_neighbours import ItemItemRecommender, bm25_weight \n",
    "# from src.utils import prefilter_items\n",
    "# from src.recommenders import MainRecommender\n"
   ]
  },
  {
   "cell_type": "code",
   "execution_count": 3,
   "metadata": {},
   "outputs": [
    {
     "data": {
      "text/plain": [
       "'0.4.2'"
      ]
     },
     "execution_count": 3,
     "metadata": {},
     "output_type": "execute_result"
    }
   ],
   "source": [
    "import implicit\n",
    "implicit.__version__"
   ]
  },
  {
   "cell_type": "code",
   "execution_count": 4,
   "metadata": {},
   "outputs": [],
   "source": [
    "###############################\n",
    "# Settings && Constants \n",
    "###############################\n",
    "\n",
    "DATA_PATH = './data/retail_train.csv'\n",
    "TEST_PATH = './data/retail_test1.csv'\n",
    "ITEM_FEATURES_PATH = './data/product.csv'\n",
    "USER_FEATURES_PATH = './data/hh_demographic.csv'\n",
    "\n",
    "TEST_SIZE_WEEKS = (6,3)\n",
    "N_POPULAR_ITEMS = 4000\n",
    "INIT_NUM_RECS = 10\n",
    "N_FIN_RECS = 5\n",
    "# NUM_THREADS = 8"
   ]
  },
  {
   "cell_type": "code",
   "execution_count": 5,
   "metadata": {},
   "outputs": [],
   "source": [
    "###############################\n",
    "# MODULES \n",
    "###############################\n",
    "\n",
    "value_string_template = '\\033[91m[[value]]\\033[0m'\n",
    "\n",
    "def prefilter_items(data, take_n_popular=5000, margin_slice_rate=0.8):\n",
    "    \n",
    "    \"\"\"Предфильтрация товаров\"\"\"\n",
    "    \n",
    "    n_before = value_string_template.replace('[[value]]', str(data['item_id'].nunique()))\n",
    "    \n",
    "    \n",
    "    # drop 0 purchases\n",
    "    data = data.drop(data[data['quantity']==0].index)\n",
    "    \n",
    "    # Calculate price\n",
    "    data['price'] = data['sales_value'] / data['quantity']\n",
    "    \n",
    "    # 1. Drop prices < 1$\n",
    "    data = data[data['price'] > 1]\n",
    "    \n",
    "    # Удаление товаров со средней ценой > 25$\n",
    "    data = data[data['price'] < 25]\n",
    "    \n",
    "    # Уберем товары, которые не продавались за последние несколько недель\n",
    "    purchases_last_week = data.groupby('item_id')['week_no'].max().reset_index()\n",
    "    weeks = purchases_last_week[\n",
    "        purchases_last_week['week_no'] > data['week_no'].max() - 3].item_id.tolist()\n",
    "    data = data[data['item_id'].isin(weeks)]\n",
    "    \n",
    "    # Удаление 10% товаров c наименьшей выручкой (сдвигает минимум выручки с 1.1$ до 94.8$ для unsplitted data)\n",
    "#     marginality = data.groupby('item_id')['sales_value'].sum().reset_index()\n",
    "#     ten_percent_slice_idx = int(marginality.shape[0] * margin_slice_rate)\n",
    "\n",
    "#     top_margin = marginality.sort_values('sales_value', ascending=False)[:ten_percent_slice_idx].item_id.tolist()\n",
    "#     data = data[data['item_id'].isin(top_margin)]\n",
    "    \n",
    "    # Выбор топ-N самых популярных товаров (N = take_n_popular)\n",
    "    popularity = data.groupby('item_id')['quantity'].sum().reset_index()\n",
    "    top_popular = popularity.sort_values('quantity', ascending=False)[:take_n_popular].item_id.tolist()\n",
    "    data = data[data['item_id'].isin(top_popular)]\n",
    "    \n",
    "    n_after = value_string_template.replace('[[value]]', str(data['item_id'].nunique()))\n",
    "    print(f\"Items variety reduced from: {n_before} to: {n_after} samples...\", end='')\n",
    "    print('\\033[94mDone\\033[0m')\n",
    "    \n",
    "    return data\n",
    "\n",
    "\n",
    "def get_raw_data_splits(data_path, n_weeks_split=(6, 4), mode=0):\n",
    "    \n",
    "    \"\"\"\n",
    "    Return data splits depending on mode:\n",
    "    \n",
    "    MODE 0: No split\n",
    "    MODE 1: One level split\n",
    "    MODE 2: Two level split\n",
    "    \n",
    "    data_train: base train split\n",
    "    data_test: used for lvl 1 validation & lvl 2 train\n",
    "    data_val: used for lvl 2 validation\n",
    "    \n",
    "    for lvl_size_weeks in [6, 3] returns:   \n",
    "    train_lvl1: week_no (1-85), val_lvl1 & train_lvl2: week_no (86-91), val_lvl2: week_no (92-95)\n",
    "    \"\"\"\n",
    "    print(\"Preparing raw data...\", end='')\n",
    "    data = pd.read_csv(data_path)\n",
    "    \n",
    "    if mode == 0:\n",
    "        return data\n",
    "    \n",
    "    if mode == 1:\n",
    "        print(\"Selected one level mode...\", end='')\n",
    "        data_train = data[data['week_no'] < data['week_no'].max() - (n_weeks_split[0] + n_weeks_split[1])]\n",
    "        data_test = data[(data['week_no'] >= data['week_no'].max() - (n_weeks_split[0] + n_weeks_split[1]))]\n",
    "        print('\\033[94mDone\\033[0m') \n",
    "        \n",
    "        return data, data_train, data_test\n",
    "    \n",
    "    elif mode == 2:\n",
    "        print(\"Selected two level mode...\", end='')\n",
    "        data_train = data[data['week_no'] < data['week_no'].max() - (n_weeks_split[0] + n_weeks_split[1])]\n",
    "        data_test = data[(data['week_no'] >= data['week_no'].max() /\n",
    "                               - (n_weeks_split[0] + n_weeks_split[1])) &\n",
    "                              (data['week_no'] < data['week_no'].max() - (n_weeks_split[1]))]\n",
    "        data_val_1 = data_test.copy()\n",
    "        data_val_2 = data[data['week_no'] >= data['week_no'].max() - n_weeks_split[1]] \n",
    "        print('\\033[94mDone\\033[0m') \n",
    "\n",
    "        return data, data_train, data_test, data_val_1, data_val_2\n",
    "    else:\n",
    "        print('\\033[91mError. Mode not understood\\033[0m')\n",
    "        return None\n",
    "\n",
    "    \n",
    "def get_price_list(data_1, data_2, _id='item_id', target='price'):\n",
    "    \n",
    "    \"\"\"\n",
    "    Used 4 creating check dict (price list)\n",
    "    From all historical data\n",
    "    Can be used once and stored then updated if needs\n",
    "    \"\"\"\n",
    "    \n",
    "    pl_1 = data_1.groupby(_id)[target].mean().reset_index()\n",
    "    pl_2 = data_2.groupby(_id)[target].mean().reset_index()\n",
    "    d1 = dict(zip(pl_1[_id], pl_1[target]))\n",
    "    d2 = dict(zip(pl_2[_id], pl_2[target]))\n",
    "    pl_emb = {**d1, **d2}\n",
    "    \n",
    "    return pl_emb\n",
    "\n",
    "\n",
    "def get_bought_ever_list(data_1, _id='user_id', target='item_id'):\n",
    "    \n",
    "    \"\"\"\n",
    "    Used 4 creating check dict (user's ever bought list)\n",
    "    From all historical data\n",
    "    Can be used once and stored then updated if needs\n",
    "    \"\"\"\n",
    "    \n",
    "    pl_1 = data_1.groupby(_id)[target].unique().reset_index()\n",
    "    d1 = dict(zip(pl_1[_id], pl_1[target]))\n",
    "    \n",
    "    return d1\n",
    "\n",
    "\n",
    "def get_item_commodities_list(feats, _id='item_id', target='sub_commodity_desc_code'):\n",
    "    \n",
    "    \"\"\"\n",
    "    Used 4 creating check dict (item_id - commodity_type)\n",
    "    From all historical data\n",
    "    Can be used once and stored then updated if needs\n",
    "    \"\"\"\n",
    "    \n",
    "    res = dict(zip(feats[_id], feats[target]))\n",
    "    return res\n",
    "        \n",
    "    \n",
    "def preprare_features(item_features_path, user_features_path):\n",
    "    \n",
    "    \"\"\"Loads raw item and user features:\"\"\"\n",
    "    \n",
    "    print(\"Preparing raw features...\", end='')\n",
    "    item_features = pd.read_csv(item_features_path)\n",
    "    user_features = pd.read_csv(user_features_path)\n",
    "\n",
    "    # column processing\n",
    "    item_features.columns = [col.lower() for col in item_features.columns]\n",
    "    user_features.columns = [col.lower() for col in user_features.columns]\n",
    "    item_features.rename(columns={'product_id': 'item_id'}, inplace=True)\n",
    "    user_features.rename(columns={'household_key': 'user_id'}, inplace=True)\n",
    "    \n",
    "    # encode commodities in item_features\n",
    "    item_features['sub_commodity_desc'] = pd.Categorical(item_features['sub_commodity_desc'])\n",
    "    item_features['sub_commodity_desc_code'] = item_features['sub_commodity_desc'].cat.codes\n",
    "    \n",
    "    print('\\033[94mDone\\033[0m')\n",
    "    \n",
    "    return item_features, user_features\n",
    "\n",
    "\n",
    "\n",
    "class MainRecommender:\n",
    "    \"\"\"Рекоммендации, которые можно получить из ALS\n",
    "    Input\n",
    "    -----\n",
    "    user_item_matrix: pd.DataFrame\n",
    "        Матрица взаимодействий user-item\n",
    "    \"\"\"\n",
    "\n",
    "    def __init__(self, data, prices, weighting=True):\n",
    "\n",
    "        # Топ покупок каждого юзера\n",
    "        self.top_purchases = data.groupby(['user_id', 'item_id'])['sales_value'].count().reset_index()\n",
    "        self.top_purchases.sort_values('sales_value', ascending=False, inplace=True)\n",
    "\n",
    "        # Топ покупок по всему датасету\n",
    "        self.overall_top_purchases = data.groupby('item_id')['sales_value'].count().reset_index()\n",
    "        self.overall_top_purchases.sort_values('sales_value', ascending=False, inplace=True)\n",
    "        self.overall_top_purchases = self.overall_top_purchases.item_id.tolist()\n",
    "\n",
    "        self.user_item_matrix, self.matrix_index, self.matrix_columns = self._prepare_matrix(data)  # pd.DataFrame\n",
    "        self.id_to_itemid, self.id_to_userid, \\\n",
    "            self.itemid_to_id, self.userid_to_id = self._prepare_dicts(self.user_item_matrix)\n",
    "\n",
    "        if weighting:\n",
    "            self.user_item_matrix = bm25_weight(self.user_item_matrix.T, K1=4,B=0.165).T\n",
    "\n",
    "        self.model = self.fit(self.user_item_matrix)\n",
    "#         self.bpr = self.fit_bpr(self.user_item_matrix)\n",
    "        self.own_recommender = self.fit_own_recommender(self.user_item_matrix)\n",
    "        \n",
    "        self.item_factors = self.model.item_factors\n",
    "        self.user_factors = self.model.user_factors\n",
    "#         self.price_list = prices\n",
    "        \n",
    "        self.items_emb_df, self.users_emb_df = self.get_embeddings(self)\n",
    "        \n",
    "        \n",
    "    @staticmethod\n",
    "    def get_embeddings(self):\n",
    "        items_emb = self.item_factors\n",
    "        items_emb_df = pd.DataFrame(items_emb)\n",
    "        items_emb_df.reset_index(inplace=True)\n",
    "        items_emb_df['item_id'] = items_emb_df['index'].apply(lambda x: self.id_to_itemid[x])\n",
    "        items_emb_df = items_emb_df.drop('index', axis=1)\n",
    "\n",
    "        users_emb = self.user_factors\n",
    "        users_emb_df = pd.DataFrame(users_emb)\n",
    "        users_emb_df.reset_index(inplace=True)\n",
    "        users_emb_df['user_id'] = users_emb_df['index'].apply(lambda x: self.id_to_userid[x])\n",
    "        users_emb_df = users_emb_df.drop('index', axis=1)\n",
    "\n",
    "        return items_emb_df, users_emb_df\n",
    "        \n",
    "\n",
    "    @staticmethod\n",
    "    def _prepare_matrix(data):\n",
    "        \"\"\"Готовит user-item матрицу\"\"\"\n",
    "        user_item_matrix = pd.pivot_table(data,\n",
    "                                          index='user_id', \n",
    "                                          columns='item_id',\n",
    "                                          values='quantity',\n",
    "                                          aggfunc='count',\n",
    "                                          fill_value=0\n",
    "                                          )\n",
    "        matrix_index = user_item_matrix.index\n",
    "        matrix_columns = user_item_matrix.columns\n",
    "\n",
    "        user_item_matrix = user_item_matrix.astype(float)  # необходимый тип матрицы для implicit\n",
    "        return user_item_matrix, matrix_index, matrix_columns\n",
    "    \n",
    "\n",
    "    @staticmethod\n",
    "    def _prepare_dicts(user_item_matrix):\n",
    "        \"\"\"Подготавливает вспомогательные словари\"\"\"\n",
    "\n",
    "        userids = user_item_matrix.index.values\n",
    "        itemids = user_item_matrix.columns.values\n",
    "\n",
    "        matrix_userids = np.arange(len(userids))\n",
    "        matrix_itemids = np.arange(len(itemids))\n",
    "\n",
    "        id_to_itemid = dict(zip(matrix_itemids, itemids))\n",
    "        id_to_userid = dict(zip(matrix_userids, userids))\n",
    "\n",
    "        itemid_to_id = dict(zip(itemids, matrix_itemids))\n",
    "        userid_to_id = dict(zip(userids, matrix_userids))\n",
    "\n",
    "        return id_to_itemid, id_to_userid, itemid_to_id, userid_to_id\n",
    "    \n",
    "\n",
    "    @staticmethod\n",
    "    def fit_own_recommender(user_item_matrix):\n",
    "        \n",
    "        \"\"\"Обучает модель, которая рекомендует товары, среди товаров, купленных юзером\"\"\"\n",
    "        \n",
    "        own_recommender = ItemItemRecommender(K=1)\n",
    "        own_recommender.fit(csr_matrix(user_item_matrix).T.tocsr())\n",
    "        return own_recommender\n",
    "    \n",
    "\n",
    "    @staticmethod\n",
    "    def fit(user_item_matrix, n_factors=32, regularization=0.001, iterations=20, num_threads=8):\n",
    "        \n",
    "        \"\"\"Обучает ALS\"\"\"\n",
    "        \n",
    "        model = AlternatingLeastSquares(factors=n_factors,\n",
    "                                        regularization=regularization,\n",
    "                                        iterations=iterations,\n",
    "                                        num_threads=num_threads)\n",
    "        model.fit(csr_matrix(user_item_matrix).T.tocsr())\n",
    "        return model\n",
    "    \n",
    "    @staticmethod\n",
    "    def fit_bpr(user_item_matrix, n_factors=31, regularization=0.001, iterations=20, num_threads=8):\n",
    "        \n",
    "        bpr = BayesianPersonalizedRanking(factors=n_factors,\n",
    "                                             regularization=regularization,\n",
    "                                             iterations=iterations,\n",
    "                                             num_threads=num_threads)\n",
    "        \n",
    "        bpr.fit(csr_matrix(user_item_matrix).T.tocsr())\n",
    "        return bpr\n",
    "\n",
    "    def _update_dict(self, user_id):\n",
    "        \n",
    "        \"\"\"Если появился новый user / item, то нужно обновить словари\"\"\"\n",
    "        \n",
    "        if user_id not in self.userid_to_id.keys():\n",
    "            print(f\"user_id: '\\033[94m{user_id}\\033[0m' not in dict, add...\")\n",
    "            max_id = max(list(self.userid_to_id.values()))\n",
    "            max_id += 1\n",
    "            self.userid_to_id.update({user_id: max_id})\n",
    "            self.id_to_userid.update({max_id: user_id})\n",
    "            \n",
    "\n",
    "    def _get_similar_item(self, item_id):\n",
    "        \n",
    "        \"\"\"Находит товар, похожий на item_id\"\"\"\n",
    "        \n",
    "        # Товар похож на себя -> рекомендуем 2 товара\n",
    "        recs = self.model.similar_items(self.itemid_to_id[item_id], N=2)\n",
    "        top_rec = recs[1][0]  # И берем второй (не товар из аргумента метода)\n",
    "        return self.id_to_itemid[top_rec]\n",
    "    \n",
    "\n",
    "    def _extend_with_top_popular(self, recommendations, N=5):\n",
    "        \n",
    "        \"\"\"Если кол-во рекоммендаций < N, то дополняем их топ-популярными\"\"\"\n",
    "        \n",
    "        if len(recommendations) < N:\n",
    "            recommendations.extend(self.overall_top_purchases[:N])\n",
    "            recommendations = recommendations[:N]\n",
    "        return recommendations\n",
    "    \n",
    "\n",
    "    def _get_recommendations(self, user, model, N=5):\n",
    "        \n",
    "        \"\"\"Рекомендации через стардартные библиотеки implicit\"\"\"\n",
    "        \n",
    "        \n",
    "        if user not in self.userid_to_id.keys():\n",
    "            res = self._extend_with_top_popular([], N=N)\n",
    "        else:         \n",
    "            res = [self.id_to_itemid[rec[0]] for rec in model.recommend(userid=self.userid_to_id[user],\n",
    "                                            user_items=csr_matrix(self.user_item_matrix).tocsr(),\n",
    "                                            N=N,\n",
    "                                            filter_already_liked_items=False,\n",
    "                                            filter_items=None,\n",
    "                                            recalculate_user=True)]\n",
    "            res = self._extend_with_top_popular(res, N=N)\n",
    "        assert len(res) == N, 'Количество рекомендаций != {}'.format(N)\n",
    "        return res\n",
    "    \n",
    "\n",
    "    def get_als_recommendations(self, user, N=5):\n",
    "        \n",
    "        \"\"\"Рекомендации через стардартные библиотеки implicit\"\"\"\n",
    "        \n",
    "        return self._get_recommendations(user, model=self.model, N=N)\n",
    "    \n",
    "    \n",
    "    def get_bayesian_recommendations(self, user, N=5):\n",
    "        return self._get_recommendations(user, model=self.bpr, N=N)\n",
    "\n",
    "    \n",
    "    def get_own_recommendations(self, user, N=5):\n",
    "        \n",
    "        \"\"\"Рекомендуем товары среди тех, которые юзер уже купил\"\"\"\n",
    "        \n",
    "        return self._get_recommendations(user, model=self.own_recommender, N=N)\n",
    "    \n",
    "\n",
    "    def get_similar_items_recommendation(self, user, N=5):\n",
    "        \n",
    "        \"\"\"Рекомендуем товары, похожие на топ-N купленных юзером товаров\"\"\"\n",
    "        \n",
    "        if user not in self.userid_to_id.keys():\n",
    "            res = self._extend_with_top_popular([], N=N)\n",
    "        else:\n",
    "        \n",
    "            top_users_purchases = self.top_purchases[self.top_purchases['user_id'] == user].head(N)\n",
    "\n",
    "            res = top_users_purchases['item_id'].apply(lambda x: self._get_similar_item(x)).tolist()\n",
    "            res = self._extend_with_top_popular(res, N=N)\n",
    "        assert len(res) == N, 'Количество рекомендаций != {}'.format(N)\n",
    "        return res\n",
    "    \n",
    "\n",
    "    def get_similar_users_recommendation(self, user, N=5):\n",
    "        \n",
    "        \"\"\"Рекомендуем топ-N товаров, среди купленных похожими юзерами\"\"\"\n",
    "        \n",
    "        res = []\n",
    "\n",
    "        # Находим топ-N похожих пользователей\n",
    "        similar_users = self.model.similar_users(self.userid_to_id[user], N=N+1)\n",
    "        similar_users = [rec[0] for rec in similar_users]\n",
    "        similar_users = similar_users[1:]   # удалим юзера из запроса\n",
    "\n",
    "        for user in similar_users:\n",
    "            res.extend(self.get_own_recommendations(user, N=1))\n",
    "\n",
    "\n",
    "        res = self._extend_with_top_popular(res, N=N)\n",
    "        assert len(res) == N, 'Количество рекомендаций != {}'.format(N)\n",
    "        return res\n",
    "    \n",
    "    \n",
    "    \n",
    "def check_valid_items(res,\n",
    "                      user,\n",
    "                      item_to_commodity,\n",
    "                      itemid_to_price,\n",
    "                      user_bought_history,\n",
    "                      ext=0,\n",
    "                      n=5,\n",
    "                      max_price_constraint=7,\n",
    "                      max_n_new_items_constraint=2\n",
    "                     ):\n",
    "    \n",
    "    \"\"\"\n",
    "    Constraints Checker Module.\n",
    "    Check commended items for user.\n",
    "    Input: res:array with len=n\n",
    "    Return: error flag, one-hot encodded errors\n",
    "    \"\"\"\n",
    "    \n",
    "    # res: list result of n=5 elements\n",
    "    \n",
    "    err_flag = 0  # error flag\n",
    "    err_pos = np.zeros(len(res))  # penalty weights for items to change positions\n",
    "    try:\n",
    "        user_history = user_bought_history[user]  # user purchases of unique items history\n",
    "    except:\n",
    "        user_history = [] # no purchases for new users\n",
    "    price_checklist = np.zeros(len(res))  # price list for checking conditions\n",
    "    unique_checklist = np.zeros(len(res))  # unique item positions counter\n",
    "    \n",
    "    c = []\n",
    "    for i, item in enumerate(res):\n",
    "        commodity = item_to_commodity[item]\n",
    "        price_checklist[i] = itemid_to_price[item]        \n",
    "        \n",
    "        # check if code already exists in recs. If true change first duplicate\n",
    "        if commodity in c:\n",
    "            err_flag = 1\n",
    "            err_pos[i] += 1  # add penalty for mismatch element position\n",
    "            \n",
    "        # keep track of unique items\n",
    "        if item not in user_history:\n",
    "            unique_checklist[i] = 1\n",
    "        c.append(commodity)\n",
    "        \n",
    "    max_price = price_checklist[np.argmax(price_checklist)]\n",
    "    \n",
    "    # if no expensive items in list, mark last element\n",
    "    if max_price < max_price_constraint:\n",
    "        err_flag = 1\n",
    "        \n",
    "        # add penalty to last highest element\n",
    "        #  len(res-1) - np.argmax(err_pos[::-1]) keeps track on the last element if equal weights exist like 0\n",
    "        #  used in case of ranked elements\n",
    "        err_pos[len(res)-1 - np.argmax(err_pos[::-1])] += 1\n",
    "    \n",
    "    # if not enough unique elements, mark last element\n",
    "    if unique_checklist.sum() < max_n_new_items_constraint:\n",
    "        err_flag = 1\n",
    "        # add penalty to last highest element\n",
    "        err_pos[len(res)-1 - np.argmax(err_pos[::-1])] += 1\n",
    "    if ext:\n",
    "        err_flag = 0\n",
    "    return err_flag, err_pos\n",
    "\n",
    "\n",
    "\n",
    "def postfilter_items(data,\n",
    "                     pop_recs,\n",
    "                     item_to_commodity,\n",
    "                     itemid_to_price,\n",
    "                     user_bought_history,\n",
    "                     n=5,\n",
    "                     target_col='base_rec',\n",
    "                     res_col='result',\n",
    "                     # alt_recs_col='als_rec'\n",
    "                    ):    \n",
    "    \n",
    "    \"\"\"\n",
    "    Input: user recommendations: pd.DataFrame\n",
    "    \"\"\"\n",
    "    # make result placeholders\n",
    "    data[res_col] = np.nan\n",
    "    data[res_col] = data[res_col].astype('object')\n",
    "    \n",
    "    lim = 10\n",
    "    \n",
    "    \n",
    "    for index, row in data.iterrows():       \n",
    "        if row.user_id %500==0:\n",
    "            print(f\"iter on {row.user_id}\")\n",
    "        \n",
    "        recs = row[target_col]\n",
    "        # alt_recs = row[alt_recs_col]\n",
    "        result = recs[:n] # list with n item_id recs\n",
    "        flag, err_positions = check_valid_items(result,\n",
    "                                                row.user_id,\n",
    "                                                item_to_commodity,\n",
    "                                                itemid_to_price,\n",
    "                                                user_bought_history,\n",
    "                                                n)\n",
    "\n",
    "        take_from_pos = n + 1  # set initial position of new element to substitute as next # after existing recs\n",
    "        ov=0\n",
    "        ext=0 # \n",
    "        while flag:\n",
    "            \n",
    "            pos_list = np.where(err_positions>0)[0]  # invalid element positions pointer\n",
    "            # change each invalid element \n",
    "                    \n",
    "            for pos in pos_list:\n",
    "                \n",
    "                if ov == 0:\n",
    "                    if take_from_pos%lim==0:\n",
    "                        take_from_pos = 1\n",
    "                        ov=2\n",
    "                    result[pos] = recs[take_from_pos]\n",
    "                    take_from_pos +=1\n",
    "\n",
    "                elif ov==1:\n",
    "                    if take_from_pos%lim==0:\n",
    "#                         print(take_from_pos, ov)\n",
    "                        take_from_pos = 1\n",
    "                        ov=2\n",
    "                    result[pos] = pop_recs[take_from_pos]\n",
    "                    take_from_pos +=1\n",
    "                    \n",
    "                elif ov==2:\n",
    "                    print(\"error during calculations, limit exceeded\")\n",
    "                    ext = 1\n",
    "#                   take_from_pos = 1\n",
    "#                   print(take_from_pos, ov)\n",
    "#                   result[pos] = pop_recs[take_from_pos]\n",
    "#                   take_from_pos +=1\n",
    "                \n",
    "            # check new recommendations\n",
    "            flag, err_positions = check_valid_items(result,\n",
    "                                                row.user_id,\n",
    "                                                item_to_commodity,\n",
    "                                                itemid_to_price,\n",
    "                                                user_bought_history,\n",
    "                                                ext,\n",
    "                                                n)        \n",
    "                    \n",
    "        data.at[index, res_col] = result\n",
    "    return data    \n",
    "    \n",
    "\n",
    "\n",
    "def money_precision_at_k(recommended_list, bought_list, prices, k=5):\n",
    "    \n",
    "    bought_list = np.array(bought_list)\n",
    "    recommended_list = np.array(recommended_list[:k])\n",
    "    \n",
    "    prices_recommended = np.array([prices[i] for i in recommended_list])\n",
    "    prices_bought = np.array([prices[i] for i in bought_list])\n",
    "    \n",
    "    flags = np.isin(bought_list, recommended_list)\n",
    "    precision = np.dot(flags, prices_bought) / np.dot(np.ones(k), prices_recommended)\n",
    "    \n",
    "    \n",
    "    return precision"
   ]
  },
  {
   "cell_type": "code",
   "execution_count": 8,
   "metadata": {},
   "outputs": [
    {
     "name": "stdout",
     "output_type": "stream",
     "text": [
      "Preparing raw data...Preparing raw data...Preparing raw features...\u001b[94mDone\u001b[0m\n",
      "Wall time: 2.27 s\n"
     ]
    }
   ],
   "source": [
    "%%time\n",
    "\n",
    "data_train_lvl_1 = get_raw_data_splits(DATA_PATH, mode=0)\n",
    "data_val_lvl_1 = get_raw_data_splits(TEST_PATH, mode=0)\n",
    "\n",
    "# TWO LVL PREPARATION\n",
    "\n",
    "# data, data_train_lvl_1, data_val_lvl_1, data_train_lvl_2, data_val_lvl_2 = get_raw_data_splits(\n",
    "#     DATA_PATH, TEST_SIZE_WEEKS, mode=1)\n",
    "\n",
    "item_features, user_features = preprare_features(ITEM_FEATURES_PATH, USER_FEATURES_PATH)"
   ]
  },
  {
   "cell_type": "code",
   "execution_count": 9,
   "metadata": {},
   "outputs": [
    {
     "name": "stdout",
     "output_type": "stream",
     "text": [
      "Items variety reduced from: \u001b[91m89051\u001b[0m to: \u001b[91m4000\u001b[0m samples...\u001b[94mDone\u001b[0m\n",
      "Items variety reduced from: \u001b[91m20497\u001b[0m to: \u001b[91m4000\u001b[0m samples...\u001b[94mDone\u001b[0m\n"
     ]
    }
   ],
   "source": [
    "# Prefilter routine\n",
    "data_train_lvl_1 = prefilter_items(data_train_lvl_1, N_POPULAR_ITEMS) # Prefilter routine\n",
    "\n",
    "data_val_lvl_1 = prefilter_items(data_val_lvl_1, N_POPULAR_ITEMS) # Prefilter routine"
   ]
  },
  {
   "cell_type": "code",
   "execution_count": 10,
   "metadata": {},
   "outputs": [
    {
     "name": "stdout",
     "output_type": "stream",
     "text": [
      "Wall time: 458 ms\n"
     ]
    }
   ],
   "source": [
    "%%time\n",
    "\n",
    "# Get avg historical prices for all products\n",
    "itemid_to_price = get_price_list(data_train_lvl_1, data_val_lvl_1)\n",
    "user_bought_history = get_bought_ever_list(data_train_lvl_1)\n",
    "item_to_commodity =  get_item_commodities_list(item_features)\n",
    "\n",
    "# data.groupby('item_id')['sales_value'].sum().reset_index()"
   ]
  },
  {
   "cell_type": "code",
   "execution_count": 11,
   "metadata": {},
   "outputs": [
    {
     "data": {
      "application/vnd.jupyter.widget-view+json": {
       "model_id": "300ff611e2da4ababf7ee1d2210b0f8f",
       "version_major": 2,
       "version_minor": 0
      },
      "text/plain": [
       "HBox(children=(FloatProgress(value=0.0, max=20.0), HTML(value='')))"
      ]
     },
     "metadata": {},
     "output_type": "display_data"
    },
    {
     "name": "stdout",
     "output_type": "stream",
     "text": [
      "\n"
     ]
    },
    {
     "data": {
      "application/vnd.jupyter.widget-view+json": {
       "model_id": "030df097adc24e1dae8cdc6638959eb4",
       "version_major": 2,
       "version_minor": 0
      },
      "text/plain": [
       "HBox(children=(FloatProgress(value=0.0, max=4000.0), HTML(value='')))"
      ]
     },
     "metadata": {},
     "output_type": "display_data"
    },
    {
     "name": "stdout",
     "output_type": "stream",
     "text": [
      "\n",
      "Wall time: 4.79 s\n"
     ]
    }
   ],
   "source": [
    "%%time\n",
    "\n",
    "recommender = MainRecommender(data_train_lvl_1, itemid_to_price)"
   ]
  },
  {
   "cell_type": "code",
   "execution_count": 12,
   "metadata": {},
   "outputs": [
    {
     "name": "stdout",
     "output_type": "stream",
     "text": [
      "Wall time: 29.7 s\n"
     ]
    }
   ],
   "source": [
    "%%time\n",
    "\n",
    "result_lvl_1 = data_val_lvl_1.groupby('user_id')['item_id'].unique().reset_index()\n",
    "result_lvl_1.columns=['user_id', 'actual']\n",
    "result_lvl_1['base_rec'] = result_lvl_1['user_id'].apply(lambda x: recommender.get_own_recommendations(x, N=INIT_NUM_RECS))\n",
    "result_lvl_1['als_rec'] = result_lvl_1['user_id'].apply(lambda x: recommender.get_als_recommendations(x, N=INIT_NUM_RECS))"
   ]
  },
  {
   "cell_type": "code",
   "execution_count": 13,
   "metadata": {},
   "outputs": [
    {
     "data": {
      "text/html": [
       "<div>\n",
       "<style scoped>\n",
       "    .dataframe tbody tr th:only-of-type {\n",
       "        vertical-align: middle;\n",
       "    }\n",
       "\n",
       "    .dataframe tbody tr th {\n",
       "        vertical-align: top;\n",
       "    }\n",
       "\n",
       "    .dataframe thead th {\n",
       "        text-align: right;\n",
       "    }\n",
       "</style>\n",
       "<table border=\"1\" class=\"dataframe\">\n",
       "  <thead>\n",
       "    <tr style=\"text-align: right;\">\n",
       "      <th></th>\n",
       "      <th>user_id</th>\n",
       "      <th>actual</th>\n",
       "      <th>base_rec</th>\n",
       "      <th>als_rec</th>\n",
       "    </tr>\n",
       "  </thead>\n",
       "  <tbody>\n",
       "    <tr>\n",
       "      <th>0</th>\n",
       "      <td>1</td>\n",
       "      <td>[883616, 931136, 940947, 958046, 962568, 96576...</td>\n",
       "      <td>[995242, 940947, 840361, 1006184, 1004906, 108...</td>\n",
       "      <td>[1056509, 1100972, 885290, 995242, 1051211, 96...</td>\n",
       "    </tr>\n",
       "    <tr>\n",
       "      <th>1</th>\n",
       "      <td>2</td>\n",
       "      <td>[820291, 826784, 866211, 870608, 885023, 89962...</td>\n",
       "      <td>[8090521, 1133018, 5569230, 1106523, 916122, 1...</td>\n",
       "      <td>[1133018, 5569230, 1068719, 8090521, 1004906, ...</td>\n",
       "    </tr>\n",
       "    <tr>\n",
       "      <th>2</th>\n",
       "      <td>3</td>\n",
       "      <td>[827683, 908531, 989069, 1096727, 1130858, 113...</td>\n",
       "      <td>[1053690, 951590, 1092026, 910032, 1101173, 11...</td>\n",
       "      <td>[951590, 1029743, 910032, 5569230, 944139, 111...</td>\n",
       "    </tr>\n",
       "    <tr>\n",
       "      <th>3</th>\n",
       "      <td>6</td>\n",
       "      <td>[956902, 960791, 1037863, 1119051, 840361, 847...</td>\n",
       "      <td>[1082185, 1024306, 5569230, 845208, 1037863, 8...</td>\n",
       "      <td>[1082185, 1024306, 878996, 866211, 965267, 112...</td>\n",
       "    </tr>\n",
       "    <tr>\n",
       "      <th>4</th>\n",
       "      <td>7</td>\n",
       "      <td>[855557, 930918, 954673, 957013, 963502, 10555...</td>\n",
       "      <td>[1122358, 1082185, 828867, 1106523, 5568378, 1...</td>\n",
       "      <td>[1003188, 1058997, 839419, 857503, 866211, 897...</td>\n",
       "    </tr>\n",
       "    <tr>\n",
       "      <th>...</th>\n",
       "      <td>...</td>\n",
       "      <td>...</td>\n",
       "      <td>...</td>\n",
       "      <td>...</td>\n",
       "    </tr>\n",
       "    <tr>\n",
       "      <th>1799</th>\n",
       "      <td>2494</td>\n",
       "      <td>[880427, 912137, 1039126, 1043301, 1060005, 11...</td>\n",
       "      <td>[1101173, 840361, 903325, 878996, 1070820, 556...</td>\n",
       "      <td>[1029743, 1082185, 1127831, 5569471, 1024306, ...</td>\n",
       "    </tr>\n",
       "    <tr>\n",
       "      <th>1800</th>\n",
       "      <td>2496</td>\n",
       "      <td>[829291, 912704, 933067, 933835, 955370, 97970...</td>\n",
       "      <td>[916122, 5569230, 1056509, 1106523, 981760, 99...</td>\n",
       "      <td>[1004906, 844179, 12810393, 1068719, 840361, 9...</td>\n",
       "    </tr>\n",
       "    <tr>\n",
       "      <th>1801</th>\n",
       "      <td>2498</td>\n",
       "      <td>[12386123, 1004945, 1030455]</td>\n",
       "      <td>[1070820, 1126899, 1053690, 961554, 1005186, 1...</td>\n",
       "      <td>[995242, 1136257, 859075, 940766, 12384365, 10...</td>\n",
       "    </tr>\n",
       "    <tr>\n",
       "      <th>1802</th>\n",
       "      <td>2499</td>\n",
       "      <td>[820321, 829291, 833458, 866528, 878996, 88015...</td>\n",
       "      <td>[1070820, 5568378, 5569327, 5592931, 899624, 8...</td>\n",
       "      <td>[5569327, 951590, 907631, 5568378, 1068719, 83...</td>\n",
       "    </tr>\n",
       "    <tr>\n",
       "      <th>1803</th>\n",
       "      <td>2500</td>\n",
       "      <td>[828143, 938622, 995242, 1011046, 1058997, 108...</td>\n",
       "      <td>[1058997, 1082185, 908318, 854405, 1056509, 85...</td>\n",
       "      <td>[5569471, 981760, 1082185, 1006184, 859075, 89...</td>\n",
       "    </tr>\n",
       "  </tbody>\n",
       "</table>\n",
       "<p>1804 rows × 4 columns</p>\n",
       "</div>"
      ],
      "text/plain": [
       "      user_id                                             actual  \\\n",
       "0           1  [883616, 931136, 940947, 958046, 962568, 96576...   \n",
       "1           2  [820291, 826784, 866211, 870608, 885023, 89962...   \n",
       "2           3  [827683, 908531, 989069, 1096727, 1130858, 113...   \n",
       "3           6  [956902, 960791, 1037863, 1119051, 840361, 847...   \n",
       "4           7  [855557, 930918, 954673, 957013, 963502, 10555...   \n",
       "...       ...                                                ...   \n",
       "1799     2494  [880427, 912137, 1039126, 1043301, 1060005, 11...   \n",
       "1800     2496  [829291, 912704, 933067, 933835, 955370, 97970...   \n",
       "1801     2498                       [12386123, 1004945, 1030455]   \n",
       "1802     2499  [820321, 829291, 833458, 866528, 878996, 88015...   \n",
       "1803     2500  [828143, 938622, 995242, 1011046, 1058997, 108...   \n",
       "\n",
       "                                               base_rec  \\\n",
       "0     [995242, 940947, 840361, 1006184, 1004906, 108...   \n",
       "1     [8090521, 1133018, 5569230, 1106523, 916122, 1...   \n",
       "2     [1053690, 951590, 1092026, 910032, 1101173, 11...   \n",
       "3     [1082185, 1024306, 5569230, 845208, 1037863, 8...   \n",
       "4     [1122358, 1082185, 828867, 1106523, 5568378, 1...   \n",
       "...                                                 ...   \n",
       "1799  [1101173, 840361, 903325, 878996, 1070820, 556...   \n",
       "1800  [916122, 5569230, 1056509, 1106523, 981760, 99...   \n",
       "1801  [1070820, 1126899, 1053690, 961554, 1005186, 1...   \n",
       "1802  [1070820, 5568378, 5569327, 5592931, 899624, 8...   \n",
       "1803  [1058997, 1082185, 908318, 854405, 1056509, 85...   \n",
       "\n",
       "                                                als_rec  \n",
       "0     [1056509, 1100972, 885290, 995242, 1051211, 96...  \n",
       "1     [1133018, 5569230, 1068719, 8090521, 1004906, ...  \n",
       "2     [951590, 1029743, 910032, 5569230, 944139, 111...  \n",
       "3     [1082185, 1024306, 878996, 866211, 965267, 112...  \n",
       "4     [1003188, 1058997, 839419, 857503, 866211, 897...  \n",
       "...                                                 ...  \n",
       "1799  [1029743, 1082185, 1127831, 5569471, 1024306, ...  \n",
       "1800  [1004906, 844179, 12810393, 1068719, 840361, 9...  \n",
       "1801  [995242, 1136257, 859075, 940766, 12384365, 10...  \n",
       "1802  [5569327, 951590, 907631, 5568378, 1068719, 83...  \n",
       "1803  [5569471, 981760, 1082185, 1006184, 859075, 89...  \n",
       "\n",
       "[1804 rows x 4 columns]"
      ]
     },
     "execution_count": 13,
     "metadata": {},
     "output_type": "execute_result"
    }
   ],
   "source": [
    "result_lvl_1"
   ]
  },
  {
   "cell_type": "code",
   "execution_count": 14,
   "metadata": {},
   "outputs": [
    {
     "name": "stdout",
     "output_type": "stream",
     "text": [
      "iter on 1000\n",
      "iter on 1500\n",
      "iter on 2500\n",
      "Wall time: 385 ms\n"
     ]
    }
   ],
   "source": [
    "%%time\n",
    "result_lvl_1 = postfilter_items(result_lvl_1,\n",
    "                            recommender.overall_top_purchases,\n",
    "                            item_to_commodity,\n",
    "                            itemid_to_price,\n",
    "                            user_bought_history,\n",
    "                            n=N_FIN_RECS)"
   ]
  },
  {
   "cell_type": "code",
   "execution_count": 15,
   "metadata": {},
   "outputs": [
    {
     "data": {
      "text/plain": [
       "0.2771871586957239"
      ]
     },
     "execution_count": 15,
     "metadata": {},
     "output_type": "execute_result"
    }
   ],
   "source": [
    "res = result_lvl_1.apply(lambda row: money_precision_at_k(row['result'], row['actual'], itemid_to_price, k=5), axis=1).mean()\n",
    "res"
   ]
  },
  {
   "cell_type": "code",
   "execution_count": 16,
   "metadata": {},
   "outputs": [
    {
     "name": "stdout",
     "output_type": "stream",
     "text": [
      "<class 'pandas.core.frame.DataFrame'>\n",
      "RangeIndex: 1804 entries, 0 to 1803\n",
      "Data columns (total 5 columns):\n",
      " #   Column    Non-Null Count  Dtype \n",
      "---  ------    --------------  ----- \n",
      " 0   user_id   1804 non-null   int64 \n",
      " 1   actual    1804 non-null   object\n",
      " 2   base_rec  1804 non-null   object\n",
      " 3   als_rec   1804 non-null   object\n",
      " 4   result    1804 non-null   object\n",
      "dtypes: int64(1), object(4)\n",
      "memory usage: 70.6+ KB\n"
     ]
    }
   ],
   "source": [
    "result_lvl_1.info()"
   ]
  },
  {
   "cell_type": "code",
   "execution_count": 17,
   "metadata": {},
   "outputs": [],
   "source": [
    "result_lvl_1[['user_id', 'result']].to_csv('YN_recs.csv', index=False)"
   ]
  },
  {
   "cell_type": "markdown",
   "metadata": {},
   "source": [
    "Results:\n",
    "\n",
    "*Up->Down historical refining sequence*\n",
    "\n",
    "**Final wall time: 17.4 s**\n",
    "\n",
    "1 lvl. als recommender: baseline max: 0.77\n",
    "- Train 1 lvl split. No features, ignore new, ignore restrictions (week_no 1-85, 86-91). Result metric: 0.6\n",
    "- Train 1 lvl split. No features, ignore new, ignore restrictions (week_no 1-85, 86-95). Result metric: 0.19\n",
    "- =same=... recs for new users by popular items. Result metric: 0.177\n",
    "- Public-test validation (week_no 1-95, 96-98), pop-recs filling, ignore restrictions. Result metric: 0.1\n",
    "- =same=... Follow restrictions (replace from als rec list, then popular). Result metric: 0.07\n",
    "- =same=... Follow restrictions (replace from popular rec list, then popular). Result metric: 0.06\n",
    "- =same=... Prefilter workout: skip old purchased goods. Result metric 0.078\n",
    "- change popular recomendations to price, change weights at user-item matrix. Result metric 0.034\n",
    "- correct personnel user puchases history. Result metric: 0.14\n",
    "\n",
    "**Even more search params:**\n",
    "- 100 recs, 4k items - 0.142958194552187  # highest peak: 4k\n",
    "- 200 items - 0.169\n",
    "- 3 mnths - new goods  0.14401531666543743\n",
    "- bm_25weight: # K=50: 0.015 # K=30: 0.162 # K= 10: 0.169 # Best K=4\n",
    "- bm_25weight: #Best B=0.165:  0.27625195021954124\n",
    "\n",
    "- Refine prefilter. Result metric: 0.2771871586957239 \n",
    "\n",
    "Final metric: 0.27789745219813633"
   ]
  },
  {
   "cell_type": "markdown",
   "metadata": {},
   "source": [
    "### Evaluate:"
   ]
  },
  {
   "cell_type": "code",
   "execution_count": 6,
   "metadata": {},
   "outputs": [],
   "source": [
    "def eval_routine(DATA_PATH,\n",
    "                 TEST_PATH,\n",
    "                 ITEM_FEATURES_PATH,\n",
    "                 USER_FEATURES_PATH,\n",
    "                 TEST_SIZE_WEEKS,\n",
    "                 N_POPULAR_ITEMS,\n",
    "                 INIT_NUM_RECS,\n",
    "                 N_FIN_RECS):\n",
    "    \n",
    "    data_train_lvl_1 = get_raw_data_splits(DATA_PATH, mode=0)\n",
    "    data_val_lvl_1 = get_raw_data_splits(TEST_PATH, mode=0)\n",
    "    item_features, user_features = preprare_features(ITEM_FEATURES_PATH, USER_FEATURES_PATH)\n",
    "    data_train_lvl_1 = prefilter_items(data_train_lvl_1, N_POPULAR_ITEMS) # Prefilter routine\n",
    "    data_val_lvl_1 = prefilter_items(data_val_lvl_1, N_POPULAR_ITEMS) # Prefilter routine\n",
    "    itemid_to_price = get_price_list(data_train_lvl_1, data_val_lvl_1)\n",
    "    user_bought_history = get_bought_ever_list(data_train_lvl_1)\n",
    "    item_to_commodity =  get_item_commodities_list(item_features)\n",
    "    recommender = MainRecommender(data_train_lvl_1, itemid_to_price)\n",
    "    result_lvl_1 = data_val_lvl_1.groupby('user_id')['item_id'].unique().reset_index()\n",
    "    result_lvl_1.columns=['user_id', 'actual']\n",
    "    result_lvl_1['base_rec'] = result_lvl_1['user_id'].apply(lambda x: recommender.get_own_recommendations(x, N=INIT_NUM_RECS))\n",
    "#     result_lvl_1['als_rec'] = result_lvl_1['user_id'].apply(lambda x: recommender.get_als_recommendations(x, N=INIT_NUM_RECS))\n",
    "    result_lvl_1 = postfilter_items(result_lvl_1,\n",
    "                            recommender.overall_top_purchases,\n",
    "                            item_to_commodity,\n",
    "                            itemid_to_price,\n",
    "                            user_bought_history,\n",
    "                            n=N_FIN_RECS)\n",
    "    \n",
    "    res = result_lvl_1.apply(lambda row: money_precision_at_k(row['result'],\n",
    "                                                              row['actual'],\n",
    "                                                              itemid_to_price,\n",
    "                                                              k=5), axis=1).mean()\n",
    "    return res"
   ]
  },
  {
   "cell_type": "code",
   "execution_count": 7,
   "metadata": {},
   "outputs": [
    {
     "name": "stdout",
     "output_type": "stream",
     "text": [
      "2000\n",
      "Preparing raw data...Preparing raw data...Preparing raw features...\u001b[94mDone\u001b[0m\n",
      "Items variety reduced from: \u001b[91m89051\u001b[0m to: \u001b[91m2000\u001b[0m samples...\u001b[94mDone\u001b[0m\n",
      "Items variety reduced from: \u001b[91m20497\u001b[0m to: \u001b[91m2000\u001b[0m samples...\u001b[94mDone\u001b[0m\n"
     ]
    },
    {
     "data": {
      "application/vnd.jupyter.widget-view+json": {
       "model_id": "6d6600671f734175b8d00f78568d315a",
       "version_major": 2,
       "version_minor": 0
      },
      "text/plain": [
       "HBox(children=(FloatProgress(value=0.0, max=20.0), HTML(value='')))"
      ]
     },
     "metadata": {},
     "output_type": "display_data"
    },
    {
     "name": "stdout",
     "output_type": "stream",
     "text": [
      "\n"
     ]
    },
    {
     "data": {
      "application/vnd.jupyter.widget-view+json": {
       "model_id": "2fa675f7b6dc4921988e6fc06474ca98",
       "version_major": 2,
       "version_minor": 0
      },
      "text/plain": [
       "HBox(children=(FloatProgress(value=0.0, max=2000.0), HTML(value='')))"
      ]
     },
     "metadata": {},
     "output_type": "display_data"
    },
    {
     "name": "stdout",
     "output_type": "stream",
     "text": [
      "\n",
      "iter on 1000\n",
      "iter on 1500\n",
      "iter on 2500\n",
      "Resulting metric: 0.27175553511595696\n",
      "3000\n",
      "Preparing raw data...Preparing raw data...Preparing raw features...\u001b[94mDone\u001b[0m\n",
      "Items variety reduced from: \u001b[91m89051\u001b[0m to: \u001b[91m3000\u001b[0m samples...\u001b[94mDone\u001b[0m\n",
      "Items variety reduced from: \u001b[91m20497\u001b[0m to: \u001b[91m3000\u001b[0m samples...\u001b[94mDone\u001b[0m\n"
     ]
    },
    {
     "data": {
      "application/vnd.jupyter.widget-view+json": {
       "model_id": "4a4f6c0469554369b8bdf43500d2cb19",
       "version_major": 2,
       "version_minor": 0
      },
      "text/plain": [
       "HBox(children=(FloatProgress(value=0.0, max=20.0), HTML(value='')))"
      ]
     },
     "metadata": {},
     "output_type": "display_data"
    },
    {
     "name": "stdout",
     "output_type": "stream",
     "text": [
      "\n"
     ]
    },
    {
     "data": {
      "application/vnd.jupyter.widget-view+json": {
       "model_id": "5cda0a4914444d13b23d9399e2a3b0f6",
       "version_major": 2,
       "version_minor": 0
      },
      "text/plain": [
       "HBox(children=(FloatProgress(value=0.0, max=3000.0), HTML(value='')))"
      ]
     },
     "metadata": {},
     "output_type": "display_data"
    },
    {
     "name": "stdout",
     "output_type": "stream",
     "text": [
      "\n",
      "iter on 1000\n",
      "iter on 1500\n",
      "iter on 2500\n",
      "Resulting metric: 0.2760570954623974\n",
      "4000\n",
      "Preparing raw data...Preparing raw data...Preparing raw features...\u001b[94mDone\u001b[0m\n",
      "Items variety reduced from: \u001b[91m89051\u001b[0m to: \u001b[91m4000\u001b[0m samples...\u001b[94mDone\u001b[0m\n",
      "Items variety reduced from: \u001b[91m20497\u001b[0m to: \u001b[91m4000\u001b[0m samples...\u001b[94mDone\u001b[0m\n"
     ]
    },
    {
     "data": {
      "application/vnd.jupyter.widget-view+json": {
       "model_id": "165cad4ac44a4312bb0c8f31b23b14d9",
       "version_major": 2,
       "version_minor": 0
      },
      "text/plain": [
       "HBox(children=(FloatProgress(value=0.0, max=20.0), HTML(value='')))"
      ]
     },
     "metadata": {},
     "output_type": "display_data"
    },
    {
     "name": "stdout",
     "output_type": "stream",
     "text": [
      "\n"
     ]
    },
    {
     "data": {
      "application/vnd.jupyter.widget-view+json": {
       "model_id": "49953f9227f54e1ab7bd54a75e6604b1",
       "version_major": 2,
       "version_minor": 0
      },
      "text/plain": [
       "HBox(children=(FloatProgress(value=0.0, max=4000.0), HTML(value='')))"
      ]
     },
     "metadata": {},
     "output_type": "display_data"
    },
    {
     "name": "stdout",
     "output_type": "stream",
     "text": [
      "\n",
      "iter on 1000\n",
      "iter on 1500\n",
      "iter on 2500\n",
      "Resulting metric: 0.27789745219813633\n"
     ]
    }
   ],
   "source": [
    "# DATA_PATH = './data/retail_train.csv'\n",
    "# TEST_PATH = './data/retail_test1.csv'\n",
    "# ITEM_FEATURES_PATH = './data/product.csv'\n",
    "# USER_FEATURES_PATH = './data/hh_demographic.csv'\n",
    "\n",
    "# TEST_SIZE_WEEKS = (6,3)\n",
    "# N_POPULAR_ITEMS = np.array([3500, 3750, 4250])\n",
    "# INIT_NUM_RECS = 300\n",
    "# N_FIN_RECS = 5\n",
    "# var_num_recs =  np.arange(2000, 3000, 4000)\n",
    "reg_param = np.array([2000, 3000, 4000])  # np.array([1,2,3,4,5,15,40])\n",
    "\n",
    "eval_metrics = []\n",
    "for num in reg_param:\n",
    "#     R_P = num\n",
    "    print(num)\n",
    "\n",
    "\n",
    "    res = eval_routine(DATA_PATH,\n",
    "                       TEST_PATH,\n",
    "                       ITEM_FEATURES_PATH,\n",
    "                       USER_FEATURES_PATH,\n",
    "                       TEST_SIZE_WEEKS,\n",
    "                       num, # N_POPULAR_ITEMS\n",
    "                       INIT_NUM_RECS,\n",
    "                       N_FIN_RECS)\n",
    "    \n",
    "    print(f\"Resulting metric: {res}\")\n",
    "    eval_metrics.append(res)"
   ]
  },
  {
   "cell_type": "code",
   "execution_count": 43,
   "metadata": {},
   "outputs": [],
   "source": [
    "# eval for n_popular\n",
    "x1 = np.array([ 500, 1000, 1500, 2000, 2500, 3000, 3500, 4000, 4500, 5000, 5500])\n",
    "y1 = np.array([0.1658717764122714, 0.14038198577731906, 0.13700371134926215, 0.14038228115429854,\n",
    "              0.1388507315172934, 0.13796106877898567, 0.14102051017602005, 0.142958194552187,\n",
    "              0.1372168944275157, 0.13510724216429826, 0.13516136600412396])\n",
    "\n",
    "# eval for n_popular\n",
    "x2 = np.array([500,1000, 2000, 3000, 4000])\n",
    "y2 = eval_metrics"
   ]
  },
  {
   "cell_type": "code",
   "execution_count": 47,
   "metadata": {},
   "outputs": [
    {
     "data": {
      "text/plain": [
       "''"
      ]
     },
     "execution_count": 47,
     "metadata": {},
     "output_type": "execute_result"
    },
    {
     "data": {
      "image/png": "[encoded data removed]",
      "text/plain": [
       "<Figure size 432x288 with 1 Axes>"
      ]
     },
     "metadata": {
      "needs_background": "light"
     },
     "output_type": "display_data"
    }
   ],
   "source": [
    "plt.plot(x1, y1)\n",
    "plt.xlabel('n_popular')\n",
    "plt.ylabel('Hybrid recommender score (main own)')\n",
    "plt.grid()\n",
    "# plt.ylim(0.077, 0.088)\n",
    ";"
   ]
  },
  {
   "cell_type": "code",
   "execution_count": 7,
   "metadata": {},
   "outputs": [
    {
     "name": "stdout",
     "output_type": "stream",
     "text": [
      "Preparing raw data...Preparing raw data...Preparing raw features...\u001b[94mDone\u001b[0m\n",
      "Items variety reduced from: \u001b[91m89051\u001b[0m to: \u001b[91m4000\u001b[0m samples...\u001b[94mDone\u001b[0m\n",
      "Items variety reduced from: \u001b[91m20497\u001b[0m to: \u001b[91m4000\u001b[0m samples...\u001b[94mDone\u001b[0m\n"
     ]
    },
    {
     "name": "stderr",
     "output_type": "stream",
     "text": [
      "WARNING:root:OpenBLAS detected. Its highly recommend to set the environment variable 'export OPENBLAS_NUM_THREADS=1' to disable its internal multithreading\n"
     ]
    },
    {
     "data": {
      "application/vnd.jupyter.widget-view+json": {
       "model_id": "c4b6b5d38af042319769e282cb4425e4",
       "version_major": 2,
       "version_minor": 0
      },
      "text/plain": [
       "HBox(children=(FloatProgress(value=0.0, max=20.0), HTML(value='')))"
      ]
     },
     "metadata": {},
     "output_type": "display_data"
    },
    {
     "name": "stdout",
     "output_type": "stream",
     "text": [
      "\n"
     ]
    },
    {
     "data": {
      "application/vnd.jupyter.widget-view+json": {
       "model_id": "2f95edae348e47a7884749a091e84ebb",
       "version_major": 2,
       "version_minor": 0
      },
      "text/plain": [
       "HBox(children=(FloatProgress(value=0.0, max=4000.0), HTML(value='')))"
      ]
     },
     "metadata": {},
     "output_type": "display_data"
    },
    {
     "name": "stdout",
     "output_type": "stream",
     "text": [
      "\n",
      "iter on 1000\n",
      "iter on 1500\n",
      "iter on 2500\n",
      "Wall time: 26.4 s\n"
     ]
    },
    {
     "data": {
      "text/plain": [
       "0.2771871586957239"
      ]
     },
     "execution_count": 7,
     "metadata": {},
     "output_type": "execute_result"
    }
   ],
   "source": [
    "%%time\n",
    "res = eval_routine(DATA_PATH,\n",
    "                   TEST_PATH,\n",
    "                   ITEM_FEATURES_PATH,\n",
    "                   USER_FEATURES_PATH,\n",
    "                   TEST_SIZE_WEEKS,\n",
    "                   N_POPULAR_ITEMS,\n",
    "                   INIT_NUM_RECS,\n",
    "                   N_FIN_RECS)\n",
    "res"
   ]
  },
  {
   "cell_type": "code",
   "execution_count": null,
   "metadata": {},
   "outputs": [],
   "source": []
  }
 ],
 "metadata": {
  "kernelspec": {
   "display_name": "Python 3",
   "language": "python",
   "name": "python3"
  },
  "language_info": {
   "codemirror_mode": {
    "name": "ipython",
    "version": 3
   },
   "file_extension": ".py",
   "mimetype": "text/x-python",
   "name": "python",
   "nbconvert_exporter": "python",
   "pygments_lexer": "ipython3",
   "version": "3.7.6"
  }
 },
 "nbformat": 4,
 "nbformat_minor": 2
}
