{
 "cells": [
  {
   "cell_type": "markdown",
   "metadata": {},
   "source": [
    "# One Layered RS Demo"
   ]
  },
  {
   "cell_type": "markdown",
   "metadata": {},
   "source": [
    "Код для src, utils, metrics вы можете скачать из [этого](https://github.com/geangohn/recsys-tutorial) github репозитория"
   ]
  },
  {
   "cell_type": "code",
   "execution_count": 193,
   "metadata": {},
   "outputs": [],
   "source": [
    "#############################\n",
    "### TODO REMOVE CONSTRAINTS:\n",
    "#############################\n",
    "\n",
    "\"\"\"\n",
    "- Для каждого юзера 5 рекомендаций (иногда модели могут возвращать < 5)\n",
    "- 2 новых товара (юзер никогда не покупал)\n",
    "- 1 дорогой товар, > 7 долларов\n",
    "- Все товары из разных категорий (категория - sub_commodity_desc)\n",
    "\n",
    "- Стоимость каждого рекомендованного товара > 1 доллара\n",
    "\"\"\"\n",
    "None"
   ]
  },
  {
   "cell_type": "code",
   "execution_count": 205,
   "metadata": {},
   "outputs": [],
   "source": [
    "import pandas as pd\n",
    "import numpy as np\n",
    "import matplotlib.pyplot as plt\n",
    "from scipy.sparse import csr_matrix\n",
    "from implicit.als import AlternatingLeastSquares\n",
    "from implicit.bpr import BayesianPersonalizedRanking\n",
    "import re\n",
    "import time\n",
    "from lightgbm import LGBMClassifier\n",
    "import os, sys\n",
    "\n",
    "from src.metrics import precision_at_k\n",
    "from implicit.nearest_neighbours import ItemItemRecommender, bm25_weight \n",
    "# from src.utils import prefilter_items\n",
    "# from src.recommenders import MainRecommender\n"
   ]
  },
  {
   "cell_type": "code",
   "execution_count": 206,
   "metadata": {},
   "outputs": [],
   "source": [
    "###############################\n",
    "# Settings && Constants \n",
    "###############################\n",
    "\n",
    "DATA_PATH = './data/retail_train.csv'\n",
    "TEST_PATH = './data/retail_test1.csv'\n",
    "ITEM_FEATURES_PATH = './data/product.csv'\n",
    "USER_FEATURES_PATH = './data/hh_demographic.csv'\n",
    "\n",
    "TEST_SIZE_WEEKS = (6,3)\n",
    "N_POPULAR_ITEMS = 4000\n",
    "INIT_NUM_RECS = 500\n",
    "N_FIN_RECS = 5\n",
    "# NUM_THREADS = 8"
   ]
  },
  {
   "cell_type": "code",
   "execution_count": 207,
   "metadata": {},
   "outputs": [],
   "source": [
    "###############################\n",
    "# MODULES \n",
    "###############################\n",
    "\n",
    "value_string_template = '\\033[91m[[value]]\\033[0m'\n",
    "\n",
    "def prefilter_items(data, take_n_popular=5000, margin_slice_rate=0.9):\n",
    "    \n",
    "    \"\"\"Предфильтрация товаров\"\"\"\n",
    "    \n",
    "    n_before = value_string_template.replace('[[value]]', str(data['item_id'].nunique()))\n",
    "    \n",
    "    \n",
    "    # drop 0 purchases\n",
    "    data = data.drop(data[data['quantity']==0].index)\n",
    "    \n",
    "    # Calculate price\n",
    "    data['price'] = data['sales_value'] / data['quantity']\n",
    "    \n",
    "    # 1. Drop prices < 1$\n",
    "    data = data[data['price'] > 1]\n",
    "    \n",
    "    # Удаление товаров со средней ценой > 15$\n",
    "    data = data[data['price'] < 15]\n",
    "    \n",
    "    # Уберем товары, которые не продавались за последние 5 месяцев\n",
    "    purchases_last_week = data.groupby('item_id')['week_no'].max().reset_index()\n",
    "    weeks = purchases_last_week[\n",
    "        purchases_last_week['week_no'] > data['week_no'].max() - 5].item_id.tolist()\n",
    "    data = data[data['item_id'].isin(weeks)]\n",
    "    \n",
    "    # Удаление 10% товаров c наименьшей выручкой (сдвигает минимум выручки с 1.1$ до 94.8$ для unsplitted data)\n",
    "    marginality = data.groupby('item_id')['sales_value'].sum().reset_index()\n",
    "    ten_percent_slice_idx = int(marginality.shape[0] * margin_slice_rate)\n",
    "\n",
    "    top_margin = marginality.sort_values('sales_value', ascending=False)[:ten_percent_slice_idx].item_id.tolist()\n",
    "    data = data[data['item_id'].isin(top_margin)]\n",
    "    \n",
    "    # Выбор топ-N самых популярных товаров (N = take_n_popular)\n",
    "    popularity = data.groupby('item_id')['quantity'].sum().reset_index()\n",
    "    top_popular = popularity.sort_values('quantity', ascending=False)[:take_n_popular].item_id.tolist()\n",
    "    data = data[data['item_id'].isin(top_popular)]\n",
    "    \n",
    "    n_after = value_string_template.replace('[[value]]', str(data['item_id'].nunique()))\n",
    "    print(f\"Items variety reduced from: {n_before} to: {n_after} samples...\", end='')\n",
    "    print('\\033[94mDone\\033[0m')\n",
    "    \n",
    "    return data\n",
    "\n",
    "\n",
    "def get_raw_data_splits(data_path, n_weeks_split=(6, 4), mode=0):\n",
    "    \n",
    "    \"\"\"\n",
    "    Return data splits depending on mode:\n",
    "    \n",
    "    MODE 0: No split\n",
    "    MODE 1: One level split\n",
    "    MODE 2: Two level split\n",
    "    \n",
    "    data_train: base train split\n",
    "    data_test: used for lvl 1 validation & lvl 2 train\n",
    "    data_val: used for lvl 2 validation\n",
    "    \n",
    "    for lvl_size_weeks in [6, 3] returns:   \n",
    "    train_lvl1: week_no (1-85), val_lvl1 & train_lvl2: week_no (86-91), val_lvl2: week_no (92-95)\n",
    "    \"\"\"\n",
    "    print(\"Preparing raw data...\", end='')\n",
    "    data = pd.read_csv(data_path)\n",
    "    \n",
    "    if mode == 0:\n",
    "        return data\n",
    "    \n",
    "    if mode == 1:\n",
    "        print(\"Selected one level mode...\", end='')\n",
    "        data_train = data[data['week_no'] < data['week_no'].max() - (n_weeks_split[0] + n_weeks_split[1])]\n",
    "        data_test = data[(data['week_no'] >= data['week_no'].max() - (n_weeks_split[0] + n_weeks_split[1]))]\n",
    "        print('\\033[94mDone\\033[0m') \n",
    "        \n",
    "        return data, data_train, data_test\n",
    "    \n",
    "    elif mode == 2:\n",
    "        print(\"Selected two level mode...\", end='')\n",
    "        data_train = data[data['week_no'] < data['week_no'].max() - (n_weeks_split[0] + n_weeks_split[1])]\n",
    "        data_test = data[(data['week_no'] >= data['week_no'].max() /\n",
    "                               - (n_weeks_split[0] + n_weeks_split[1])) &\n",
    "                              (data['week_no'] < data['week_no'].max() - (n_weeks_split[1]))]\n",
    "        data_val_1 = data_test.copy()\n",
    "        data_val_2 = data[data['week_no'] >= data['week_no'].max() - n_weeks_split[1]] \n",
    "        print('\\033[94mDone\\033[0m') \n",
    "\n",
    "        return data, data_train, data_test, data_val_1, data_val_2\n",
    "    else:\n",
    "        print('\\033[91mError. Mode not understood\\033[0m')\n",
    "        return None\n",
    "\n",
    "    \n",
    "def get_price_list(data_1, data_2, _id='item_id', target='price'):\n",
    "    \n",
    "    \"\"\"\n",
    "    Used 4 creating check dict (price list)\n",
    "    From all historical data\n",
    "    Can be used once and stored then updated if needs\n",
    "    \"\"\"\n",
    "    \n",
    "    pl_1 = data_1.groupby(_id)[target].mean().reset_index()\n",
    "    pl_2 = data_2.groupby(_id)[target].mean().reset_index()\n",
    "    d1 = dict(zip(pl_1[_id], pl_1[target]))\n",
    "    d2 = dict(zip(pl_2[_id], pl_2[target]))\n",
    "    pl_emb = {**d1, **d2}\n",
    "    \n",
    "    return pl_emb\n",
    "\n",
    "\n",
    "def get_bought_ever_list(data_1, data_2, _id='user_id', target='item_id'):\n",
    "    \n",
    "    \"\"\"\n",
    "    Used 4 creating check dict (user's ever bought list)\n",
    "    From all historical data\n",
    "    Can be used once and stored then updated if needs\n",
    "    \"\"\"\n",
    "    \n",
    "    pl_1 = data_1.groupby(_id)[target].unique().reset_index()\n",
    "    pl_2 = data_2.groupby(_id)[target].unique().reset_index()\n",
    "    d1 = dict(zip(pl_1[_id], pl_1[target]))\n",
    "    d2 = dict(zip(pl_2[_id], pl_2[target]))\n",
    "    pl_emb = {**d1, **d2}\n",
    "    \n",
    "    return pl_emb\n",
    "\n",
    "\n",
    "def get_item_commodities_list(feats, _id='item_id', target='sub_commodity_desc_code'):\n",
    "    \n",
    "    \"\"\"\n",
    "    Used 4 creating check dict (item_id - commodity_type)\n",
    "    From all historical data\n",
    "    Can be used once and stored then updated if needs\n",
    "    \"\"\"\n",
    "    \n",
    "    res = dict(zip(feats[_id], feats[target]))\n",
    "    return res\n",
    "        \n",
    "    \n",
    "def preprare_features(item_features_path, user_features_path):\n",
    "    \n",
    "    \"\"\"Loads raw item and user features:\"\"\"\n",
    "    \n",
    "    print(\"Preparing raw features...\", end='')\n",
    "    item_features = pd.read_csv(item_features_path)\n",
    "    user_features = pd.read_csv(user_features_path)\n",
    "\n",
    "    # column processing\n",
    "    item_features.columns = [col.lower() for col in item_features.columns]\n",
    "    user_features.columns = [col.lower() for col in user_features.columns]\n",
    "    item_features.rename(columns={'product_id': 'item_id'}, inplace=True)\n",
    "    user_features.rename(columns={'household_key': 'user_id'}, inplace=True)\n",
    "    \n",
    "    # encode commodities in item_features\n",
    "    item_features['sub_commodity_desc'] = pd.Categorical(item_features['sub_commodity_desc'])\n",
    "    item_features['sub_commodity_desc_code'] = item_features['sub_commodity_desc'].cat.codes\n",
    "    \n",
    "    print('\\033[94mDone\\033[0m')\n",
    "    \n",
    "    return item_features, user_features\n",
    "\n",
    "\n",
    "\n",
    "class MainRecommender:\n",
    "    \"\"\"Рекоммендации, которые можно получить из ALS\n",
    "    Input\n",
    "    -----\n",
    "    user_item_matrix: pd.DataFrame\n",
    "        Матрица взаимодействий user-item\n",
    "    \"\"\"\n",
    "\n",
    "    def __init__(self, data, prices, weighting=True):\n",
    "\n",
    "        # Топ покупок каждого юзера\n",
    "        self.top_purchases = data.groupby(['user_id', 'item_id'])['sales_value'].count().reset_index()\n",
    "        self.top_purchases.sort_values('sales_value', ascending=False, inplace=True)\n",
    "\n",
    "        # Топ покупок по всему датасету\n",
    "        self.overall_top_purchases = data.groupby('item_id')['sales_value'].count().reset_index()\n",
    "        self.overall_top_purchases.sort_values('sales_value', ascending=False, inplace=True)\n",
    "        self.overall_top_purchases = self.overall_top_purchases.item_id.tolist()\n",
    "\n",
    "        self.user_item_matrix, self.matrix_index, self.matrix_columns = self._prepare_matrix(data)  # pd.DataFrame\n",
    "        self.id_to_itemid, self.id_to_userid, \\\n",
    "            self.itemid_to_id, self.userid_to_id = self._prepare_dicts(self.user_item_matrix)\n",
    "\n",
    "        if weighting:\n",
    "            self.user_item_matrix = bm25_weight(self.user_item_matrix.T).T\n",
    "\n",
    "        self.model = self.fit(self.user_item_matrix)\n",
    "        self.bpr = self.fit_bpr(self.user_item_matrix)\n",
    "        self.own_recommender = self.fit_own_recommender(self.user_item_matrix)\n",
    "        \n",
    "        self.item_factors = self.model.item_factors\n",
    "        self.user_factors = self.model.user_factors\n",
    "#         self.price_list = prices\n",
    "        \n",
    "        self.items_emb_df, self.users_emb_df = self.get_embeddings(self)\n",
    "        \n",
    "        \n",
    "    @staticmethod\n",
    "    def get_embeddings(self):\n",
    "        items_emb = self.item_factors\n",
    "        items_emb_df = pd.DataFrame(items_emb)\n",
    "        items_emb_df.reset_index(inplace=True)\n",
    "        items_emb_df['item_id'] = items_emb_df['index'].apply(lambda x: self.id_to_itemid[x])\n",
    "        items_emb_df = items_emb_df.drop('index', axis=1)\n",
    "\n",
    "        users_emb = self.user_factors\n",
    "        users_emb_df = pd.DataFrame(users_emb)\n",
    "        users_emb_df.reset_index(inplace=True)\n",
    "        users_emb_df['user_id'] = users_emb_df['index'].apply(lambda x: self.id_to_userid[x])\n",
    "        users_emb_df = users_emb_df.drop('index', axis=1)\n",
    "\n",
    "        return items_emb_df, users_emb_df\n",
    "        \n",
    "\n",
    "    @staticmethod\n",
    "    def _prepare_matrix(data):\n",
    "        \"\"\"Готовит user-item матрицу\"\"\"\n",
    "        user_item_matrix = pd.pivot_table(data,\n",
    "                                          index='user_id', \n",
    "                                          columns='item_id',\n",
    "                                          values='quantity',\n",
    "                                          aggfunc='count',\n",
    "                                          fill_value=0\n",
    "                                          )\n",
    "        matrix_index = user_item_matrix.index\n",
    "        matrix_columns = user_item_matrix.columns\n",
    "\n",
    "        user_item_matrix = user_item_matrix.astype(float)  # необходимый тип матрицы для implicit\n",
    "        return user_item_matrix, matrix_index, matrix_columns\n",
    "    \n",
    "\n",
    "    @staticmethod\n",
    "    def _prepare_dicts(user_item_matrix):\n",
    "        \"\"\"Подготавливает вспомогательные словари\"\"\"\n",
    "\n",
    "        userids = user_item_matrix.index.values\n",
    "        itemids = user_item_matrix.columns.values\n",
    "\n",
    "        matrix_userids = np.arange(len(userids))\n",
    "        matrix_itemids = np.arange(len(itemids))\n",
    "\n",
    "        id_to_itemid = dict(zip(matrix_itemids, itemids))\n",
    "        id_to_userid = dict(zip(matrix_userids, userids))\n",
    "\n",
    "        itemid_to_id = dict(zip(itemids, matrix_itemids))\n",
    "        userid_to_id = dict(zip(userids, matrix_userids))\n",
    "\n",
    "        return id_to_itemid, id_to_userid, itemid_to_id, userid_to_id\n",
    "    \n",
    "\n",
    "    @staticmethod\n",
    "    def fit_own_recommender(user_item_matrix):\n",
    "        \n",
    "        \"\"\"Обучает модель, которая рекомендует товары, среди товаров, купленных юзером\"\"\"\n",
    "        \n",
    "        own_recommender = ItemItemRecommender(K=1)\n",
    "        own_recommender.fit(csr_matrix(user_item_matrix).T.tocsr())\n",
    "        return own_recommender\n",
    "    \n",
    "\n",
    "    @staticmethod\n",
    "    def fit(user_item_matrix, n_factors=32, regularization=0.001, iterations=20, num_threads=8):\n",
    "        \n",
    "        \"\"\"Обучает ALS\"\"\"\n",
    "        \n",
    "        model = AlternatingLeastSquares(factors=n_factors,\n",
    "                                        regularization=regularization,\n",
    "                                        iterations=iterations,\n",
    "                                        num_threads=num_threads)\n",
    "        model.fit(csr_matrix(user_item_matrix).T.tocsr())\n",
    "        return model\n",
    "    \n",
    "    @staticmethod\n",
    "    def fit_bpr(user_item_matrix, n_factors=31, regularization=0.001, iterations=20, num_threads=8):\n",
    "        model = BayesianPersonalizedRanking(factors=n_factors,\n",
    "                                             regularization=regularization,\n",
    "                                             iterations=iterations,\n",
    "                                             num_threads=num_threads)\n",
    "        model.fit(csr_matrix(user_item_matrix).T.tocsr())\n",
    "        return model\n",
    "\n",
    "    def _update_dict(self, user_id):\n",
    "        \n",
    "        \"\"\"Если появился новый user / item, то нужно обновить словари\"\"\"\n",
    "        \n",
    "        if user_id not in self.userid_to_id.keys():\n",
    "            print(f\"user_id: '\\033[94m{user_id}\\033[0m' not in dict, add...\")\n",
    "            max_id = max(list(self.userid_to_id.values()))\n",
    "            max_id += 1\n",
    "            self.userid_to_id.update({user_id: max_id})\n",
    "            self.id_to_userid.update({max_id: user_id})\n",
    "            \n",
    "\n",
    "    def _get_similar_item(self, item_id):\n",
    "        \n",
    "        \"\"\"Находит товар, похожий на item_id\"\"\"\n",
    "        \n",
    "        # Товар похож на себя -> рекомендуем 2 товара\n",
    "        recs = self.model.similar_items(self.itemid_to_id[item_id], N=2)\n",
    "        top_rec = recs[1][0]  # И берем второй (не товар из аргумента метода)\n",
    "        return self.id_to_itemid[top_rec]\n",
    "    \n",
    "\n",
    "    def _extend_with_top_popular(self, recommendations, N=5):\n",
    "        \n",
    "        \"\"\"Если кол-во рекоммендаций < N, то дополняем их топ-популярными\"\"\"\n",
    "        \n",
    "        if len(recommendations) < N:\n",
    "            recommendations.extend(self.overall_top_purchases[:N])\n",
    "            recommendations = recommendations[:N]\n",
    "        return recommendations\n",
    "    \n",
    "\n",
    "    def _get_recommendations(self, user, model, N=5):\n",
    "        \n",
    "        \"\"\"Рекомендации через стардартные библиотеки implicit\"\"\"\n",
    "        \n",
    "        \n",
    "        if user not in self.userid_to_id.keys():\n",
    "            self._update_dict(user_id=user)\n",
    "            res = []\n",
    "            res = self._extend_with_top_popular(res, N=N)\n",
    "        else:\n",
    "        \n",
    "        \n",
    "            res = [self.id_to_itemid[rec[0]] for rec in model.recommend(userid=self.userid_to_id[user],\n",
    "                                            user_items=csr_matrix(self.user_item_matrix).tocsr(),\n",
    "                                            N=N,\n",
    "                                            filter_already_liked_items=False,\n",
    "                                            filter_items=None,\n",
    "                                            recalculate_user=True)]\n",
    "            res = self._extend_with_top_popular(res, N=N)\n",
    "        assert len(res) == N, 'Количество рекомендаций != {}'.format(N)\n",
    "        return res\n",
    "    \n",
    "\n",
    "    def get_als_recommendations(self, user, N=5):\n",
    "        \n",
    "        \"\"\"Рекомендации через стардартные библиотеки implicit\"\"\"\n",
    "        \n",
    "#         self._update_dict(user_id=user)\n",
    "        return self._get_recommendations(user, model=self.model, N=N)\n",
    "    \n",
    "    def get_bayesian_recommendations(self, user, N=5):\n",
    "        return self._get_recommendations(user, model=self.bpr, N=N)\n",
    "\n",
    "    def get_own_recommendations(self, user, N=5):\n",
    "        \n",
    "        \"\"\"Рекомендуем товары среди тех, которые юзер уже купил\"\"\"\n",
    "        \n",
    "#         self._update_dict(user_id=user)\n",
    "        return self._get_recommendations(user, model=self.own_recommender, N=N)\n",
    "    \n",
    "\n",
    "    def get_similar_items_recommendation(self, user, N=5):\n",
    "        \n",
    "        \"\"\"Рекомендуем товары, похожие на топ-N купленных юзером товаров\"\"\"\n",
    "        \n",
    "        top_users_purchases = self.top_purchases[self.top_purchases['user_id'] == user].head(N)\n",
    "\n",
    "        res = top_users_purchases['item_id'].apply(lambda x: self._get_similar_item(x)).tolist()\n",
    "        res = self._extend_with_top_popular(res, N=N)\n",
    "        assert len(res) == N, 'Количество рекомендаций != {}'.format(N)\n",
    "        return res\n",
    "    \n",
    "\n",
    "    def get_similar_users_recommendation(self, user, N=5):\n",
    "        \n",
    "        \"\"\"Рекомендуем топ-N товаров, среди купленных похожими юзерами\"\"\"\n",
    "        \n",
    "        res = []\n",
    "\n",
    "        # Находим топ-N похожих пользователей\n",
    "        similar_users = self.model.similar_users(self.userid_to_id[user], N=N+1)\n",
    "        similar_users = [rec[0] for rec in similar_users]\n",
    "        similar_users = similar_users[1:]   # удалим юзера из запроса\n",
    "\n",
    "        for user in similar_users:\n",
    "            res.extend(self.get_own_recommendations(user, N=1))\n",
    "\n",
    "\n",
    "        res = self._extend_with_top_popular(res, N=N)\n",
    "        assert len(res) == N, 'Количество рекомендаций != {}'.format(N)\n",
    "        return res\n",
    "    \n",
    "    \n",
    "def check_valid_items(res,\n",
    "                      user,\n",
    "                      item_to_commodity,\n",
    "                      itemid_to_price,\n",
    "                      user_bought_history,\n",
    "                      n=5,\n",
    "                      max_price_constraint=7,\n",
    "                      max_n_new_items_constraint=2\n",
    "                     ):\n",
    "    \n",
    "    \"\"\"\n",
    "    Constraints Checker Module.\n",
    "    Check commended items for user.\n",
    "    Input: res:array with len=n\n",
    "    Return: error flag, one-hot encodded errors\n",
    "    \"\"\"\n",
    "    \n",
    "    # res: list result of n=5 elements\n",
    "    \n",
    "    err_flag = 0  # error flag\n",
    "    err_pos = np.zeros(len(res))  # penalty weights for items to change positions\n",
    "    user_history = user_bought_history[user][:10]  # user purchases of unique items history\n",
    "    price_checklist = np.zeros(len(res))  # price list for checking conditions\n",
    "    unique_checklist = np.zeros(len(res))  # unique item positions counter\n",
    "    \n",
    "    c = []\n",
    "    for i, item in enumerate(res):\n",
    "        commodity = item_to_commodity[item]\n",
    "        price_checklist[i] = itemid_to_price[item]        \n",
    "        \n",
    "        # check if code already exists in recs. If true change first duplicate\n",
    "        if commodity in c:\n",
    "            err_flag = 1\n",
    "            err_pos[i] += 1  # add penalty for mismatch element position\n",
    "            \n",
    "        # keep track of unique items\n",
    "        if item not in user_history:\n",
    "            unique_checklist[i] = 1\n",
    "        c.append(commodity)\n",
    "        \n",
    "    max_price = price_checklist[np.argmax(price_checklist)]\n",
    "    \n",
    "    # if no expensive items in list, mark last element\n",
    "    if max_price < max_price_constraint:\n",
    "        err_flag = 1\n",
    "        \n",
    "        # add penalty to last highest element\n",
    "        #  len(res-1) - np.argmax(err_pos[::-1]) keeps track on the last element if equal weights exist like 0\n",
    "        #  used in case of ranked elements\n",
    "        err_pos[len(res)-1 - np.argmax(err_pos[::-1])] += 1\n",
    "    \n",
    "    # if not enough unique elements, mark last element\n",
    "    if unique_checklist.sum() < max_n_new_items_constraint:\n",
    "        err_flag = 1\n",
    "        # add penalty to last highest element\n",
    "        err_pos[len(res)-1 - np.argmax(err_pos[::-1])] += 1\n",
    "    \n",
    "    return err_flag, err_pos\n",
    "\n",
    "            \n",
    "\n",
    "def postfilter_items(data,\n",
    "                     pop_recs,\n",
    "                     item_to_commodity,\n",
    "                     itemid_to_price,\n",
    "                     user_bought_history,\n",
    "                     n=5,\n",
    "                     target_col='base_rec',\n",
    "                     res_col='result'\n",
    "                    ):    \n",
    "    \n",
    "    \"\"\"\n",
    "    Input: user recommendations: pd.DataFrame\n",
    "    \"\"\"\n",
    "    # make result placeholders\n",
    "    data[res_col] = np.nan\n",
    "    data[res_col] = data[res_col].astype('object')\n",
    "    \n",
    "    \n",
    "    for index, row in data.iterrows():       \n",
    "        if row.user_id %500==0:\n",
    "            print(f\"iter on {row.user_id}\")\n",
    "        \n",
    "        recs = row[target_col]\n",
    "        result = recs[:n] # list with n item_id recs\n",
    "        flag, err_positions = check_valid_items(result,\n",
    "                                                row.user_id,\n",
    "                                                item_to_commodity,\n",
    "                                                itemid_to_price,\n",
    "                                                user_bought_history,\n",
    "                                                n)\n",
    "\n",
    "        take_from_pos = n + 1  # set initial position of new element to substitute as next # after existing recs\n",
    "        ov=1\n",
    "        while flag:\n",
    "            \n",
    "            pos_list = np.where(err_positions>0)[0]  # invalid element positions pointer\n",
    "            # change each invalid element \n",
    "            for pos in pos_list:\n",
    "                if take_from_pos%INIT_NUM_RECS==0 and not ov:  # INIT_NUM_RECS\n",
    "#                     print(take_from_pos)\n",
    "                    take_from_pos = 1\n",
    "                    ov=1\n",
    "                    \n",
    "                if ov:\n",
    "                    result[pos] = pop_recs[take_from_pos]\n",
    "                    take_from_pos +=1\n",
    "                    \n",
    "                else:\n",
    "                    result[pos] = recs[take_from_pos]\n",
    "                    take_from_pos +=1\n",
    "                \n",
    "            # check new recommendations\n",
    "            flag, err_positions = check_valid_items(result,\n",
    "                                                row.user_id,\n",
    "                                                item_to_commodity,\n",
    "                                                itemid_to_price,\n",
    "                                                user_bought_history,\n",
    "                                                n)        \n",
    "                    \n",
    "        data.at[index, res_col] = result\n",
    "    return data\n",
    "\n",
    "\n",
    "\n",
    "def money_precision_at_k(recommended_list, bought_list, prices, k=5):\n",
    "    \n",
    "    bought_list = np.array(bought_list)\n",
    "    recommended_list = np.array(recommended_list[:k])\n",
    "    \n",
    "    prices_recommended = np.array([prices[i] for i in recommended_list])\n",
    "    prices_bought = np.array([prices[i] for i in bought_list])\n",
    "    \n",
    "    flags = np.isin(bought_list, recommended_list)\n",
    "    precision = np.dot(flags, prices_bought) / np.dot(np.ones(k), prices_recommended)\n",
    "    \n",
    "    \n",
    "    return precision"
   ]
  },
  {
   "cell_type": "code",
   "execution_count": 208,
   "metadata": {},
   "outputs": [
    {
     "name": "stdout",
     "output_type": "stream",
     "text": [
      "Preparing raw data...Preparing raw data...Preparing raw features...\u001b[94mDone\u001b[0m\n",
      "Wall time: 4.19 s\n"
     ]
    }
   ],
   "source": [
    "%%time\n",
    "\n",
    "data_train_lvl_1 = get_raw_data_splits(DATA_PATH, mode=0)\n",
    "data_val_lvl_1 = get_raw_data_splits(TEST_PATH, mode=0)\n",
    "\n",
    "# TWO LVL PREPARATION\n",
    "\n",
    "# data, data_train_lvl_1, data_val_lvl_1, data_train_lvl_2, data_val_lvl_2 = get_raw_data_splits(\n",
    "#     DATA_PATH, TEST_SIZE_WEEKS, mode=1)\n",
    "\n",
    "item_features, user_features = preprare_features(ITEM_FEATURES_PATH, USER_FEATURES_PATH)"
   ]
  },
  {
   "cell_type": "code",
   "execution_count": 209,
   "metadata": {},
   "outputs": [
    {
     "name": "stdout",
     "output_type": "stream",
     "text": [
      "Items variety reduced from: \u001b[91m89051\u001b[0m to: \u001b[91m4000\u001b[0m samples...\u001b[94mDone\u001b[0m\n",
      "Items variety reduced from: \u001b[91m20497\u001b[0m to: \u001b[91m4000\u001b[0m samples...\u001b[94mDone\u001b[0m\n"
     ]
    }
   ],
   "source": [
    "# Prefilter routine\n",
    "data_train_lvl_1 = prefilter_items(data_train_lvl_1, N_POPULAR_ITEMS) # Prefilter routine\n",
    "\n",
    "data_val_lvl_1 = prefilter_items(data_val_lvl_1, N_POPULAR_ITEMS) # Prefilter routine"
   ]
  },
  {
   "cell_type": "code",
   "execution_count": 210,
   "metadata": {},
   "outputs": [
    {
     "name": "stdout",
     "output_type": "stream",
     "text": [
      "Wall time: 1.5 s\n"
     ]
    }
   ],
   "source": [
    "%%time\n",
    "\n",
    "# Get avg historical prices for all products\n",
    "itemid_to_price = get_price_list(data_train_lvl_1, data_val_lvl_1)\n",
    "user_bought_history = get_bought_ever_list(data_train_lvl_1, data_val_lvl_1)\n",
    "item_to_commodity =  get_item_commodities_list(item_features)\n",
    "\n",
    "# data.groupby('item_id')['sales_value'].sum().reset_index()"
   ]
  },
  {
   "cell_type": "code",
   "execution_count": 211,
   "metadata": {},
   "outputs": [
    {
     "data": {
      "application/vnd.jupyter.widget-view+json": {
       "model_id": "0d67f3d2aefc4c20929abf9f4ed7123c",
       "version_major": 2,
       "version_minor": 0
      },
      "text/plain": [
       "HBox(children=(FloatProgress(value=0.0, max=20.0), HTML(value='')))"
      ]
     },
     "metadata": {},
     "output_type": "display_data"
    },
    {
     "name": "stdout",
     "output_type": "stream",
     "text": [
      "\n"
     ]
    },
    {
     "ename": "UnboundLocalError",
     "evalue": "local variable 'vali_item_users' referenced before assignment",
     "output_type": "error",
     "traceback": [
      "\u001b[1;31m---------------------------------------------------------------------------\u001b[0m",
      "\u001b[1;31mUnboundLocalError\u001b[0m                         Traceback (most recent call last)",
      "\u001b[1;32m<timed exec>\u001b[0m in \u001b[0;36m<module>\u001b[1;34m\u001b[0m\n",
      "\u001b[1;32m<ipython-input-207-9b28fc4ab890>\u001b[0m in \u001b[0;36m__init__\u001b[1;34m(self, data, prices, weighting)\u001b[0m\n\u001b[0;32m    192\u001b[0m \u001b[1;33m\u001b[0m\u001b[0m\n\u001b[0;32m    193\u001b[0m         \u001b[0mself\u001b[0m\u001b[1;33m.\u001b[0m\u001b[0mmodel\u001b[0m \u001b[1;33m=\u001b[0m \u001b[0mself\u001b[0m\u001b[1;33m.\u001b[0m\u001b[0mfit\u001b[0m\u001b[1;33m(\u001b[0m\u001b[0mself\u001b[0m\u001b[1;33m.\u001b[0m\u001b[0muser_item_matrix\u001b[0m\u001b[1;33m)\u001b[0m\u001b[1;33m\u001b[0m\u001b[1;33m\u001b[0m\u001b[0m\n\u001b[1;32m--> 194\u001b[1;33m         \u001b[0mself\u001b[0m\u001b[1;33m.\u001b[0m\u001b[0mbpr\u001b[0m \u001b[1;33m=\u001b[0m \u001b[0mself\u001b[0m\u001b[1;33m.\u001b[0m\u001b[0mfit_bpr\u001b[0m\u001b[1;33m(\u001b[0m\u001b[0mself\u001b[0m\u001b[1;33m.\u001b[0m\u001b[0muser_item_matrix\u001b[0m\u001b[1;33m)\u001b[0m\u001b[1;33m\u001b[0m\u001b[1;33m\u001b[0m\u001b[0m\n\u001b[0m\u001b[0;32m    195\u001b[0m         \u001b[0mself\u001b[0m\u001b[1;33m.\u001b[0m\u001b[0mown_recommender\u001b[0m \u001b[1;33m=\u001b[0m \u001b[0mself\u001b[0m\u001b[1;33m.\u001b[0m\u001b[0mfit_own_recommender\u001b[0m\u001b[1;33m(\u001b[0m\u001b[0mself\u001b[0m\u001b[1;33m.\u001b[0m\u001b[0muser_item_matrix\u001b[0m\u001b[1;33m)\u001b[0m\u001b[1;33m\u001b[0m\u001b[1;33m\u001b[0m\u001b[0m\n\u001b[0;32m    196\u001b[0m \u001b[1;33m\u001b[0m\u001b[0m\n",
      "\u001b[1;32m<ipython-input-207-9b28fc4ab890>\u001b[0m in \u001b[0;36mfit_bpr\u001b[1;34m(user_item_matrix, n_factors, regularization, iterations, num_threads)\u001b[0m\n\u001b[0;32m    283\u001b[0m                                              \u001b[0miterations\u001b[0m\u001b[1;33m=\u001b[0m\u001b[0miterations\u001b[0m\u001b[1;33m,\u001b[0m\u001b[1;33m\u001b[0m\u001b[1;33m\u001b[0m\u001b[0m\n\u001b[0;32m    284\u001b[0m                                              num_threads=num_threads)\n\u001b[1;32m--> 285\u001b[1;33m         \u001b[0mmodel\u001b[0m\u001b[1;33m.\u001b[0m\u001b[0mfit\u001b[0m\u001b[1;33m(\u001b[0m\u001b[0mcsr_matrix\u001b[0m\u001b[1;33m(\u001b[0m\u001b[0muser_item_matrix\u001b[0m\u001b[1;33m)\u001b[0m\u001b[1;33m.\u001b[0m\u001b[0mT\u001b[0m\u001b[1;33m.\u001b[0m\u001b[0mtocsr\u001b[0m\u001b[1;33m(\u001b[0m\u001b[1;33m)\u001b[0m\u001b[1;33m)\u001b[0m\u001b[1;33m\u001b[0m\u001b[1;33m\u001b[0m\u001b[0m\n\u001b[0m\u001b[0;32m    286\u001b[0m         \u001b[1;32mreturn\u001b[0m \u001b[0mmodel\u001b[0m\u001b[1;33m\u001b[0m\u001b[1;33m\u001b[0m\u001b[0m\n\u001b[0;32m    287\u001b[0m \u001b[1;33m\u001b[0m\u001b[0m\n",
      "\u001b[1;32mimplicit\\bpr.pyx\u001b[0m in \u001b[0;36mimplicit.bpr.BayesianPersonalizedRanking.fit\u001b[1;34m()\u001b[0m\n",
      "\u001b[1;31mUnboundLocalError\u001b[0m: local variable 'vali_item_users' referenced before assignment"
     ]
    }
   ],
   "source": [
    "%%time\n",
    "\n",
    "recommender = MainRecommender(data_train_lvl_1, itemid_to_price)"
   ]
  },
  {
   "cell_type": "code",
   "execution_count": 119,
   "metadata": {},
   "outputs": [
    {
     "name": "stdout",
     "output_type": "stream",
     "text": [
      "user_id: '\u001b[94m1176\u001b[0m' not in dict, add...\n",
      "user_id: '\u001b[94m2325\u001b[0m' not in dict, add...\n",
      "Wall time: 20.5 s\n"
     ]
    }
   ],
   "source": [
    "%%time\n",
    "\n",
    "result_lvl_1 = data_val_lvl_1.groupby('user_id')['item_id'].unique().reset_index()\n",
    "result_lvl_1.columns=['user_id', 'actual']\n",
    "result_lvl_1['base_rec'] = result_lvl_1['user_id'].apply(lambda x: recommender.get_als_recommendations(x, N=INIT_NUM_RECS))"
   ]
  },
  {
   "cell_type": "code",
   "execution_count": 120,
   "metadata": {},
   "outputs": [
    {
     "name": "stdout",
     "output_type": "stream",
     "text": [
      "iter on 1000\n",
      "iter on 1500\n",
      "iter on 2500\n",
      "Wall time: 7.17 s\n"
     ]
    }
   ],
   "source": [
    "%%time\n",
    "result_lvl_1 = postfilter_items(result_lvl_1,\n",
    "                            recommender.overall_top_purchases,\n",
    "                            item_to_commodity,\n",
    "                            itemid_to_price,\n",
    "                            user_bought_history,\n",
    "                            n=N_FIN_RECS)"
   ]
  },
  {
   "cell_type": "code",
   "execution_count": 121,
   "metadata": {},
   "outputs": [
    {
     "data": {
      "text/plain": [
       "0.0346839625861094"
      ]
     },
     "execution_count": 121,
     "metadata": {},
     "output_type": "execute_result"
    }
   ],
   "source": [
    "res = result_lvl_1.apply(lambda row: money_precision_at_k(row['result'], row['actual'], itemid_to_price, k=5), axis=1).mean()\n",
    "res"
   ]
  },
  {
   "cell_type": "markdown",
   "metadata": {},
   "source": [
    "Results:\n",
    "\n",
    "1 lvl. als recommender: current max: 0.77\n",
    "- Train 1 lvl split. No features, ignore new, ignore restrictions (week_no 1-85, 86-91). Result metric: 0.6\n",
    "- Train 1 lvl split. No features, ignore new, ignore restrictions (week_no 1-85, 86-95). Result metric: 0.19\n",
    "- =same=... recs for new users by popular items. Result metric: 0.177\n",
    "- Public-test validation (week_no 1-95, 96-98), pop-recs filling, ignore restrictions. Result metric: 0.1\n",
    "- =same=... Follow restrictions (replace from als rec list, then popular). Result metric: 0.07\n",
    "- =same=... Follow restrictions (replace from popular rec list, then popular). Result metric: 0.06\n",
    "- =same=... Prefilter workout: skip old purchased goods. Result metric 0.078\n",
    "- change popular recomendations to price, change weights at user-item matrix. Result metric 0.034\n",
    "- 1 lvl. own recommender. Result metric: 0.1\n"
   ]
  },
  {
   "cell_type": "code",
   "execution_count": null,
   "metadata": {},
   "outputs": [],
   "source": []
  },
  {
   "cell_type": "code",
   "execution_count": 203,
   "metadata": {},
   "outputs": [],
   "source": [
    "def eval_routine(DATA_PATH,\n",
    "                 TEST_PATH,\n",
    "                 ITEM_FEATURES_PATH,\n",
    "                 USER_FEATURES_PATH,\n",
    "                 TEST_SIZE_WEEKS,\n",
    "                 N_POPULAR_ITEMS,\n",
    "                 INIT_NUM_RECS,\n",
    "                 N_FIN_RECS):\n",
    "    \n",
    "    data_train_lvl_1 = get_raw_data_splits(DATA_PATH, mode=0)\n",
    "    data_val_lvl_1 = get_raw_data_splits(TEST_PATH, mode=0)\n",
    "    item_features, user_features = preprare_features(ITEM_FEATURES_PATH, USER_FEATURES_PATH)\n",
    "    data_train_lvl_1 = prefilter_items(data_train_lvl_1, N_POPULAR_ITEMS) # Prefilter routine\n",
    "    data_val_lvl_1 = prefilter_items(data_val_lvl_1, N_POPULAR_ITEMS) # Prefilter routine\n",
    "    itemid_to_price = get_price_list(data_train_lvl_1, data_val_lvl_1)\n",
    "    user_bought_history = get_bought_ever_list(data_train_lvl_1, data_val_lvl_1)\n",
    "    item_to_commodity =  get_item_commodities_list(item_features)\n",
    "    recommender = MainRecommender(data_train_lvl_1, itemid_to_price)\n",
    "    result_lvl_1 = data_val_lvl_1.groupby('user_id')['item_id'].unique().reset_index()\n",
    "    result_lvl_1.columns=['user_id', 'actual']\n",
    "    result_lvl_1['base_rec'] = result_lvl_1['user_id'].apply(lambda x: recommender.get_bayesian_recommendations(x, N=INIT_NUM_RECS))\n",
    "    result_lvl_1 = postfilter_items(result_lvl_1,\n",
    "                            recommender.overall_top_purchases,\n",
    "                            item_to_commodity,\n",
    "                            itemid_to_price,\n",
    "                            user_bought_history,\n",
    "                            n=N_FIN_RECS)\n",
    "    res = result_lvl_1.apply(lambda row: money_precision_at_k(row['result'],\n",
    "                                                              row['actual'],\n",
    "                                                              itemid_to_price,\n",
    "                                                              k=5), axis=1).mean()\n",
    "    return res"
   ]
  },
  {
   "cell_type": "code",
   "execution_count": 161,
   "metadata": {},
   "outputs": [
    {
     "name": "stdout",
     "output_type": "stream",
     "text": [
      "Preparing raw data...Preparing raw data...Preparing raw features...\u001b[94mDone\u001b[0m\n",
      "Items variety reduced from: \u001b[91m89051\u001b[0m to: \u001b[91m5000\u001b[0m samples...\u001b[94mDone\u001b[0m\n",
      "Items variety reduced from: \u001b[91m20497\u001b[0m to: \u001b[91m5000\u001b[0m samples...\u001b[94mDone\u001b[0m\n"
     ]
    },
    {
     "data": {
      "application/vnd.jupyter.widget-view+json": {
       "model_id": "e7408d174ddb45a68e3c6abde6418cc9",
       "version_major": 2,
       "version_minor": 0
      },
      "text/plain": [
       "HBox(children=(FloatProgress(value=0.0, max=20.0), HTML(value='')))"
      ]
     },
     "metadata": {},
     "output_type": "display_data"
    },
    {
     "name": "stdout",
     "output_type": "stream",
     "text": [
      "\n"
     ]
    },
    {
     "data": {
      "application/vnd.jupyter.widget-view+json": {
       "model_id": "a9213028e1c94bafaa82e6ac27722499",
       "version_major": 2,
       "version_minor": 0
      },
      "text/plain": [
       "HBox(children=(FloatProgress(value=0.0, max=5000.0), HTML(value='')))"
      ]
     },
     "metadata": {},
     "output_type": "display_data"
    },
    {
     "name": "stdout",
     "output_type": "stream",
     "text": [
      "\n",
      "user_id: '\u001b[94m1043\u001b[0m' not in dict, add...\n",
      "user_id: '\u001b[94m2325\u001b[0m' not in dict, add...\n",
      "iter on 1000\n",
      "iter on 1500\n",
      "iter on 2500\n",
      "Preparing raw data...Preparing raw data...Preparing raw features...\u001b[94mDone\u001b[0m\n",
      "Items variety reduced from: \u001b[91m89051\u001b[0m to: \u001b[91m5500\u001b[0m samples...\u001b[94mDone\u001b[0m\n",
      "Items variety reduced from: \u001b[91m20497\u001b[0m to: \u001b[91m5500\u001b[0m samples...\u001b[94mDone\u001b[0m\n"
     ]
    },
    {
     "data": {
      "application/vnd.jupyter.widget-view+json": {
       "model_id": "ed9fbf4f89e843048a562434a748cb47",
       "version_major": 2,
       "version_minor": 0
      },
      "text/plain": [
       "HBox(children=(FloatProgress(value=0.0, max=20.0), HTML(value='')))"
      ]
     },
     "metadata": {},
     "output_type": "display_data"
    },
    {
     "name": "stdout",
     "output_type": "stream",
     "text": [
      "\n"
     ]
    },
    {
     "data": {
      "application/vnd.jupyter.widget-view+json": {
       "model_id": "3691f99145dd491cbcac3a3f5f1c2110",
       "version_major": 2,
       "version_minor": 0
      },
      "text/plain": [
       "HBox(children=(FloatProgress(value=0.0, max=5500.0), HTML(value='')))"
      ]
     },
     "metadata": {},
     "output_type": "display_data"
    },
    {
     "name": "stdout",
     "output_type": "stream",
     "text": [
      "\n",
      "user_id: '\u001b[94m1043\u001b[0m' not in dict, add...\n",
      "user_id: '\u001b[94m2325\u001b[0m' not in dict, add...\n",
      "iter on 1000\n",
      "iter on 1500\n",
      "iter on 2500\n",
      "Preparing raw data...Preparing raw data...Preparing raw features...\u001b[94mDone\u001b[0m\n",
      "Items variety reduced from: \u001b[91m89051\u001b[0m to: \u001b[91m6000\u001b[0m samples...\u001b[94mDone\u001b[0m\n",
      "Items variety reduced from: \u001b[91m20497\u001b[0m to: \u001b[91m6000\u001b[0m samples...\u001b[94mDone\u001b[0m\n"
     ]
    },
    {
     "data": {
      "application/vnd.jupyter.widget-view+json": {
       "model_id": "a89bf842c19b49948902ca63ab98f0cd",
       "version_major": 2,
       "version_minor": 0
      },
      "text/plain": [
       "HBox(children=(FloatProgress(value=0.0, max=20.0), HTML(value='')))"
      ]
     },
     "metadata": {},
     "output_type": "display_data"
    },
    {
     "name": "stdout",
     "output_type": "stream",
     "text": [
      "\n"
     ]
    },
    {
     "data": {
      "application/vnd.jupyter.widget-view+json": {
       "model_id": "63a92e2966cd45d5b5958ccd9825176b",
       "version_major": 2,
       "version_minor": 0
      },
      "text/plain": [
       "HBox(children=(FloatProgress(value=0.0, max=6000.0), HTML(value='')))"
      ]
     },
     "metadata": {},
     "output_type": "display_data"
    },
    {
     "name": "stdout",
     "output_type": "stream",
     "text": [
      "\n",
      "user_id: '\u001b[94m650\u001b[0m' not in dict, add...\n",
      "user_id: '\u001b[94m1043\u001b[0m' not in dict, add...\n",
      "user_id: '\u001b[94m2325\u001b[0m' not in dict, add...\n",
      "user_id: '\u001b[94m2364\u001b[0m' not in dict, add...\n",
      "iter on 1000\n",
      "iter on 1500\n",
      "iter on 2500\n",
      "Preparing raw data...Preparing raw data...Preparing raw features...\u001b[94mDone\u001b[0m\n",
      "Items variety reduced from: \u001b[91m89051\u001b[0m to: \u001b[91m6500\u001b[0m samples...\u001b[94mDone\u001b[0m\n",
      "Items variety reduced from: \u001b[91m20497\u001b[0m to: \u001b[91m6500\u001b[0m samples...\u001b[94mDone\u001b[0m\n"
     ]
    },
    {
     "data": {
      "application/vnd.jupyter.widget-view+json": {
       "model_id": "c83e6a24330249b5874aac4f39330bea",
       "version_major": 2,
       "version_minor": 0
      },
      "text/plain": [
       "HBox(children=(FloatProgress(value=0.0, max=20.0), HTML(value='')))"
      ]
     },
     "metadata": {},
     "output_type": "display_data"
    },
    {
     "name": "stdout",
     "output_type": "stream",
     "text": [
      "\n"
     ]
    },
    {
     "data": {
      "application/vnd.jupyter.widget-view+json": {
       "model_id": "47668002518642aab3a0e5afcb6c7f65",
       "version_major": 2,
       "version_minor": 0
      },
      "text/plain": [
       "HBox(children=(FloatProgress(value=0.0, max=6500.0), HTML(value='')))"
      ]
     },
     "metadata": {},
     "output_type": "display_data"
    },
    {
     "name": "stdout",
     "output_type": "stream",
     "text": [
      "\n",
      "user_id: '\u001b[94m650\u001b[0m' not in dict, add...\n",
      "user_id: '\u001b[94m1043\u001b[0m' not in dict, add...\n",
      "user_id: '\u001b[94m2325\u001b[0m' not in dict, add...\n",
      "user_id: '\u001b[94m2364\u001b[0m' not in dict, add...\n",
      "iter on 1000\n",
      "iter on 1500\n",
      "iter on 2500\n",
      "Preparing raw data...Preparing raw data...Preparing raw features...\u001b[94mDone\u001b[0m\n",
      "Items variety reduced from: \u001b[91m89051\u001b[0m to: \u001b[91m7000\u001b[0m samples...\u001b[94mDone\u001b[0m\n",
      "Items variety reduced from: \u001b[91m20497\u001b[0m to: \u001b[91m7000\u001b[0m samples...\u001b[94mDone\u001b[0m\n"
     ]
    },
    {
     "data": {
      "application/vnd.jupyter.widget-view+json": {
       "model_id": "e5ddedd479094f188f4dd14e8d1c76db",
       "version_major": 2,
       "version_minor": 0
      },
      "text/plain": [
       "HBox(children=(FloatProgress(value=0.0, max=20.0), HTML(value='')))"
      ]
     },
     "metadata": {},
     "output_type": "display_data"
    },
    {
     "name": "stdout",
     "output_type": "stream",
     "text": [
      "\n"
     ]
    },
    {
     "data": {
      "application/vnd.jupyter.widget-view+json": {
       "model_id": "4800d1da4a7c4408bf777c6cfe553361",
       "version_major": 2,
       "version_minor": 0
      },
      "text/plain": [
       "HBox(children=(FloatProgress(value=0.0, max=7000.0), HTML(value='')))"
      ]
     },
     "metadata": {},
     "output_type": "display_data"
    },
    {
     "name": "stdout",
     "output_type": "stream",
     "text": [
      "\n",
      "user_id: '\u001b[94m1043\u001b[0m' not in dict, add...\n",
      "user_id: '\u001b[94m2120\u001b[0m' not in dict, add...\n",
      "user_id: '\u001b[94m2325\u001b[0m' not in dict, add...\n",
      "user_id: '\u001b[94m2364\u001b[0m' not in dict, add...\n",
      "iter on 1000\n",
      "iter on 1500\n",
      "iter on 2500\n",
      "Preparing raw data...Preparing raw data...Preparing raw features...\u001b[94mDone\u001b[0m\n",
      "Items variety reduced from: \u001b[91m89051\u001b[0m to: \u001b[91m7500\u001b[0m samples...\u001b[94mDone\u001b[0m\n",
      "Items variety reduced from: \u001b[91m20497\u001b[0m to: \u001b[91m7500\u001b[0m samples...\u001b[94mDone\u001b[0m\n"
     ]
    },
    {
     "data": {
      "application/vnd.jupyter.widget-view+json": {
       "model_id": "8161903324fe461283c33aafb2bcfe7d",
       "version_major": 2,
       "version_minor": 0
      },
      "text/plain": [
       "HBox(children=(FloatProgress(value=0.0, max=20.0), HTML(value='')))"
      ]
     },
     "metadata": {},
     "output_type": "display_data"
    },
    {
     "name": "stdout",
     "output_type": "stream",
     "text": [
      "\n"
     ]
    },
    {
     "data": {
      "application/vnd.jupyter.widget-view+json": {
       "model_id": "67d040c3c967425e802c1fc1e54e4508",
       "version_major": 2,
       "version_minor": 0
      },
      "text/plain": [
       "HBox(children=(FloatProgress(value=0.0, max=7500.0), HTML(value='')))"
      ]
     },
     "metadata": {},
     "output_type": "display_data"
    },
    {
     "name": "stdout",
     "output_type": "stream",
     "text": [
      "\n",
      "user_id: '\u001b[94m75\u001b[0m' not in dict, add...\n",
      "user_id: '\u001b[94m729\u001b[0m' not in dict, add...\n",
      "user_id: '\u001b[94m1043\u001b[0m' not in dict, add...\n",
      "user_id: '\u001b[94m2120\u001b[0m' not in dict, add...\n",
      "user_id: '\u001b[94m2325\u001b[0m' not in dict, add...\n",
      "iter on 1000\n",
      "iter on 1500\n",
      "iter on 2500\n",
      "Preparing raw data...Preparing raw data...Preparing raw features...\u001b[94mDone\u001b[0m\n",
      "Items variety reduced from: \u001b[91m89051\u001b[0m to: \u001b[91m8000\u001b[0m samples...\u001b[94mDone\u001b[0m\n",
      "Items variety reduced from: \u001b[91m20497\u001b[0m to: \u001b[91m8000\u001b[0m samples...\u001b[94mDone\u001b[0m\n"
     ]
    },
    {
     "data": {
      "application/vnd.jupyter.widget-view+json": {
       "model_id": "f5a1f62f19234347904c83616f49b822",
       "version_major": 2,
       "version_minor": 0
      },
      "text/plain": [
       "HBox(children=(FloatProgress(value=0.0, max=20.0), HTML(value='')))"
      ]
     },
     "metadata": {},
     "output_type": "display_data"
    },
    {
     "name": "stdout",
     "output_type": "stream",
     "text": [
      "\n"
     ]
    },
    {
     "data": {
      "application/vnd.jupyter.widget-view+json": {
       "model_id": "3538c5a3d1014a1fbd3d930e85bfeba6",
       "version_major": 2,
       "version_minor": 0
      },
      "text/plain": [
       "HBox(children=(FloatProgress(value=0.0, max=8000.0), HTML(value='')))"
      ]
     },
     "metadata": {},
     "output_type": "display_data"
    },
    {
     "name": "stdout",
     "output_type": "stream",
     "text": [
      "\n",
      "user_id: '\u001b[94m75\u001b[0m' not in dict, add...\n",
      "user_id: '\u001b[94m729\u001b[0m' not in dict, add...\n",
      "user_id: '\u001b[94m1043\u001b[0m' not in dict, add...\n",
      "user_id: '\u001b[94m2120\u001b[0m' not in dict, add...\n",
      "user_id: '\u001b[94m2325\u001b[0m' not in dict, add...\n",
      "iter on 1000\n",
      "iter on 1500\n",
      "iter on 2500\n",
      "Preparing raw data...Preparing raw data...Preparing raw features...\u001b[94mDone\u001b[0m\n",
      "Items variety reduced from: \u001b[91m89051\u001b[0m to: \u001b[91m8500\u001b[0m samples...\u001b[94mDone\u001b[0m\n",
      "Items variety reduced from: \u001b[91m20497\u001b[0m to: \u001b[91m8500\u001b[0m samples...\u001b[94mDone\u001b[0m\n"
     ]
    },
    {
     "data": {
      "application/vnd.jupyter.widget-view+json": {
       "model_id": "1401e474c9264c7f85c1294a4c8d96d4",
       "version_major": 2,
       "version_minor": 0
      },
      "text/plain": [
       "HBox(children=(FloatProgress(value=0.0, max=20.0), HTML(value='')))"
      ]
     },
     "metadata": {},
     "output_type": "display_data"
    },
    {
     "name": "stdout",
     "output_type": "stream",
     "text": [
      "\n"
     ]
    },
    {
     "data": {
      "application/vnd.jupyter.widget-view+json": {
       "model_id": "f025f3e56d7646019da31743f8156e6c",
       "version_major": 2,
       "version_minor": 0
      },
      "text/plain": [
       "HBox(children=(FloatProgress(value=0.0, max=8500.0), HTML(value='')))"
      ]
     },
     "metadata": {},
     "output_type": "display_data"
    },
    {
     "name": "stdout",
     "output_type": "stream",
     "text": [
      "\n",
      "user_id: '\u001b[94m75\u001b[0m' not in dict, add...\n",
      "user_id: '\u001b[94m729\u001b[0m' not in dict, add...\n",
      "user_id: '\u001b[94m1043\u001b[0m' not in dict, add...\n",
      "user_id: '\u001b[94m2120\u001b[0m' not in dict, add...\n",
      "user_id: '\u001b[94m2325\u001b[0m' not in dict, add...\n",
      "iter on 1000\n",
      "iter on 1500\n",
      "iter on 2500\n",
      "Preparing raw data...Preparing raw data...Preparing raw features...\u001b[94mDone\u001b[0m\n",
      "Items variety reduced from: \u001b[91m89051\u001b[0m to: \u001b[91m9000\u001b[0m samples...\u001b[94mDone\u001b[0m\n",
      "Items variety reduced from: \u001b[91m20497\u001b[0m to: \u001b[91m9000\u001b[0m samples...\u001b[94mDone\u001b[0m\n"
     ]
    },
    {
     "data": {
      "application/vnd.jupyter.widget-view+json": {
       "model_id": "b8b8b5d32b59432ca3950a5b883231b4",
       "version_major": 2,
       "version_minor": 0
      },
      "text/plain": [
       "HBox(children=(FloatProgress(value=0.0, max=20.0), HTML(value='')))"
      ]
     },
     "metadata": {},
     "output_type": "display_data"
    },
    {
     "name": "stdout",
     "output_type": "stream",
     "text": [
      "\n"
     ]
    },
    {
     "data": {
      "application/vnd.jupyter.widget-view+json": {
       "model_id": "4b9252567f6742568546ada71fc879bd",
       "version_major": 2,
       "version_minor": 0
      },
      "text/plain": [
       "HBox(children=(FloatProgress(value=0.0, max=9000.0), HTML(value='')))"
      ]
     },
     "metadata": {},
     "output_type": "display_data"
    },
    {
     "name": "stdout",
     "output_type": "stream",
     "text": [
      "\n",
      "user_id: '\u001b[94m75\u001b[0m' not in dict, add...\n",
      "user_id: '\u001b[94m729\u001b[0m' not in dict, add...\n",
      "user_id: '\u001b[94m1043\u001b[0m' not in dict, add...\n",
      "user_id: '\u001b[94m2120\u001b[0m' not in dict, add...\n",
      "user_id: '\u001b[94m2325\u001b[0m' not in dict, add...\n",
      "iter on 1000\n",
      "iter on 1500\n",
      "iter on 2500\n",
      "Preparing raw data...Preparing raw data...Preparing raw features...\u001b[94mDone\u001b[0m\n",
      "Items variety reduced from: \u001b[91m89051\u001b[0m to: \u001b[91m9500\u001b[0m samples...\u001b[94mDone\u001b[0m\n",
      "Items variety reduced from: \u001b[91m20497\u001b[0m to: \u001b[91m9500\u001b[0m samples...\u001b[94mDone\u001b[0m\n"
     ]
    },
    {
     "data": {
      "application/vnd.jupyter.widget-view+json": {
       "model_id": "d78660081338473a8ae97a6a81a83216",
       "version_major": 2,
       "version_minor": 0
      },
      "text/plain": [
       "HBox(children=(FloatProgress(value=0.0, max=20.0), HTML(value='')))"
      ]
     },
     "metadata": {},
     "output_type": "display_data"
    },
    {
     "name": "stdout",
     "output_type": "stream",
     "text": [
      "\n"
     ]
    },
    {
     "data": {
      "application/vnd.jupyter.widget-view+json": {
       "model_id": "a27e2cca16544d04b64dfe9e90c6af1b",
       "version_major": 2,
       "version_minor": 0
      },
      "text/plain": [
       "HBox(children=(FloatProgress(value=0.0, max=9500.0), HTML(value='')))"
      ]
     },
     "metadata": {},
     "output_type": "display_data"
    },
    {
     "name": "stdout",
     "output_type": "stream",
     "text": [
      "\n",
      "user_id: '\u001b[94m75\u001b[0m' not in dict, add...\n",
      "user_id: '\u001b[94m729\u001b[0m' not in dict, add...\n",
      "user_id: '\u001b[94m1043\u001b[0m' not in dict, add...\n",
      "user_id: '\u001b[94m2120\u001b[0m' not in dict, add...\n",
      "user_id: '\u001b[94m2325\u001b[0m' not in dict, add...\n",
      "iter on 1000\n",
      "iter on 1500\n",
      "iter on 2500\n"
     ]
    }
   ],
   "source": [
    "# DATA_PATH = './data/retail_train.csv'\n",
    "# TEST_PATH = './data/retail_test1.csv'\n",
    "# ITEM_FEATURES_PATH = './data/product.csv'\n",
    "# USER_FEATURES_PATH = './data/hh_demographic.csv'\n",
    "\n",
    "# TEST_SIZE_WEEKS = (6,3)\n",
    "N_POPULAR_ITEMS = np.arange(5000,10000, 500)\n",
    "# INIT_NUM_RECS = 300\n",
    "# N_FIN_RECS = 5\n",
    "\n",
    "eval_metrics = []\n",
    "for num in N_POPULAR_ITEMS:\n",
    "\n",
    "\n",
    "    res = eval_routine(DATA_PATH,\n",
    "                       TEST_PATH,\n",
    "                       ITEM_FEATURES_PATH,\n",
    "                       USER_FEATURES_PATH,\n",
    "                       TEST_SIZE_WEEKS,\n",
    "                       num,\n",
    "                       INIT_NUM_RECS,\n",
    "                       N_FIN_RECS)\n",
    "\n",
    "    eval_metrics.append(res)"
   ]
  },
  {
   "cell_type": "code",
   "execution_count": null,
   "metadata": {},
   "outputs": [],
   "source": [
    "res"
   ]
  },
  {
   "cell_type": "code",
   "execution_count": 162,
   "metadata": {},
   "outputs": [
    {
     "data": {
      "text/plain": [
       "array([5000, 5500, 6000, 6500, 7000, 7500, 8000, 8500, 9000, 9500])"
      ]
     },
     "execution_count": 162,
     "metadata": {},
     "output_type": "execute_result"
    }
   ],
   "source": [
    "N_POPULAR_ITEMS"
   ]
  },
  {
   "cell_type": "code",
   "execution_count": 163,
   "metadata": {},
   "outputs": [
    {
     "data": {
      "text/plain": [
       "[0.08377515550926759,\n",
       " 0.08363650737998349,\n",
       " 0.08294430072744367,\n",
       " 0.08489296216950801,\n",
       " 0.08527922406141984,\n",
       " 0.08690208768033132,\n",
       " 0.08737717664481394,\n",
       " 0.0852363340022869,\n",
       " 0.0849502905032737,\n",
       " 0.08372449581736492]"
      ]
     },
     "execution_count": 163,
     "metadata": {},
     "output_type": "execute_result"
    }
   ],
   "source": [
    "eval_metrics"
   ]
  },
  {
   "cell_type": "code",
   "execution_count": 164,
   "metadata": {},
   "outputs": [],
   "source": [
    "x = np.array([1000, 1500, 2000, 3000, 3500, 4000, 4500, 5000, 5500, 6000, 6500, 7000, 7500, 8000, 8500, 9000, 9500])\n",
    "y = np.array([\n",
    "    0.07859617320340956, 0.07756664938334809, 0.0773187229745913, 0.07971259054182002,\n",
    "    0.08331703394679879, 0.08449291305737293, 0.08397684265847496, 0.08377515550926759,\n",
    "    0.08363650737998349, 0.08294430072744367,0.08489296216950801, 0.08527922406141984,\n",
    "    0.08690208768033132, 0.08737717664481394, 0.0852363340022869, 0.0849502905032737,\n",
    "    0.08372449581736492\n",
    "])"
   ]
  },
  {
   "cell_type": "code",
   "execution_count": 173,
   "metadata": {},
   "outputs": [
    {
     "data": {
      "text/plain": [
       "''"
      ]
     },
     "execution_count": 173,
     "metadata": {},
     "output_type": "execute_result"
    },
    {
     "data": {
      "image/png": "[encoded data removed]",
      "text/plain": [
       "<Figure size 432x288 with 1 Axes>"
      ]
     },
     "metadata": {
      "needs_background": "light"
     },
     "output_type": "display_data"
    }
   ],
   "source": [
    "plt.plot(x, y)\n",
    "plt.xlabel('n_popular')\n",
    "plt.ylabel('own recommender score')\n",
    "plt.ylim(0.077, 0.088)\n",
    ";"
   ]
  },
  {
   "cell_type": "code",
   "execution_count": 204,
   "metadata": {},
   "outputs": [
    {
     "name": "stdout",
     "output_type": "stream",
     "text": [
      "Preparing raw data...Preparing raw data...Preparing raw features...\u001b[94mDone\u001b[0m\n",
      "Items variety reduced from: \u001b[91m89051\u001b[0m to: \u001b[91m4000\u001b[0m samples...\u001b[94mDone\u001b[0m\n",
      "Items variety reduced from: \u001b[91m20497\u001b[0m to: \u001b[91m4000\u001b[0m samples...\u001b[94mDone\u001b[0m\n"
     ]
    },
    {
     "data": {
      "application/vnd.jupyter.widget-view+json": {
       "model_id": "e008ff5faa0e4e4fa7464876fd32ba8d",
       "version_major": 2,
       "version_minor": 0
      },
      "text/plain": [
       "HBox(children=(FloatProgress(value=0.0, max=20.0), HTML(value='')))"
      ]
     },
     "metadata": {},
     "output_type": "display_data"
    },
    {
     "name": "stderr",
     "output_type": "stream",
     "text": [
      "WARNING:implicit:GPU training requires factor size to be a multiple of 32 - 1. Increasing factors from 32 to 63.\n"
     ]
    },
    {
     "name": "stdout",
     "output_type": "stream",
     "text": [
      "\n"
     ]
    },
    {
     "ename": "UnboundLocalError",
     "evalue": "local variable 'vali_item_users' referenced before assignment",
     "output_type": "error",
     "traceback": [
      "\u001b[1;31m---------------------------------------------------------------------------\u001b[0m",
      "\u001b[1;31mUnboundLocalError\u001b[0m                         Traceback (most recent call last)",
      "\u001b[1;32m<ipython-input-204-5c3d82be25eb>\u001b[0m in \u001b[0;36m<module>\u001b[1;34m\u001b[0m\n\u001b[0;32m      6\u001b[0m                    \u001b[0mN_POPULAR_ITEMS\u001b[0m\u001b[1;33m,\u001b[0m\u001b[1;33m\u001b[0m\u001b[1;33m\u001b[0m\u001b[0m\n\u001b[0;32m      7\u001b[0m                    \u001b[0mINIT_NUM_RECS\u001b[0m\u001b[1;33m,\u001b[0m\u001b[1;33m\u001b[0m\u001b[1;33m\u001b[0m\u001b[0m\n\u001b[1;32m----> 8\u001b[1;33m                    N_FIN_RECS)\n\u001b[0m\u001b[0;32m      9\u001b[0m \u001b[0mres\u001b[0m  \u001b[1;31m# 0.10219570957759051   # 0.09726113193877858\u001b[0m\u001b[1;33m\u001b[0m\u001b[1;33m\u001b[0m\u001b[0m\n",
      "\u001b[1;32m<ipython-input-203-e64bd153d70c>\u001b[0m in \u001b[0;36meval_routine\u001b[1;34m(DATA_PATH, TEST_PATH, ITEM_FEATURES_PATH, USER_FEATURES_PATH, TEST_SIZE_WEEKS, N_POPULAR_ITEMS, INIT_NUM_RECS, N_FIN_RECS)\u001b[0m\n\u001b[0;32m     16\u001b[0m     \u001b[0muser_bought_history\u001b[0m \u001b[1;33m=\u001b[0m \u001b[0mget_bought_ever_list\u001b[0m\u001b[1;33m(\u001b[0m\u001b[0mdata_train_lvl_1\u001b[0m\u001b[1;33m,\u001b[0m \u001b[0mdata_val_lvl_1\u001b[0m\u001b[1;33m)\u001b[0m\u001b[1;33m\u001b[0m\u001b[1;33m\u001b[0m\u001b[0m\n\u001b[0;32m     17\u001b[0m     \u001b[0mitem_to_commodity\u001b[0m \u001b[1;33m=\u001b[0m  \u001b[0mget_item_commodities_list\u001b[0m\u001b[1;33m(\u001b[0m\u001b[0mitem_features\u001b[0m\u001b[1;33m)\u001b[0m\u001b[1;33m\u001b[0m\u001b[1;33m\u001b[0m\u001b[0m\n\u001b[1;32m---> 18\u001b[1;33m     \u001b[0mrecommender\u001b[0m \u001b[1;33m=\u001b[0m \u001b[0mMainRecommender\u001b[0m\u001b[1;33m(\u001b[0m\u001b[0mdata_train_lvl_1\u001b[0m\u001b[1;33m,\u001b[0m \u001b[0mitemid_to_price\u001b[0m\u001b[1;33m)\u001b[0m\u001b[1;33m\u001b[0m\u001b[1;33m\u001b[0m\u001b[0m\n\u001b[0m\u001b[0;32m     19\u001b[0m     \u001b[0mresult_lvl_1\u001b[0m \u001b[1;33m=\u001b[0m \u001b[0mdata_val_lvl_1\u001b[0m\u001b[1;33m.\u001b[0m\u001b[0mgroupby\u001b[0m\u001b[1;33m(\u001b[0m\u001b[1;34m'user_id'\u001b[0m\u001b[1;33m)\u001b[0m\u001b[1;33m[\u001b[0m\u001b[1;34m'item_id'\u001b[0m\u001b[1;33m]\u001b[0m\u001b[1;33m.\u001b[0m\u001b[0munique\u001b[0m\u001b[1;33m(\u001b[0m\u001b[1;33m)\u001b[0m\u001b[1;33m.\u001b[0m\u001b[0mreset_index\u001b[0m\u001b[1;33m(\u001b[0m\u001b[1;33m)\u001b[0m\u001b[1;33m\u001b[0m\u001b[1;33m\u001b[0m\u001b[0m\n\u001b[0;32m     20\u001b[0m     \u001b[0mresult_lvl_1\u001b[0m\u001b[1;33m.\u001b[0m\u001b[0mcolumns\u001b[0m\u001b[1;33m=\u001b[0m\u001b[1;33m[\u001b[0m\u001b[1;34m'user_id'\u001b[0m\u001b[1;33m,\u001b[0m \u001b[1;34m'actual'\u001b[0m\u001b[1;33m]\u001b[0m\u001b[1;33m\u001b[0m\u001b[1;33m\u001b[0m\u001b[0m\n",
      "\u001b[1;32m<ipython-input-202-e3de3f5cf5c8>\u001b[0m in \u001b[0;36m__init__\u001b[1;34m(self, data, prices, weighting)\u001b[0m\n\u001b[0;32m    192\u001b[0m \u001b[1;33m\u001b[0m\u001b[0m\n\u001b[0;32m    193\u001b[0m         \u001b[0mself\u001b[0m\u001b[1;33m.\u001b[0m\u001b[0mmodel\u001b[0m \u001b[1;33m=\u001b[0m \u001b[0mself\u001b[0m\u001b[1;33m.\u001b[0m\u001b[0mfit\u001b[0m\u001b[1;33m(\u001b[0m\u001b[0mself\u001b[0m\u001b[1;33m.\u001b[0m\u001b[0muser_item_matrix\u001b[0m\u001b[1;33m)\u001b[0m\u001b[1;33m\u001b[0m\u001b[1;33m\u001b[0m\u001b[0m\n\u001b[1;32m--> 194\u001b[1;33m         \u001b[0mself\u001b[0m\u001b[1;33m.\u001b[0m\u001b[0mbpr\u001b[0m \u001b[1;33m=\u001b[0m \u001b[0mself\u001b[0m\u001b[1;33m.\u001b[0m\u001b[0mfit_bpr\u001b[0m\u001b[1;33m(\u001b[0m\u001b[0mself\u001b[0m\u001b[1;33m.\u001b[0m\u001b[0muser_item_matrix\u001b[0m\u001b[1;33m)\u001b[0m\u001b[1;33m\u001b[0m\u001b[1;33m\u001b[0m\u001b[0m\n\u001b[0m\u001b[0;32m    195\u001b[0m         \u001b[0mself\u001b[0m\u001b[1;33m.\u001b[0m\u001b[0mown_recommender\u001b[0m \u001b[1;33m=\u001b[0m \u001b[0mself\u001b[0m\u001b[1;33m.\u001b[0m\u001b[0mfit_own_recommender\u001b[0m\u001b[1;33m(\u001b[0m\u001b[0mself\u001b[0m\u001b[1;33m.\u001b[0m\u001b[0muser_item_matrix\u001b[0m\u001b[1;33m)\u001b[0m\u001b[1;33m\u001b[0m\u001b[1;33m\u001b[0m\u001b[0m\n\u001b[0;32m    196\u001b[0m \u001b[1;33m\u001b[0m\u001b[0m\n",
      "\u001b[1;32m<ipython-input-202-e3de3f5cf5c8>\u001b[0m in \u001b[0;36mfit_bpr\u001b[1;34m(user_item_matrix, n_factors, regularization, iterations, num_threads)\u001b[0m\n\u001b[0;32m    283\u001b[0m                                              \u001b[0miterations\u001b[0m\u001b[1;33m=\u001b[0m\u001b[0miterations\u001b[0m\u001b[1;33m,\u001b[0m\u001b[1;33m\u001b[0m\u001b[1;33m\u001b[0m\u001b[0m\n\u001b[0;32m    284\u001b[0m                                              num_threads=num_threads)\n\u001b[1;32m--> 285\u001b[1;33m         \u001b[0mmodel\u001b[0m\u001b[1;33m.\u001b[0m\u001b[0mfit\u001b[0m\u001b[1;33m(\u001b[0m\u001b[0mcsr_matrix\u001b[0m\u001b[1;33m(\u001b[0m\u001b[0muser_item_matrix\u001b[0m\u001b[1;33m)\u001b[0m\u001b[1;33m.\u001b[0m\u001b[0mT\u001b[0m\u001b[1;33m.\u001b[0m\u001b[0mtocsr\u001b[0m\u001b[1;33m(\u001b[0m\u001b[1;33m)\u001b[0m\u001b[1;33m)\u001b[0m\u001b[1;33m\u001b[0m\u001b[1;33m\u001b[0m\u001b[0m\n\u001b[0m\u001b[0;32m    286\u001b[0m         \u001b[1;32mreturn\u001b[0m \u001b[0mmodel\u001b[0m\u001b[1;33m\u001b[0m\u001b[1;33m\u001b[0m\u001b[0m\n\u001b[0;32m    287\u001b[0m \u001b[1;33m\u001b[0m\u001b[0m\n",
      "\u001b[1;32mimplicit\\bpr.pyx\u001b[0m in \u001b[0;36mimplicit.bpr.BayesianPersonalizedRanking.fit\u001b[1;34m()\u001b[0m\n",
      "\u001b[1;31mUnboundLocalError\u001b[0m: local variable 'vali_item_users' referenced before assignment"
     ]
    }
   ],
   "source": [
    "res = eval_routine(DATA_PATH,\n",
    "                   TEST_PATH,\n",
    "                   ITEM_FEATURES_PATH,\n",
    "                   USER_FEATURES_PATH,\n",
    "                   TEST_SIZE_WEEKS,\n",
    "                   N_POPULAR_ITEMS,\n",
    "                   INIT_NUM_RECS,\n",
    "                   N_FIN_RECS)\n",
    "res  # 0.10219570957759051   # 0.09726113193877858"
   ]
  },
  {
   "cell_type": "code",
   "execution_count": null,
   "metadata": {},
   "outputs": [],
   "source": []
  }
 ],
 "metadata": {
  "kernelspec": {
   "display_name": "Python 3",
   "language": "python",
   "name": "python3"
  },
  "language_info": {
   "codemirror_mode": {
    "name": "ipython",
    "version": 3
   },
   "file_extension": ".py",
   "mimetype": "text/x-python",
   "name": "python",
   "nbconvert_exporter": "python",
   "pygments_lexer": "ipython3",
   "version": "3.7.6"
  }
 },
 "nbformat": 4,
 "nbformat_minor": 2
}
